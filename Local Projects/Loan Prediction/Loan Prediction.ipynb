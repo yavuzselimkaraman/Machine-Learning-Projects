{
 "cells": [
  {
   "cell_type": "markdown",
   "id": "58f50ccd",
   "metadata": {},
   "source": [
    "# Loan Prediction"
   ]
  },
  {
   "cell_type": "markdown",
   "id": "25c5c053",
   "metadata": {},
   "source": [
    "## Importing Necessary Libraries"
   ]
  },
  {
   "cell_type": "code",
   "execution_count": 80,
   "id": "30a4c098",
   "metadata": {},
   "outputs": [],
   "source": [
    "import pandas as pd\n",
    "pd.set_option(\"display.max_columns\",100)\n",
    "\n",
    "import matplotlib.pyplot as plt\n",
    "import seaborn as sns\n",
    "%matplotlib inline\n",
    "\n",
    "import warnings\n",
    "warnings.simplefilter('ignore')"
   ]
  },
  {
   "cell_type": "code",
   "execution_count": 81,
   "id": "04d7a924",
   "metadata": {},
   "outputs": [],
   "source": [
    "from sklearn.naive_bayes import GaussianNB\n",
    "from sklearn.naive_bayes import BernoulliNB\n",
    "\n",
    "from sklearn.neighbors import KNeighborsClassifier\n",
    "from sklearn.svm import SVC\n",
    "\n",
    "from sklearn.tree import DecisionTreeClassifier\n",
    "from sklearn.linear_model import LogisticRegression\n",
    "\n",
    "from sklearn.ensemble import RandomForestClassifier\n",
    "from sklearn.ensemble import GradientBoostingClassifier\n",
    "\n",
    "from xgboost import XGBClassifier\n",
    "\n",
    "from sklearn.model_selection import train_test_split\n",
    "\n",
    "from sklearn.metrics import accuracy_score, precision_score, recall_score, f1_score\n",
    "from sklearn.metrics import confusion_matrix, classification_report"
   ]
  },
  {
   "cell_type": "markdown",
   "id": "0772fa3c",
   "metadata": {},
   "source": [
    "## Loading the Dataset"
   ]
  },
  {
   "cell_type": "code",
   "execution_count": 82,
   "id": "84f4012a",
   "metadata": {},
   "outputs": [],
   "source": [
    "df = pd.read_csv(\"LoansTrainingSet.csv\")"
   ]
  },
  {
   "cell_type": "markdown",
   "id": "2daed106",
   "metadata": {},
   "source": [
    "### EDA"
   ]
  },
  {
   "cell_type": "code",
   "execution_count": 83,
   "id": "38b11f60",
   "metadata": {},
   "outputs": [
    {
     "data": {
      "text/html": [
       "<div>\n",
       "<style scoped>\n",
       "    .dataframe tbody tr th:only-of-type {\n",
       "        vertical-align: middle;\n",
       "    }\n",
       "\n",
       "    .dataframe tbody tr th {\n",
       "        vertical-align: top;\n",
       "    }\n",
       "\n",
       "    .dataframe thead th {\n",
       "        text-align: right;\n",
       "    }\n",
       "</style>\n",
       "<table border=\"1\" class=\"dataframe\">\n",
       "  <thead>\n",
       "    <tr style=\"text-align: right;\">\n",
       "      <th></th>\n",
       "      <th>Loan ID</th>\n",
       "      <th>Customer ID</th>\n",
       "      <th>Loan Status</th>\n",
       "      <th>Current Loan Amount</th>\n",
       "      <th>Term</th>\n",
       "      <th>Credit Score</th>\n",
       "      <th>Years in current job</th>\n",
       "      <th>Home Ownership</th>\n",
       "      <th>Annual Income</th>\n",
       "      <th>Purpose</th>\n",
       "      <th>Monthly Debt</th>\n",
       "      <th>Years of Credit History</th>\n",
       "      <th>Months since last delinquent</th>\n",
       "      <th>Number of Open Accounts</th>\n",
       "      <th>Number of Credit Problems</th>\n",
       "      <th>Current Credit Balance</th>\n",
       "      <th>Maximum Open Credit</th>\n",
       "      <th>Bankruptcies</th>\n",
       "      <th>Tax Liens</th>\n",
       "    </tr>\n",
       "  </thead>\n",
       "  <tbody>\n",
       "    <tr>\n",
       "      <th>117194</th>\n",
       "      <td>7472c638-0a78-4690-afc7-d26ec3b0bbeb</td>\n",
       "      <td>6158dbd5-2b3e-45c0-bc9f-eab498661327</td>\n",
       "      <td>Fully Paid</td>\n",
       "      <td>99999999</td>\n",
       "      <td>Short Term</td>\n",
       "      <td>727.0</td>\n",
       "      <td>6 years</td>\n",
       "      <td>Home Mortgage</td>\n",
       "      <td>31330.0</td>\n",
       "      <td>Debt Consolidation</td>\n",
       "      <td>$472.56</td>\n",
       "      <td>12.5</td>\n",
       "      <td>64.0</td>\n",
       "      <td>5</td>\n",
       "      <td>0</td>\n",
       "      <td>3189</td>\n",
       "      <td>6977</td>\n",
       "      <td>0.0</td>\n",
       "      <td>0.0</td>\n",
       "    </tr>\n",
       "    <tr>\n",
       "      <th>133607</th>\n",
       "      <td>84e83445-81dd-4329-be9f-3a823c1b72ac</td>\n",
       "      <td>8deafc4f-9b4c-4632-8fc3-80d791fc2258</td>\n",
       "      <td>Fully Paid</td>\n",
       "      <td>99999999</td>\n",
       "      <td>Short Term</td>\n",
       "      <td>727.0</td>\n",
       "      <td>10+ years</td>\n",
       "      <td>Rent</td>\n",
       "      <td>79064.0</td>\n",
       "      <td>other</td>\n",
       "      <td>$790.64</td>\n",
       "      <td>19.2</td>\n",
       "      <td>21.0</td>\n",
       "      <td>13</td>\n",
       "      <td>0</td>\n",
       "      <td>3303</td>\n",
       "      <td>8405</td>\n",
       "      <td>0.0</td>\n",
       "      <td>0.0</td>\n",
       "    </tr>\n",
       "    <tr>\n",
       "      <th>61306</th>\n",
       "      <td>3cff27ee-9b7b-4798-af29-7672891a6f39</td>\n",
       "      <td>eab147dd-362e-48aa-a1c6-c8ae3d345d8f</td>\n",
       "      <td>Fully Paid</td>\n",
       "      <td>15565</td>\n",
       "      <td>Short Term</td>\n",
       "      <td>677.0</td>\n",
       "      <td>&lt; 1 year</td>\n",
       "      <td>Rent</td>\n",
       "      <td>55589.0</td>\n",
       "      <td>Home Improvements</td>\n",
       "      <td>$1,436.03</td>\n",
       "      <td>9.0</td>\n",
       "      <td>23.0</td>\n",
       "      <td>14</td>\n",
       "      <td>1</td>\n",
       "      <td>3401</td>\n",
       "      <td>19000</td>\n",
       "      <td>1.0</td>\n",
       "      <td>0.0</td>\n",
       "    </tr>\n",
       "    <tr>\n",
       "      <th>176854</th>\n",
       "      <td>afcc304a-d474-4a64-8ff5-794360d50dd9</td>\n",
       "      <td>c6f8b285-d868-4e94-a47e-47487a12c83c</td>\n",
       "      <td>Charged Off</td>\n",
       "      <td>11312</td>\n",
       "      <td>Short Term</td>\n",
       "      <td>730.0</td>\n",
       "      <td>3 years</td>\n",
       "      <td>Home Mortgage</td>\n",
       "      <td>51510.0</td>\n",
       "      <td>Debt Consolidation</td>\n",
       "      <td>$145.52</td>\n",
       "      <td>19.5</td>\n",
       "      <td>79.0</td>\n",
       "      <td>5</td>\n",
       "      <td>0</td>\n",
       "      <td>5993</td>\n",
       "      <td>11504</td>\n",
       "      <td>0.0</td>\n",
       "      <td>0.0</td>\n",
       "    </tr>\n",
       "    <tr>\n",
       "      <th>42049</th>\n",
       "      <td>29dc34fa-b3fe-4e32-ae83-967a228459b7</td>\n",
       "      <td>203c5856-5b0e-4a16-b067-0afd54247512</td>\n",
       "      <td>Charged Off</td>\n",
       "      <td>30637</td>\n",
       "      <td>Long Term</td>\n",
       "      <td>NaN</td>\n",
       "      <td>2 years</td>\n",
       "      <td>Own Home</td>\n",
       "      <td>NaN</td>\n",
       "      <td>Debt Consolidation</td>\n",
       "      <td>$2,129.81</td>\n",
       "      <td>15.8</td>\n",
       "      <td>NaN</td>\n",
       "      <td>15</td>\n",
       "      <td>0</td>\n",
       "      <td>14036</td>\n",
       "      <td>15526</td>\n",
       "      <td>0.0</td>\n",
       "      <td>0.0</td>\n",
       "    </tr>\n",
       "    <tr>\n",
       "      <th>171929</th>\n",
       "      <td>aaf0a482-b7e9-4bb4-b72b-6a8549fa7e13</td>\n",
       "      <td>18d71d5c-77e7-475a-989b-f4e6aa775483</td>\n",
       "      <td>Fully Paid</td>\n",
       "      <td>6717</td>\n",
       "      <td>Short Term</td>\n",
       "      <td>724.0</td>\n",
       "      <td>6 years</td>\n",
       "      <td>Rent</td>\n",
       "      <td>45117.0</td>\n",
       "      <td>Debt Consolidation</td>\n",
       "      <td>$1,026.41</td>\n",
       "      <td>7.7</td>\n",
       "      <td>26.0</td>\n",
       "      <td>11</td>\n",
       "      <td>0</td>\n",
       "      <td>4637</td>\n",
       "      <td>8023</td>\n",
       "      <td>0.0</td>\n",
       "      <td>0.0</td>\n",
       "    </tr>\n",
       "    <tr>\n",
       "      <th>209413</th>\n",
       "      <td>d06e3947-59b6-4f05-9de5-27195a3a0091</td>\n",
       "      <td>1de82251-6fa4-4a79-a3dd-39d03f6b0452</td>\n",
       "      <td>Fully Paid</td>\n",
       "      <td>31015</td>\n",
       "      <td>Short Term</td>\n",
       "      <td>748.0</td>\n",
       "      <td>2 years</td>\n",
       "      <td>Home Mortgage</td>\n",
       "      <td>181008.0</td>\n",
       "      <td>Debt Consolidation</td>\n",
       "      <td>$2,926.30</td>\n",
       "      <td>13.9</td>\n",
       "      <td>8.0</td>\n",
       "      <td>14</td>\n",
       "      <td>0</td>\n",
       "      <td>15351</td>\n",
       "      <td>90301</td>\n",
       "      <td>0.0</td>\n",
       "      <td>0.0</td>\n",
       "    </tr>\n",
       "    <tr>\n",
       "      <th>142731</th>\n",
       "      <td>8df0d85c-bf7b-4257-91a3-08e98f950dea</td>\n",
       "      <td>96f794a4-5896-4b3b-b84f-c838b1dc1ec4</td>\n",
       "      <td>Fully Paid</td>\n",
       "      <td>14660</td>\n",
       "      <td>Short Term</td>\n",
       "      <td>735.0</td>\n",
       "      <td>10+ years</td>\n",
       "      <td>Home Mortgage</td>\n",
       "      <td>78184.0</td>\n",
       "      <td>Debt Consolidation</td>\n",
       "      <td>$185.69</td>\n",
       "      <td>13.5</td>\n",
       "      <td>54.0</td>\n",
       "      <td>8</td>\n",
       "      <td>0</td>\n",
       "      <td>7598</td>\n",
       "      <td>20702</td>\n",
       "      <td>0.0</td>\n",
       "      <td>0.0</td>\n",
       "    </tr>\n",
       "    <tr>\n",
       "      <th>4230</th>\n",
       "      <td>044936df-7cc4-4f00-990d-7a7cd9d98800</td>\n",
       "      <td>a89915b8-b53b-4073-8865-9842334d7625</td>\n",
       "      <td>Fully Paid</td>\n",
       "      <td>99999999</td>\n",
       "      <td>Long Term</td>\n",
       "      <td>693.0</td>\n",
       "      <td>7 years</td>\n",
       "      <td>Home Mortgage</td>\n",
       "      <td>75068.0</td>\n",
       "      <td>Debt Consolidation</td>\n",
       "      <td>$794.46</td>\n",
       "      <td>25.3</td>\n",
       "      <td>NaN</td>\n",
       "      <td>15</td>\n",
       "      <td>0</td>\n",
       "      <td>32620</td>\n",
       "      <td>53564</td>\n",
       "      <td>0.0</td>\n",
       "      <td>0.0</td>\n",
       "    </tr>\n",
       "    <tr>\n",
       "      <th>9470</th>\n",
       "      <td>097292e1-5fbf-4f74-bbf2-313fc98b0dca</td>\n",
       "      <td>ca9c7df9-35be-4da0-93a5-ae521fee56a9</td>\n",
       "      <td>Charged Off</td>\n",
       "      <td>3972</td>\n",
       "      <td>Short Term</td>\n",
       "      <td>7440.0</td>\n",
       "      <td>10+ years</td>\n",
       "      <td>Home Mortgage</td>\n",
       "      <td>79448.0</td>\n",
       "      <td>Debt Consolidation</td>\n",
       "      <td>$545.54</td>\n",
       "      <td>34.0</td>\n",
       "      <td>NaN</td>\n",
       "      <td>12</td>\n",
       "      <td>0</td>\n",
       "      <td>26210</td>\n",
       "      <td>52316</td>\n",
       "      <td>0.0</td>\n",
       "      <td>0.0</td>\n",
       "    </tr>\n",
       "  </tbody>\n",
       "</table>\n",
       "</div>"
      ],
      "text/plain": [
       "                                     Loan ID  \\\n",
       "117194  7472c638-0a78-4690-afc7-d26ec3b0bbeb   \n",
       "133607  84e83445-81dd-4329-be9f-3a823c1b72ac   \n",
       "61306   3cff27ee-9b7b-4798-af29-7672891a6f39   \n",
       "176854  afcc304a-d474-4a64-8ff5-794360d50dd9   \n",
       "42049   29dc34fa-b3fe-4e32-ae83-967a228459b7   \n",
       "171929  aaf0a482-b7e9-4bb4-b72b-6a8549fa7e13   \n",
       "209413  d06e3947-59b6-4f05-9de5-27195a3a0091   \n",
       "142731  8df0d85c-bf7b-4257-91a3-08e98f950dea   \n",
       "4230    044936df-7cc4-4f00-990d-7a7cd9d98800   \n",
       "9470    097292e1-5fbf-4f74-bbf2-313fc98b0dca   \n",
       "\n",
       "                                 Customer ID  Loan Status  \\\n",
       "117194  6158dbd5-2b3e-45c0-bc9f-eab498661327   Fully Paid   \n",
       "133607  8deafc4f-9b4c-4632-8fc3-80d791fc2258   Fully Paid   \n",
       "61306   eab147dd-362e-48aa-a1c6-c8ae3d345d8f   Fully Paid   \n",
       "176854  c6f8b285-d868-4e94-a47e-47487a12c83c  Charged Off   \n",
       "42049   203c5856-5b0e-4a16-b067-0afd54247512  Charged Off   \n",
       "171929  18d71d5c-77e7-475a-989b-f4e6aa775483   Fully Paid   \n",
       "209413  1de82251-6fa4-4a79-a3dd-39d03f6b0452   Fully Paid   \n",
       "142731  96f794a4-5896-4b3b-b84f-c838b1dc1ec4   Fully Paid   \n",
       "4230    a89915b8-b53b-4073-8865-9842334d7625   Fully Paid   \n",
       "9470    ca9c7df9-35be-4da0-93a5-ae521fee56a9  Charged Off   \n",
       "\n",
       "        Current Loan Amount        Term  Credit Score Years in current job  \\\n",
       "117194             99999999  Short Term         727.0              6 years   \n",
       "133607             99999999  Short Term         727.0            10+ years   \n",
       "61306                 15565  Short Term         677.0             < 1 year   \n",
       "176854                11312  Short Term         730.0              3 years   \n",
       "42049                 30637   Long Term           NaN              2 years   \n",
       "171929                 6717  Short Term         724.0              6 years   \n",
       "209413                31015  Short Term         748.0              2 years   \n",
       "142731                14660  Short Term         735.0            10+ years   \n",
       "4230               99999999   Long Term         693.0              7 years   \n",
       "9470                   3972  Short Term        7440.0            10+ years   \n",
       "\n",
       "       Home Ownership  Annual Income             Purpose Monthly Debt  \\\n",
       "117194  Home Mortgage        31330.0  Debt Consolidation      $472.56   \n",
       "133607           Rent        79064.0               other      $790.64   \n",
       "61306            Rent        55589.0   Home Improvements   $1,436.03    \n",
       "176854  Home Mortgage        51510.0  Debt Consolidation      $145.52   \n",
       "42049        Own Home            NaN  Debt Consolidation   $2,129.81    \n",
       "171929           Rent        45117.0  Debt Consolidation   $1,026.41    \n",
       "209413  Home Mortgage       181008.0  Debt Consolidation   $2,926.30    \n",
       "142731  Home Mortgage        78184.0  Debt Consolidation      $185.69   \n",
       "4230    Home Mortgage        75068.0  Debt Consolidation      $794.46   \n",
       "9470    Home Mortgage        79448.0  Debt Consolidation      $545.54   \n",
       "\n",
       "        Years of Credit History  Months since last delinquent  \\\n",
       "117194                     12.5                          64.0   \n",
       "133607                     19.2                          21.0   \n",
       "61306                       9.0                          23.0   \n",
       "176854                     19.5                          79.0   \n",
       "42049                      15.8                           NaN   \n",
       "171929                      7.7                          26.0   \n",
       "209413                     13.9                           8.0   \n",
       "142731                     13.5                          54.0   \n",
       "4230                       25.3                           NaN   \n",
       "9470                       34.0                           NaN   \n",
       "\n",
       "        Number of Open Accounts  Number of Credit Problems  \\\n",
       "117194                        5                          0   \n",
       "133607                       13                          0   \n",
       "61306                        14                          1   \n",
       "176854                        5                          0   \n",
       "42049                        15                          0   \n",
       "171929                       11                          0   \n",
       "209413                       14                          0   \n",
       "142731                        8                          0   \n",
       "4230                         15                          0   \n",
       "9470                         12                          0   \n",
       "\n",
       "        Current Credit Balance Maximum Open Credit  Bankruptcies  Tax Liens  \n",
       "117194                    3189                6977           0.0        0.0  \n",
       "133607                    3303                8405           0.0        0.0  \n",
       "61306                     3401               19000           1.0        0.0  \n",
       "176854                    5993               11504           0.0        0.0  \n",
       "42049                    14036               15526           0.0        0.0  \n",
       "171929                    4637                8023           0.0        0.0  \n",
       "209413                   15351               90301           0.0        0.0  \n",
       "142731                    7598               20702           0.0        0.0  \n",
       "4230                     32620               53564           0.0        0.0  \n",
       "9470                     26210               52316           0.0        0.0  "
      ]
     },
     "execution_count": 83,
     "metadata": {},
     "output_type": "execute_result"
    }
   ],
   "source": [
    "df.sample(10)"
   ]
  },
  {
   "cell_type": "code",
   "execution_count": 84,
   "id": "bc6f4e78",
   "metadata": {},
   "outputs": [
    {
     "data": {
      "text/plain": [
       "(256984, 19)"
      ]
     },
     "execution_count": 84,
     "metadata": {},
     "output_type": "execute_result"
    }
   ],
   "source": [
    "df.shape"
   ]
  },
  {
   "cell_type": "code",
   "execution_count": 85,
   "id": "ef5a5861",
   "metadata": {},
   "outputs": [
    {
     "name": "stdout",
     "output_type": "stream",
     "text": [
      "<class 'pandas.core.frame.DataFrame'>\n",
      "RangeIndex: 256984 entries, 0 to 256983\n",
      "Data columns (total 19 columns):\n",
      " #   Column                        Non-Null Count   Dtype  \n",
      "---  ------                        --------------   -----  \n",
      " 0   Loan ID                       256984 non-null  object \n",
      " 1   Customer ID                   256984 non-null  object \n",
      " 2   Loan Status                   256984 non-null  object \n",
      " 3   Current Loan Amount           256984 non-null  int64  \n",
      " 4   Term                          256984 non-null  object \n",
      " 5   Credit Score                  195308 non-null  float64\n",
      " 6   Years in current job          245508 non-null  object \n",
      " 7   Home Ownership                256984 non-null  object \n",
      " 8   Annual Income                 195308 non-null  float64\n",
      " 9   Purpose                       256984 non-null  object \n",
      " 10  Monthly Debt                  256984 non-null  object \n",
      " 11  Years of Credit History       256984 non-null  float64\n",
      " 12  Months since last delinquent  116601 non-null  float64\n",
      " 13  Number of Open Accounts       256984 non-null  int64  \n",
      " 14  Number of Credit Problems     256984 non-null  int64  \n",
      " 15  Current Credit Balance        256984 non-null  int64  \n",
      " 16  Maximum Open Credit           256984 non-null  object \n",
      " 17  Bankruptcies                  256455 non-null  float64\n",
      " 18  Tax Liens                     256961 non-null  float64\n",
      "dtypes: float64(6), int64(4), object(9)\n",
      "memory usage: 37.3+ MB\n"
     ]
    }
   ],
   "source": [
    "df.info()"
   ]
  },
  {
   "cell_type": "code",
   "execution_count": 86,
   "id": "3f808f0b",
   "metadata": {},
   "outputs": [
    {
     "data": {
      "text/plain": [
       "Loan ID                              0\n",
       "Customer ID                          0\n",
       "Loan Status                          0\n",
       "Current Loan Amount                  0\n",
       "Term                                 0\n",
       "Credit Score                     61676\n",
       "Years in current job             11476\n",
       "Home Ownership                       0\n",
       "Annual Income                    61676\n",
       "Purpose                              0\n",
       "Monthly Debt                         0\n",
       "Years of Credit History              0\n",
       "Months since last delinquent    140383\n",
       "Number of Open Accounts              0\n",
       "Number of Credit Problems            0\n",
       "Current Credit Balance               0\n",
       "Maximum Open Credit                  0\n",
       "Bankruptcies                       529\n",
       "Tax Liens                           23\n",
       "dtype: int64"
      ]
     },
     "execution_count": 86,
     "metadata": {},
     "output_type": "execute_result"
    }
   ],
   "source": [
    "df.isnull().sum()"
   ]
  },
  {
   "cell_type": "code",
   "execution_count": 87,
   "id": "3381bdf0",
   "metadata": {},
   "outputs": [
    {
     "data": {
      "text/html": [
       "<div>\n",
       "<style scoped>\n",
       "    .dataframe tbody tr th:only-of-type {\n",
       "        vertical-align: middle;\n",
       "    }\n",
       "\n",
       "    .dataframe tbody tr th {\n",
       "        vertical-align: top;\n",
       "    }\n",
       "\n",
       "    .dataframe thead th {\n",
       "        text-align: right;\n",
       "    }\n",
       "</style>\n",
       "<table border=\"1\" class=\"dataframe\">\n",
       "  <thead>\n",
       "    <tr style=\"text-align: right;\">\n",
       "      <th></th>\n",
       "      <th>Current Loan Amount</th>\n",
       "      <th>Credit Score</th>\n",
       "      <th>Annual Income</th>\n",
       "      <th>Years of Credit History</th>\n",
       "      <th>Months since last delinquent</th>\n",
       "      <th>Number of Open Accounts</th>\n",
       "      <th>Number of Credit Problems</th>\n",
       "      <th>Current Credit Balance</th>\n",
       "      <th>Bankruptcies</th>\n",
       "      <th>Tax Liens</th>\n",
       "    </tr>\n",
       "  </thead>\n",
       "  <tbody>\n",
       "    <tr>\n",
       "      <th>count</th>\n",
       "      <td>2.569840e+05</td>\n",
       "      <td>195308.000000</td>\n",
       "      <td>1.953080e+05</td>\n",
       "      <td>256984.000000</td>\n",
       "      <td>116601.000000</td>\n",
       "      <td>256984.000000</td>\n",
       "      <td>256984.000000</td>\n",
       "      <td>2.569840e+05</td>\n",
       "      <td>256455.000000</td>\n",
       "      <td>256961.000000</td>\n",
       "    </tr>\n",
       "    <tr>\n",
       "      <th>mean</th>\n",
       "      <td>1.371331e+07</td>\n",
       "      <td>1251.116099</td>\n",
       "      <td>7.195272e+04</td>\n",
       "      <td>18.290195</td>\n",
       "      <td>34.881450</td>\n",
       "      <td>11.106267</td>\n",
       "      <td>0.156628</td>\n",
       "      <td>1.540656e+04</td>\n",
       "      <td>0.110316</td>\n",
       "      <td>0.027203</td>\n",
       "    </tr>\n",
       "    <tr>\n",
       "      <th>std</th>\n",
       "      <td>3.438131e+07</td>\n",
       "      <td>1762.016848</td>\n",
       "      <td>5.887757e+04</td>\n",
       "      <td>7.075747</td>\n",
       "      <td>21.854165</td>\n",
       "      <td>4.982982</td>\n",
       "      <td>0.460731</td>\n",
       "      <td>1.966506e+04</td>\n",
       "      <td>0.336229</td>\n",
       "      <td>0.245950</td>\n",
       "    </tr>\n",
       "    <tr>\n",
       "      <th>min</th>\n",
       "      <td>5.050000e+02</td>\n",
       "      <td>585.000000</td>\n",
       "      <td>0.000000e+00</td>\n",
       "      <td>3.400000</td>\n",
       "      <td>0.000000</td>\n",
       "      <td>0.000000</td>\n",
       "      <td>0.000000</td>\n",
       "      <td>0.000000e+00</td>\n",
       "      <td>0.000000</td>\n",
       "      <td>0.000000</td>\n",
       "    </tr>\n",
       "    <tr>\n",
       "      <th>25%</th>\n",
       "      <td>8.299000e+03</td>\n",
       "      <td>714.000000</td>\n",
       "      <td>4.432100e+04</td>\n",
       "      <td>13.500000</td>\n",
       "      <td>16.000000</td>\n",
       "      <td>8.000000</td>\n",
       "      <td>0.000000</td>\n",
       "      <td>5.974000e+03</td>\n",
       "      <td>0.000000</td>\n",
       "      <td>0.000000</td>\n",
       "    </tr>\n",
       "    <tr>\n",
       "      <th>50%</th>\n",
       "      <td>1.429800e+04</td>\n",
       "      <td>733.000000</td>\n",
       "      <td>6.124200e+04</td>\n",
       "      <td>17.000000</td>\n",
       "      <td>32.000000</td>\n",
       "      <td>10.000000</td>\n",
       "      <td>0.000000</td>\n",
       "      <td>1.107800e+04</td>\n",
       "      <td>0.000000</td>\n",
       "      <td>0.000000</td>\n",
       "    </tr>\n",
       "    <tr>\n",
       "      <th>75%</th>\n",
       "      <td>2.436700e+04</td>\n",
       "      <td>744.000000</td>\n",
       "      <td>8.646200e+04</td>\n",
       "      <td>21.700000</td>\n",
       "      <td>51.000000</td>\n",
       "      <td>14.000000</td>\n",
       "      <td>0.000000</td>\n",
       "      <td>1.931900e+04</td>\n",
       "      <td>0.000000</td>\n",
       "      <td>0.000000</td>\n",
       "    </tr>\n",
       "    <tr>\n",
       "      <th>max</th>\n",
       "      <td>1.000000e+08</td>\n",
       "      <td>7510.000000</td>\n",
       "      <td>8.713547e+06</td>\n",
       "      <td>70.500000</td>\n",
       "      <td>176.000000</td>\n",
       "      <td>76.000000</td>\n",
       "      <td>11.000000</td>\n",
       "      <td>1.731412e+06</td>\n",
       "      <td>7.000000</td>\n",
       "      <td>11.000000</td>\n",
       "    </tr>\n",
       "  </tbody>\n",
       "</table>\n",
       "</div>"
      ],
      "text/plain": [
       "       Current Loan Amount   Credit Score  Annual Income  \\\n",
       "count         2.569840e+05  195308.000000   1.953080e+05   \n",
       "mean          1.371331e+07    1251.116099   7.195272e+04   \n",
       "std           3.438131e+07    1762.016848   5.887757e+04   \n",
       "min           5.050000e+02     585.000000   0.000000e+00   \n",
       "25%           8.299000e+03     714.000000   4.432100e+04   \n",
       "50%           1.429800e+04     733.000000   6.124200e+04   \n",
       "75%           2.436700e+04     744.000000   8.646200e+04   \n",
       "max           1.000000e+08    7510.000000   8.713547e+06   \n",
       "\n",
       "       Years of Credit History  Months since last delinquent  \\\n",
       "count            256984.000000                 116601.000000   \n",
       "mean                 18.290195                     34.881450   \n",
       "std                   7.075747                     21.854165   \n",
       "min                   3.400000                      0.000000   \n",
       "25%                  13.500000                     16.000000   \n",
       "50%                  17.000000                     32.000000   \n",
       "75%                  21.700000                     51.000000   \n",
       "max                  70.500000                    176.000000   \n",
       "\n",
       "       Number of Open Accounts  Number of Credit Problems  \\\n",
       "count            256984.000000              256984.000000   \n",
       "mean                 11.106267                   0.156628   \n",
       "std                   4.982982                   0.460731   \n",
       "min                   0.000000                   0.000000   \n",
       "25%                   8.000000                   0.000000   \n",
       "50%                  10.000000                   0.000000   \n",
       "75%                  14.000000                   0.000000   \n",
       "max                  76.000000                  11.000000   \n",
       "\n",
       "       Current Credit Balance   Bankruptcies      Tax Liens  \n",
       "count            2.569840e+05  256455.000000  256961.000000  \n",
       "mean             1.540656e+04       0.110316       0.027203  \n",
       "std              1.966506e+04       0.336229       0.245950  \n",
       "min              0.000000e+00       0.000000       0.000000  \n",
       "25%              5.974000e+03       0.000000       0.000000  \n",
       "50%              1.107800e+04       0.000000       0.000000  \n",
       "75%              1.931900e+04       0.000000       0.000000  \n",
       "max              1.731412e+06       7.000000      11.000000  "
      ]
     },
     "execution_count": 87,
     "metadata": {},
     "output_type": "execute_result"
    }
   ],
   "source": [
    "df.describe()"
   ]
  },
  {
   "cell_type": "code",
   "execution_count": 88,
   "id": "c3c7c333",
   "metadata": {},
   "outputs": [
    {
     "data": {
      "text/html": [
       "<div>\n",
       "<style scoped>\n",
       "    .dataframe tbody tr th:only-of-type {\n",
       "        vertical-align: middle;\n",
       "    }\n",
       "\n",
       "    .dataframe tbody tr th {\n",
       "        vertical-align: top;\n",
       "    }\n",
       "\n",
       "    .dataframe thead th {\n",
       "        text-align: right;\n",
       "    }\n",
       "</style>\n",
       "<table border=\"1\" class=\"dataframe\">\n",
       "  <thead>\n",
       "    <tr style=\"text-align: right;\">\n",
       "      <th></th>\n",
       "      <th>Current Loan Amount</th>\n",
       "      <th>Credit Score</th>\n",
       "      <th>Annual Income</th>\n",
       "      <th>Years of Credit History</th>\n",
       "      <th>Months since last delinquent</th>\n",
       "      <th>Number of Open Accounts</th>\n",
       "      <th>Number of Credit Problems</th>\n",
       "      <th>Current Credit Balance</th>\n",
       "      <th>Bankruptcies</th>\n",
       "      <th>Tax Liens</th>\n",
       "    </tr>\n",
       "  </thead>\n",
       "  <tbody>\n",
       "    <tr>\n",
       "      <th>Current Loan Amount</th>\n",
       "      <td>1.000000</td>\n",
       "      <td>-0.139743</td>\n",
       "      <td>0.024069</td>\n",
       "      <td>0.014725</td>\n",
       "      <td>0.003488</td>\n",
       "      <td>-0.003094</td>\n",
       "      <td>-0.000062</td>\n",
       "      <td>0.003138</td>\n",
       "      <td>0.003576</td>\n",
       "      <td>-0.003069</td>\n",
       "    </tr>\n",
       "    <tr>\n",
       "      <th>Credit Score</th>\n",
       "      <td>-0.139743</td>\n",
       "      <td>1.000000</td>\n",
       "      <td>-0.033221</td>\n",
       "      <td>-0.011658</td>\n",
       "      <td>-0.007994</td>\n",
       "      <td>0.008124</td>\n",
       "      <td>0.000777</td>\n",
       "      <td>-0.003263</td>\n",
       "      <td>-0.003426</td>\n",
       "      <td>0.004381</td>\n",
       "    </tr>\n",
       "    <tr>\n",
       "      <th>Annual Income</th>\n",
       "      <td>0.024069</td>\n",
       "      <td>-0.033221</td>\n",
       "      <td>1.000000</td>\n",
       "      <td>0.146859</td>\n",
       "      <td>-0.059675</td>\n",
       "      <td>0.140463</td>\n",
       "      <td>-0.013672</td>\n",
       "      <td>0.292165</td>\n",
       "      <td>-0.044837</td>\n",
       "      <td>0.038185</td>\n",
       "    </tr>\n",
       "    <tr>\n",
       "      <th>Years of Credit History</th>\n",
       "      <td>0.014725</td>\n",
       "      <td>-0.011658</td>\n",
       "      <td>0.146859</td>\n",
       "      <td>1.000000</td>\n",
       "      <td>-0.039695</td>\n",
       "      <td>0.128033</td>\n",
       "      <td>0.061251</td>\n",
       "      <td>0.201001</td>\n",
       "      <td>0.062049</td>\n",
       "      <td>0.020915</td>\n",
       "    </tr>\n",
       "    <tr>\n",
       "      <th>Months since last delinquent</th>\n",
       "      <td>0.003488</td>\n",
       "      <td>-0.007994</td>\n",
       "      <td>-0.059675</td>\n",
       "      <td>-0.039695</td>\n",
       "      <td>1.000000</td>\n",
       "      <td>-0.035803</td>\n",
       "      <td>0.088612</td>\n",
       "      <td>-0.024292</td>\n",
       "      <td>0.112907</td>\n",
       "      <td>0.002730</td>\n",
       "    </tr>\n",
       "    <tr>\n",
       "      <th>Number of Open Accounts</th>\n",
       "      <td>-0.003094</td>\n",
       "      <td>0.008124</td>\n",
       "      <td>0.140463</td>\n",
       "      <td>0.128033</td>\n",
       "      <td>-0.035803</td>\n",
       "      <td>1.000000</td>\n",
       "      <td>-0.013731</td>\n",
       "      <td>0.222763</td>\n",
       "      <td>-0.022805</td>\n",
       "      <td>0.005754</td>\n",
       "    </tr>\n",
       "    <tr>\n",
       "      <th>Number of Credit Problems</th>\n",
       "      <td>-0.000062</td>\n",
       "      <td>0.000777</td>\n",
       "      <td>-0.013672</td>\n",
       "      <td>0.061251</td>\n",
       "      <td>0.088612</td>\n",
       "      <td>-0.013731</td>\n",
       "      <td>1.000000</td>\n",
       "      <td>-0.103814</td>\n",
       "      <td>0.755866</td>\n",
       "      <td>0.584917</td>\n",
       "    </tr>\n",
       "    <tr>\n",
       "      <th>Current Credit Balance</th>\n",
       "      <td>0.003138</td>\n",
       "      <td>-0.003263</td>\n",
       "      <td>0.292165</td>\n",
       "      <td>0.201001</td>\n",
       "      <td>-0.024292</td>\n",
       "      <td>0.222763</td>\n",
       "      <td>-0.103814</td>\n",
       "      <td>1.000000</td>\n",
       "      <td>-0.117995</td>\n",
       "      <td>-0.011118</td>\n",
       "    </tr>\n",
       "    <tr>\n",
       "      <th>Bankruptcies</th>\n",
       "      <td>0.003576</td>\n",
       "      <td>-0.003426</td>\n",
       "      <td>-0.044837</td>\n",
       "      <td>0.062049</td>\n",
       "      <td>0.112907</td>\n",
       "      <td>-0.022805</td>\n",
       "      <td>0.755866</td>\n",
       "      <td>-0.117995</td>\n",
       "      <td>1.000000</td>\n",
       "      <td>0.046160</td>\n",
       "    </tr>\n",
       "    <tr>\n",
       "      <th>Tax Liens</th>\n",
       "      <td>-0.003069</td>\n",
       "      <td>0.004381</td>\n",
       "      <td>0.038185</td>\n",
       "      <td>0.020915</td>\n",
       "      <td>0.002730</td>\n",
       "      <td>0.005754</td>\n",
       "      <td>0.584917</td>\n",
       "      <td>-0.011118</td>\n",
       "      <td>0.046160</td>\n",
       "      <td>1.000000</td>\n",
       "    </tr>\n",
       "  </tbody>\n",
       "</table>\n",
       "</div>"
      ],
      "text/plain": [
       "                              Current Loan Amount  Credit Score  \\\n",
       "Current Loan Amount                      1.000000     -0.139743   \n",
       "Credit Score                            -0.139743      1.000000   \n",
       "Annual Income                            0.024069     -0.033221   \n",
       "Years of Credit History                  0.014725     -0.011658   \n",
       "Months since last delinquent             0.003488     -0.007994   \n",
       "Number of Open Accounts                 -0.003094      0.008124   \n",
       "Number of Credit Problems               -0.000062      0.000777   \n",
       "Current Credit Balance                   0.003138     -0.003263   \n",
       "Bankruptcies                             0.003576     -0.003426   \n",
       "Tax Liens                               -0.003069      0.004381   \n",
       "\n",
       "                              Annual Income  Years of Credit History  \\\n",
       "Current Loan Amount                0.024069                 0.014725   \n",
       "Credit Score                      -0.033221                -0.011658   \n",
       "Annual Income                      1.000000                 0.146859   \n",
       "Years of Credit History            0.146859                 1.000000   \n",
       "Months since last delinquent      -0.059675                -0.039695   \n",
       "Number of Open Accounts            0.140463                 0.128033   \n",
       "Number of Credit Problems         -0.013672                 0.061251   \n",
       "Current Credit Balance             0.292165                 0.201001   \n",
       "Bankruptcies                      -0.044837                 0.062049   \n",
       "Tax Liens                          0.038185                 0.020915   \n",
       "\n",
       "                              Months since last delinquent  \\\n",
       "Current Loan Amount                               0.003488   \n",
       "Credit Score                                     -0.007994   \n",
       "Annual Income                                    -0.059675   \n",
       "Years of Credit History                          -0.039695   \n",
       "Months since last delinquent                      1.000000   \n",
       "Number of Open Accounts                          -0.035803   \n",
       "Number of Credit Problems                         0.088612   \n",
       "Current Credit Balance                           -0.024292   \n",
       "Bankruptcies                                      0.112907   \n",
       "Tax Liens                                         0.002730   \n",
       "\n",
       "                              Number of Open Accounts  \\\n",
       "Current Loan Amount                         -0.003094   \n",
       "Credit Score                                 0.008124   \n",
       "Annual Income                                0.140463   \n",
       "Years of Credit History                      0.128033   \n",
       "Months since last delinquent                -0.035803   \n",
       "Number of Open Accounts                      1.000000   \n",
       "Number of Credit Problems                   -0.013731   \n",
       "Current Credit Balance                       0.222763   \n",
       "Bankruptcies                                -0.022805   \n",
       "Tax Liens                                    0.005754   \n",
       "\n",
       "                              Number of Credit Problems  \\\n",
       "Current Loan Amount                           -0.000062   \n",
       "Credit Score                                   0.000777   \n",
       "Annual Income                                 -0.013672   \n",
       "Years of Credit History                        0.061251   \n",
       "Months since last delinquent                   0.088612   \n",
       "Number of Open Accounts                       -0.013731   \n",
       "Number of Credit Problems                      1.000000   \n",
       "Current Credit Balance                        -0.103814   \n",
       "Bankruptcies                                   0.755866   \n",
       "Tax Liens                                      0.584917   \n",
       "\n",
       "                              Current Credit Balance  Bankruptcies  Tax Liens  \n",
       "Current Loan Amount                         0.003138      0.003576  -0.003069  \n",
       "Credit Score                               -0.003263     -0.003426   0.004381  \n",
       "Annual Income                               0.292165     -0.044837   0.038185  \n",
       "Years of Credit History                     0.201001      0.062049   0.020915  \n",
       "Months since last delinquent               -0.024292      0.112907   0.002730  \n",
       "Number of Open Accounts                     0.222763     -0.022805   0.005754  \n",
       "Number of Credit Problems                  -0.103814      0.755866   0.584917  \n",
       "Current Credit Balance                      1.000000     -0.117995  -0.011118  \n",
       "Bankruptcies                               -0.117995      1.000000   0.046160  \n",
       "Tax Liens                                  -0.011118      0.046160   1.000000  "
      ]
     },
     "execution_count": 88,
     "metadata": {},
     "output_type": "execute_result"
    }
   ],
   "source": [
    "df.corr()"
   ]
  },
  {
   "cell_type": "code",
   "execution_count": 89,
   "id": "c045c9b6",
   "metadata": {},
   "outputs": [
    {
     "data": {
      "text/plain": [
       "Credit Score                    1.000000\n",
       "Current Loan Amount             0.139743\n",
       "Annual Income                   0.033221\n",
       "Years of Credit History         0.011658\n",
       "Number of Open Accounts         0.008124\n",
       "Months since last delinquent    0.007994\n",
       "Tax Liens                       0.004381\n",
       "Bankruptcies                    0.003426\n",
       "Current Credit Balance          0.003263\n",
       "Number of Credit Problems       0.000777\n",
       "Name: Credit Score, dtype: float64"
      ]
     },
     "execution_count": 89,
     "metadata": {},
     "output_type": "execute_result"
    }
   ],
   "source": [
    "# correlation matrix ranking\n",
    "abs(df.corr()[\"Credit Score\"]).sort_values(ascending = False)"
   ]
  },
  {
   "cell_type": "code",
   "execution_count": 90,
   "id": "e1c02295",
   "metadata": {},
   "outputs": [
    {
     "data": {
      "text/plain": [
       "Fully Paid     176191\n",
       "Charged Off     80793\n",
       "Name: Loan Status, dtype: int64"
      ]
     },
     "execution_count": 90,
     "metadata": {},
     "output_type": "execute_result"
    }
   ],
   "source": [
    "df[\"Loan Status\"].value_counts()"
   ]
  },
  {
   "cell_type": "code",
   "execution_count": 91,
   "id": "694f9e2d",
   "metadata": {},
   "outputs": [
    {
     "data": {
      "text/plain": [
       "<AxesSubplot:ylabel='Density'>"
      ]
     },
     "execution_count": 91,
     "metadata": {},
     "output_type": "execute_result"
    },
    {
     "data": {
      "image/png": "[encoded data removed]",
      "text/plain": [
       "<Figure size 432x288 with 1 Axes>"
      ]
     },
     "metadata": {
      "needs_background": "light"
     },
     "output_type": "display_data"
    }
   ],
   "source": [
    "sns.distplot(x = df[\"Current Loan Amount\"])"
   ]
  },
  {
   "cell_type": "code",
   "execution_count": 92,
   "id": "b17e85f1",
   "metadata": {},
   "outputs": [
    {
     "data": {
      "text/plain": [
       "Short Term    192632\n",
       "Long Term      64352\n",
       "Name: Term, dtype: int64"
      ]
     },
     "execution_count": 92,
     "metadata": {},
     "output_type": "execute_result"
    }
   ],
   "source": [
    "df[\"Term\"].value_counts()"
   ]
  },
  {
   "cell_type": "code",
   "execution_count": 93,
   "id": "5a7aa06c",
   "metadata": {},
   "outputs": [
    {
     "data": {
      "text/plain": [
       "<AxesSubplot:ylabel='Density'>"
      ]
     },
     "execution_count": 93,
     "metadata": {},
     "output_type": "execute_result"
    },
    {
     "data": {
      "image/png": "[encoded data removed]",
      "text/plain": [
       "<Figure size 432x288 with 1 Axes>"
      ]
     },
     "metadata": {
      "needs_background": "light"
     },
     "output_type": "display_data"
    }
   ],
   "source": [
    "sns.distplot(x = df[\"Credit Score\"])"
   ]
  },
  {
   "cell_type": "code",
   "execution_count": 94,
   "id": "65de7259",
   "metadata": {},
   "outputs": [
    {
     "data": {
      "text/plain": [
       "10+ years    78896\n",
       "2 years      23462\n",
       "< 1 year     21012\n",
       "3 years      20659\n",
       "5 years      17864\n",
       "1 year       16746\n",
       "4 years      16166\n",
       "6 years      14597\n",
       "7 years      13968\n",
       "8 years      12206\n",
       "9 years       9932\n",
       "Name: Years in current job, dtype: int64"
      ]
     },
     "execution_count": 94,
     "metadata": {},
     "output_type": "execute_result"
    }
   ],
   "source": [
    "df[\"Years in current job\"].value_counts()"
   ]
  },
  {
   "cell_type": "code",
   "execution_count": 95,
   "id": "722f98a2",
   "metadata": {},
   "outputs": [
    {
     "data": {
      "text/plain": [
       "Home Mortgage    124477\n",
       "Rent             109010\n",
       "Own Home          22923\n",
       "HaveMortgage        574\n",
       "Name: Home Ownership, dtype: int64"
      ]
     },
     "execution_count": 95,
     "metadata": {},
     "output_type": "execute_result"
    }
   ],
   "source": [
    "df[\"Home Ownership\"].value_counts()"
   ]
  },
  {
   "cell_type": "code",
   "execution_count": 96,
   "id": "5787df28",
   "metadata": {},
   "outputs": [
    {
     "data": {
      "text/plain": [
       "<AxesSubplot:xlabel='Annual Income', ylabel='Density'>"
      ]
     },
     "execution_count": 96,
     "metadata": {},
     "output_type": "execute_result"
    },
    {
     "data": {
      "image/png": "[encoded data removed]",
      "text/plain": [
       "<Figure size 432x288 with 1 Axes>"
      ]
     },
     "metadata": {
      "needs_background": "light"
     },
     "output_type": "display_data"
    }
   ],
   "source": [
    "sns.scatterplot(x=\"Annual Income\", y=\"Credit Score\", data=df)"
   ]
  },
  {
   "cell_type": "code",
   "execution_count": 97,
   "id": "fea18fce",
   "metadata": {},
   "outputs": [
    {
     "data": {
      "text/plain": [
       "Debt Consolidation      203911\n",
       "Home Improvements        14915\n",
       "other                    14268\n",
       "Other                     9667\n",
       "Business Loan             4712\n",
       "Buy a Car                 3276\n",
       "Medical Bills             2868\n",
       "Take a Trip               1570\n",
       "Buy House                 1530\n",
       "Educational Expenses       267\n",
       "Name: Purpose, dtype: int64"
      ]
     },
     "execution_count": 97,
     "metadata": {},
     "output_type": "execute_result"
    }
   ],
   "source": [
    "df[\"Purpose\"].value_counts()"
   ]
  },
  {
   "cell_type": "code",
   "execution_count": 98,
   "id": "31dee10d",
   "metadata": {},
   "outputs": [
    {
     "data": {
      "text/plain": [
       "$0.00         254\n",
       "$636.87        12\n",
       "$847.85        12\n",
       "$838.10        12\n",
       "$679.66        12\n",
       "             ... \n",
       "$452.15         1\n",
       "$1,604.60       1\n",
       "$422.57         1\n",
       "$886.36         1\n",
       "$1,076.32       1\n",
       "Name: Monthly Debt, Length: 129115, dtype: int64"
      ]
     },
     "execution_count": 98,
     "metadata": {},
     "output_type": "execute_result"
    }
   ],
   "source": [
    "df[\"Monthly Debt\"].value_counts()"
   ]
  },
  {
   "cell_type": "code",
   "execution_count": 99,
   "id": "ddcf2623",
   "metadata": {},
   "outputs": [
    {
     "data": {
      "text/plain": [
       "16.0    3563\n",
       "15.0    3379\n",
       "17.0    3080\n",
       "16.5    2963\n",
       "14.0    2954\n",
       "        ... \n",
       "54.7       1\n",
       "61.8       1\n",
       "54.6       1\n",
       "55.3       1\n",
       "53.0       1\n",
       "Name: Years of Credit History, Length: 541, dtype: int64"
      ]
     },
     "execution_count": 99,
     "metadata": {},
     "output_type": "execute_result"
    }
   ],
   "source": [
    "df[\"Years of Credit History\"].value_counts()"
   ]
  },
  {
   "cell_type": "code",
   "execution_count": 100,
   "id": "f7c26900",
   "metadata": {},
   "outputs": [
    {
     "data": {
      "text/plain": [
       "12.0     2224\n",
       "14.0     2196\n",
       "15.0     2189\n",
       "8.0      2164\n",
       "9.0      2127\n",
       "         ... \n",
       "114.0       1\n",
       "133.0       1\n",
       "116.0       1\n",
       "119.0       1\n",
       "115.0       1\n",
       "Name: Months since last delinquent, Length: 131, dtype: int64"
      ]
     },
     "execution_count": 100,
     "metadata": {},
     "output_type": "execute_result"
    }
   ],
   "source": [
    "df[\"Months since last delinquent\"].value_counts()"
   ]
  },
  {
   "cell_type": "code",
   "execution_count": 101,
   "id": "4c50d143",
   "metadata": {},
   "outputs": [
    {
     "data": {
      "text/plain": [
       "9     24412\n",
       "10    23306\n",
       "8     23140\n",
       "11    21577\n",
       "7     20851\n",
       "12    19056\n",
       "6     17454\n",
       "13    15987\n",
       "14    13649\n",
       "5     12232\n",
       "15    10833\n",
       "16     8982\n",
       "17     7258\n",
       "4      7225\n",
       "18     5801\n",
       "19     4706\n",
       "20     3612\n",
       "3      3362\n",
       "21     2815\n",
       "22     2207\n",
       "23     1725\n",
       "24     1371\n",
       "2      1104\n",
       "25     1011\n",
       "26      746\n",
       "27      580\n",
       "28      404\n",
       "29      303\n",
       "30      236\n",
       "31      207\n",
       "32      181\n",
       "33      113\n",
       "34      104\n",
       "35       79\n",
       "36       61\n",
       "37       58\n",
       "38       41\n",
       "1        37\n",
       "39       33\n",
       "40       26\n",
       "41       24\n",
       "42       14\n",
       "43        9\n",
       "45        9\n",
       "47        7\n",
       "0         5\n",
       "44        5\n",
       "76        4\n",
       "46        3\n",
       "48        3\n",
       "50        3\n",
       "53        3\n",
       "52        2\n",
       "55        2\n",
       "58        2\n",
       "49        1\n",
       "51        1\n",
       "54        1\n",
       "56        1\n",
       "Name: Number of Open Accounts, dtype: int64"
      ]
     },
     "execution_count": 101,
     "metadata": {},
     "output_type": "execute_result"
    }
   ],
   "source": [
    "df[\"Number of Open Accounts\"].value_counts()"
   ]
  },
  {
   "cell_type": "code",
   "execution_count": 102,
   "id": "36136f6f",
   "metadata": {},
   "outputs": [
    {
     "data": {
      "text/plain": [
       "0     223171\n",
       "1      29547\n",
       "2       2987\n",
       "3        791\n",
       "4        275\n",
       "5        125\n",
       "6         42\n",
       "7         16\n",
       "8         12\n",
       "9         10\n",
       "10         6\n",
       "11         2\n",
       "Name: Number of Credit Problems, dtype: int64"
      ]
     },
     "execution_count": 102,
     "metadata": {},
     "output_type": "execute_result"
    }
   ],
   "source": [
    "df[\"Number of Credit Problems\"].value_counts()"
   ]
  },
  {
   "cell_type": "code",
   "execution_count": 103,
   "id": "41deeb24",
   "metadata": {},
   "outputs": [
    {
     "data": {
      "text/plain": [
       "0         1565\n",
       "3420        32\n",
       "6746        32\n",
       "6259        30\n",
       "6980        29\n",
       "          ... \n",
       "18159        1\n",
       "46833        1\n",
       "35718        1\n",
       "37765        1\n",
       "122228       1\n",
       "Name: Current Credit Balance, Length: 45704, dtype: int64"
      ]
     },
     "execution_count": 103,
     "metadata": {},
     "output_type": "execute_result"
    }
   ],
   "source": [
    "df[\"Current Credit Balance\"].value_counts()"
   ]
  },
  {
   "cell_type": "code",
   "execution_count": 104,
   "id": "2125c1b6",
   "metadata": {},
   "outputs": [
    {
     "data": {
      "text/plain": [
       "0        1597\n",
       "0         234\n",
       "15662      19\n",
       "11345      19\n",
       "14770      19\n",
       "         ... \n",
       "70440       1\n",
       "63070       1\n",
       "70445       1\n",
       "19434       1\n",
       "82886       1\n",
       "Name: Maximum Open Credit, Length: 87188, dtype: int64"
      ]
     },
     "execution_count": 104,
     "metadata": {},
     "output_type": "execute_result"
    }
   ],
   "source": [
    "df[\"Maximum Open Credit\"].value_counts()"
   ]
  },
  {
   "cell_type": "code",
   "execution_count": 105,
   "id": "2a9c8b05",
   "metadata": {},
   "outputs": [
    {
     "data": {
      "text/plain": [
       "0.0    229661\n",
       "1.0     25605\n",
       "2.0       957\n",
       "3.0       180\n",
       "4.0        33\n",
       "5.0        15\n",
       "6.0         3\n",
       "7.0         1\n",
       "Name: Bankruptcies, dtype: int64"
      ]
     },
     "execution_count": 105,
     "metadata": {},
     "output_type": "execute_result"
    }
   ],
   "source": [
    "df[\"Bankruptcies\"].value_counts()"
   ]
  },
  {
   "cell_type": "code",
   "execution_count": 106,
   "id": "d48010b5",
   "metadata": {},
   "outputs": [
    {
     "data": {
      "text/plain": [
       "0.0     252322\n",
       "1.0       3276\n",
       "2.0        872\n",
       "3.0        247\n",
       "4.0        124\n",
       "5.0         61\n",
       "6.0         30\n",
       "9.0         10\n",
       "8.0          8\n",
       "7.0          6\n",
       "10.0         3\n",
       "11.0         2\n",
       "Name: Tax Liens, dtype: int64"
      ]
     },
     "execution_count": 106,
     "metadata": {},
     "output_type": "execute_result"
    }
   ],
   "source": [
    "df[\"Tax Liens\"].value_counts()"
   ]
  },
  {
   "cell_type": "markdown",
   "id": "1b463cf8",
   "metadata": {},
   "source": [
    "### Data Preparation"
   ]
  },
  {
   "cell_type": "code",
   "execution_count": 107,
   "id": "9d984299",
   "metadata": {},
   "outputs": [
    {
     "name": "stdout",
     "output_type": "stream",
     "text": [
      "215700\n"
     ]
    }
   ],
   "source": [
    "# we delete it because more than half of the data is lost\n",
    "del df[\"Months since last delinquent\"]\n",
    "\n",
    "# we delete these two as they are unnecessary\n",
    "print(df[\"Customer ID\"].nunique())\n",
    "del df[\"Customer ID\"]\n",
    "del df[\"Loan ID\"]"
   ]
  },
  {
   "cell_type": "code",
   "execution_count": 108,
   "id": "87b9f978",
   "metadata": {},
   "outputs": [],
   "source": [
    "# If there is a duplicate row, we delete it\n",
    "df.drop_duplicates(inplace = True)"
   ]
  },
  {
   "cell_type": "code",
   "execution_count": 109,
   "id": "17f5edce",
   "metadata": {},
   "outputs": [],
   "source": [
    "# We fill 529 missing data with the mean\n",
    "df[\"Bankruptcies\"].fillna(df[\"Bankruptcies\"].mean(), inplace = True)"
   ]
  },
  {
   "cell_type": "code",
   "execution_count": 110,
   "id": "06fdb6ca",
   "metadata": {},
   "outputs": [],
   "source": [
    "# We fill in 23 missing data with the average\n",
    "df[\"Tax Liens\"].fillna(df[\"Tax Liens\"].mean(), inplace = True)"
   ]
  },
  {
   "cell_type": "code",
   "execution_count": 112,
   "id": "4169ca01",
   "metadata": {},
   "outputs": [],
   "source": [
    "# Since there are two things other and Other, we changed other to Other\n",
    "df[\"Purpose\"] = df[\"Purpose\"].str.replace(\"other\", \"Other\")"
   ]
  },
  {
   "cell_type": "code",
   "execution_count": 113,
   "id": "7396efc2",
   "metadata": {},
   "outputs": [],
   "source": [
    "# We changed HaveMortgage to Home Mortgage because there are only 3 types\n",
    "df[\"Home Ownership\"] = df[\"Home Ownership\"].str.replace(\"HaveMortgage\", \"Home Mortgage\")"
   ]
  },
  {
   "cell_type": "code",
   "execution_count": 114,
   "id": "d33d3291",
   "metadata": {},
   "outputs": [],
   "source": [
    "# We fill the empty maximum open credits with the median\n",
    "df[\"Maximum Open Credit\"] = df[\"Maximum Open Credit\"].str.extract(r\"(\\d+)\", expand=False).astype(\"float\")\n",
    "df[\"Maximum Open Credit\"] = df[\"Maximum Open Credit\"].fillna(df[\"Maximum Open Credit\"].median())"
   ]
  },
  {
   "cell_type": "code",
   "execution_count": 115,
   "id": "8d7d7522",
   "metadata": {},
   "outputs": [],
   "source": [
    "# We removed the $ sign and ,\n",
    "df[\"Monthly Debt\"] = df[\"Monthly Debt\"].str.replace(\"[\\$]\", '')\n",
    "df[\"Monthly Debt\"] = df[\"Monthly Debt\"].str.replace(\"[\\,]\", '')\n",
    "df[\"Monthly Debt\"] = df[\"Monthly Debt\"].astype(\"float\")"
   ]
  },
  {
   "cell_type": "code",
   "execution_count": 116,
   "id": "3bccfd58",
   "metadata": {},
   "outputs": [],
   "source": [
    "# this is whether we give credit or not, we translate 0 and 1\n",
    "df[\"Loan Status\"] = df[\"Loan Status\"].replace(\"Charged Off\", 0).replace(\"Fully Paid\", 1).astype(\"int\")"
   ]
  },
  {
   "cell_type": "code",
   "execution_count": 117,
   "id": "3e463e92",
   "metadata": {},
   "outputs": [],
   "source": [
    "# We fill 61676 missing data with median\n",
    "df[\"Annual Income\"] = df[\"Annual Income\"].fillna(df[\"Annual Income\"].median())"
   ]
  },
  {
   "cell_type": "code",
   "execution_count": 118,
   "id": "c50e91c6",
   "metadata": {},
   "outputs": [],
   "source": [
    "# Filling the empty years in current jobs with < 1 year\n",
    "df[\"Years in current job\"] =  df[\"Years in current job\"].fillna(\"< 1 year\")"
   ]
  },
  {
   "cell_type": "code",
   "execution_count": 119,
   "id": "b7ecb8ea",
   "metadata": {},
   "outputs": [],
   "source": [
    "# Filling empty credit scores with median\n",
    "df[\"Credit Score\"] =  df[\"Credit Score\"].fillna(df[\"Credit Score\"].median())"
   ]
  },
  {
   "cell_type": "code",
   "execution_count": 120,
   "id": "5a560073",
   "metadata": {},
   "outputs": [],
   "source": [
    "# We filled the values that are 99999999 with the median\n",
    "fillValue = df[df[\"Current Loan Amount\"] < 1.5e7][\"Current Loan Amount\"].median()\n",
    "df[\"Current Loan Amount\"] = df[\"Current Loan Amount\"].apply(lambda x : fillValue if x >= 99999999 else x)"
   ]
  },
  {
   "cell_type": "code",
   "execution_count": 121,
   "id": "6bf064e4",
   "metadata": {},
   "outputs": [
    {
     "data": {
      "text/plain": [
       "10+ years    0.307708\n",
       "< 1 year     0.125338\n",
       "2 years      0.091408\n",
       "3 years      0.080445\n",
       "5 years      0.069721\n",
       "1 year       0.065190\n",
       "4 years      0.062977\n",
       "6 years      0.056803\n",
       "7 years      0.054386\n",
       "8 years      0.047497\n",
       "9 years      0.038527\n",
       "Name: Years in current job, dtype: float64"
      ]
     },
     "execution_count": 121,
     "metadata": {},
     "output_type": "execute_result"
    }
   ],
   "source": [
    "df[\"Years in current job\"].value_counts(normalize = True)"
   ]
  },
  {
   "cell_type": "code",
   "execution_count": 122,
   "id": "4e46ba1e",
   "metadata": {},
   "outputs": [
    {
     "name": "stdout",
     "output_type": "stream",
     "text": [
      "<class 'pandas.core.frame.DataFrame'>\n",
      "Int64Index: 240374 entries, 0 to 256983\n",
      "Data columns (total 16 columns):\n",
      " #   Column                     Non-Null Count   Dtype  \n",
      "---  ------                     --------------   -----  \n",
      " 0   Loan Status                240374 non-null  int32  \n",
      " 1   Current Loan Amount        240374 non-null  float64\n",
      " 2   Term                       240374 non-null  object \n",
      " 3   Credit Score               240374 non-null  float64\n",
      " 4   Years in current job       240374 non-null  object \n",
      " 5   Home Ownership             240374 non-null  object \n",
      " 6   Annual Income              240374 non-null  float64\n",
      " 7   Purpose                    240374 non-null  object \n",
      " 8   Monthly Debt               240374 non-null  float64\n",
      " 9   Years of Credit History    240374 non-null  float64\n",
      " 10  Number of Open Accounts    240374 non-null  int64  \n",
      " 11  Number of Credit Problems  240374 non-null  int64  \n",
      " 12  Current Credit Balance     240374 non-null  int64  \n",
      " 13  Maximum Open Credit        240374 non-null  float64\n",
      " 14  Bankruptcies               240374 non-null  float64\n",
      " 15  Tax Liens                  240374 non-null  float64\n",
      "dtypes: float64(8), int32(1), int64(3), object(4)\n",
      "memory usage: 30.3+ MB\n"
     ]
    }
   ],
   "source": [
    "df.info()"
   ]
  },
  {
   "cell_type": "code",
   "execution_count": 123,
   "id": "495ee162",
   "metadata": {},
   "outputs": [
    {
     "data": {
      "text/html": [
       "<div>\n",
       "<style scoped>\n",
       "    .dataframe tbody tr th:only-of-type {\n",
       "        vertical-align: middle;\n",
       "    }\n",
       "\n",
       "    .dataframe tbody tr th {\n",
       "        vertical-align: top;\n",
       "    }\n",
       "\n",
       "    .dataframe thead th {\n",
       "        text-align: right;\n",
       "    }\n",
       "</style>\n",
       "<table border=\"1\" class=\"dataframe\">\n",
       "  <thead>\n",
       "    <tr style=\"text-align: right;\">\n",
       "      <th></th>\n",
       "      <th>Loan Status</th>\n",
       "      <th>Current Loan Amount</th>\n",
       "      <th>Term</th>\n",
       "      <th>Credit Score</th>\n",
       "      <th>Years in current job</th>\n",
       "      <th>Home Ownership</th>\n",
       "      <th>Annual Income</th>\n",
       "      <th>Purpose</th>\n",
       "      <th>Monthly Debt</th>\n",
       "      <th>Years of Credit History</th>\n",
       "      <th>Number of Open Accounts</th>\n",
       "      <th>Number of Credit Problems</th>\n",
       "      <th>Current Credit Balance</th>\n",
       "      <th>Maximum Open Credit</th>\n",
       "      <th>Bankruptcies</th>\n",
       "      <th>Tax Liens</th>\n",
       "    </tr>\n",
       "  </thead>\n",
       "  <tbody>\n",
       "    <tr>\n",
       "      <th>245476</th>\n",
       "      <td>1</td>\n",
       "      <td>12150.0</td>\n",
       "      <td>Short Term</td>\n",
       "      <td>734.0</td>\n",
       "      <td>2 years</td>\n",
       "      <td>Own Home</td>\n",
       "      <td>61505.0</td>\n",
       "      <td>Other</td>\n",
       "      <td>946.69</td>\n",
       "      <td>29.5</td>\n",
       "      <td>7</td>\n",
       "      <td>1</td>\n",
       "      <td>7690</td>\n",
       "      <td>21798.5</td>\n",
       "      <td>1.0</td>\n",
       "      <td>0.0</td>\n",
       "    </tr>\n",
       "    <tr>\n",
       "      <th>68403</th>\n",
       "      <td>1</td>\n",
       "      <td>20302.0</td>\n",
       "      <td>Long Term</td>\n",
       "      <td>708.0</td>\n",
       "      <td>3 years</td>\n",
       "      <td>Home Mortgage</td>\n",
       "      <td>258851.0</td>\n",
       "      <td>Other</td>\n",
       "      <td>3127.78</td>\n",
       "      <td>21.7</td>\n",
       "      <td>17</td>\n",
       "      <td>0</td>\n",
       "      <td>233647</td>\n",
       "      <td>21798.5</td>\n",
       "      <td>0.0</td>\n",
       "      <td>0.0</td>\n",
       "    </tr>\n",
       "    <tr>\n",
       "      <th>147895</th>\n",
       "      <td>1</td>\n",
       "      <td>25383.0</td>\n",
       "      <td>Long Term</td>\n",
       "      <td>600.0</td>\n",
       "      <td>2 years</td>\n",
       "      <td>Rent</td>\n",
       "      <td>81224.0</td>\n",
       "      <td>Debt Consolidation</td>\n",
       "      <td>1468.80</td>\n",
       "      <td>15.3</td>\n",
       "      <td>10</td>\n",
       "      <td>0</td>\n",
       "      <td>10671</td>\n",
       "      <td>21798.5</td>\n",
       "      <td>0.0</td>\n",
       "      <td>0.0</td>\n",
       "    </tr>\n",
       "    <tr>\n",
       "      <th>247894</th>\n",
       "      <td>0</td>\n",
       "      <td>17857.0</td>\n",
       "      <td>Long Term</td>\n",
       "      <td>7260.0</td>\n",
       "      <td>7 years</td>\n",
       "      <td>Home Mortgage</td>\n",
       "      <td>73469.0</td>\n",
       "      <td>Debt Consolidation</td>\n",
       "      <td>1677.54</td>\n",
       "      <td>13.4</td>\n",
       "      <td>22</td>\n",
       "      <td>0</td>\n",
       "      <td>17759</td>\n",
       "      <td>21798.5</td>\n",
       "      <td>0.0</td>\n",
       "      <td>0.0</td>\n",
       "    </tr>\n",
       "    <tr>\n",
       "      <th>191325</th>\n",
       "      <td>1</td>\n",
       "      <td>5918.0</td>\n",
       "      <td>Short Term</td>\n",
       "      <td>731.0</td>\n",
       "      <td>10+ years</td>\n",
       "      <td>Home Mortgage</td>\n",
       "      <td>55233.0</td>\n",
       "      <td>Debt Consolidation</td>\n",
       "      <td>1063.23</td>\n",
       "      <td>55.6</td>\n",
       "      <td>9</td>\n",
       "      <td>0</td>\n",
       "      <td>18720</td>\n",
       "      <td>22102.0</td>\n",
       "      <td>0.0</td>\n",
       "      <td>0.0</td>\n",
       "    </tr>\n",
       "    <tr>\n",
       "      <th>35809</th>\n",
       "      <td>1</td>\n",
       "      <td>14780.0</td>\n",
       "      <td>Short Term</td>\n",
       "      <td>730.0</td>\n",
       "      <td>10+ years</td>\n",
       "      <td>Home Mortgage</td>\n",
       "      <td>118236.0</td>\n",
       "      <td>Debt Consolidation</td>\n",
       "      <td>958.70</td>\n",
       "      <td>20.9</td>\n",
       "      <td>11</td>\n",
       "      <td>0</td>\n",
       "      <td>14798</td>\n",
       "      <td>21798.5</td>\n",
       "      <td>0.0</td>\n",
       "      <td>0.0</td>\n",
       "    </tr>\n",
       "    <tr>\n",
       "      <th>117571</th>\n",
       "      <td>0</td>\n",
       "      <td>4795.0</td>\n",
       "      <td>Short Term</td>\n",
       "      <td>6860.0</td>\n",
       "      <td>10+ years</td>\n",
       "      <td>Home Mortgage</td>\n",
       "      <td>30123.0</td>\n",
       "      <td>Home Improvements</td>\n",
       "      <td>346.41</td>\n",
       "      <td>15.5</td>\n",
       "      <td>20</td>\n",
       "      <td>1</td>\n",
       "      <td>9390</td>\n",
       "      <td>21798.5</td>\n",
       "      <td>1.0</td>\n",
       "      <td>0.0</td>\n",
       "    </tr>\n",
       "    <tr>\n",
       "      <th>32039</th>\n",
       "      <td>0</td>\n",
       "      <td>19608.0</td>\n",
       "      <td>Short Term</td>\n",
       "      <td>721.0</td>\n",
       "      <td>6 years</td>\n",
       "      <td>Home Mortgage</td>\n",
       "      <td>78432.0</td>\n",
       "      <td>Debt Consolidation</td>\n",
       "      <td>843.14</td>\n",
       "      <td>8.5</td>\n",
       "      <td>10</td>\n",
       "      <td>0</td>\n",
       "      <td>16917</td>\n",
       "      <td>21798.5</td>\n",
       "      <td>0.0</td>\n",
       "      <td>0.0</td>\n",
       "    </tr>\n",
       "    <tr>\n",
       "      <th>141451</th>\n",
       "      <td>0</td>\n",
       "      <td>2013.0</td>\n",
       "      <td>Short Term</td>\n",
       "      <td>6970.0</td>\n",
       "      <td>&lt; 1 year</td>\n",
       "      <td>Rent</td>\n",
       "      <td>9423.0</td>\n",
       "      <td>Other</td>\n",
       "      <td>191.60</td>\n",
       "      <td>10.2</td>\n",
       "      <td>4</td>\n",
       "      <td>0</td>\n",
       "      <td>1523</td>\n",
       "      <td>21798.5</td>\n",
       "      <td>0.0</td>\n",
       "      <td>0.0</td>\n",
       "    </tr>\n",
       "    <tr>\n",
       "      <th>59140</th>\n",
       "      <td>1</td>\n",
       "      <td>12025.0</td>\n",
       "      <td>Short Term</td>\n",
       "      <td>731.0</td>\n",
       "      <td>7 years</td>\n",
       "      <td>Home Mortgage</td>\n",
       "      <td>138586.0</td>\n",
       "      <td>Debt Consolidation</td>\n",
       "      <td>2101.88</td>\n",
       "      <td>4.7</td>\n",
       "      <td>8</td>\n",
       "      <td>0</td>\n",
       "      <td>2011</td>\n",
       "      <td>21798.5</td>\n",
       "      <td>0.0</td>\n",
       "      <td>0.0</td>\n",
       "    </tr>\n",
       "  </tbody>\n",
       "</table>\n",
       "</div>"
      ],
      "text/plain": [
       "        Loan Status  Current Loan Amount        Term  Credit Score  \\\n",
       "245476            1              12150.0  Short Term         734.0   \n",
       "68403             1              20302.0   Long Term         708.0   \n",
       "147895            1              25383.0   Long Term         600.0   \n",
       "247894            0              17857.0   Long Term        7260.0   \n",
       "191325            1               5918.0  Short Term         731.0   \n",
       "35809             1              14780.0  Short Term         730.0   \n",
       "117571            0               4795.0  Short Term        6860.0   \n",
       "32039             0              19608.0  Short Term         721.0   \n",
       "141451            0               2013.0  Short Term        6970.0   \n",
       "59140             1              12025.0  Short Term         731.0   \n",
       "\n",
       "       Years in current job Home Ownership  Annual Income             Purpose  \\\n",
       "245476              2 years       Own Home        61505.0               Other   \n",
       "68403               3 years  Home Mortgage       258851.0               Other   \n",
       "147895              2 years           Rent        81224.0  Debt Consolidation   \n",
       "247894              7 years  Home Mortgage        73469.0  Debt Consolidation   \n",
       "191325            10+ years  Home Mortgage        55233.0  Debt Consolidation   \n",
       "35809             10+ years  Home Mortgage       118236.0  Debt Consolidation   \n",
       "117571            10+ years  Home Mortgage        30123.0   Home Improvements   \n",
       "32039               6 years  Home Mortgage        78432.0  Debt Consolidation   \n",
       "141451             < 1 year           Rent         9423.0               Other   \n",
       "59140               7 years  Home Mortgage       138586.0  Debt Consolidation   \n",
       "\n",
       "        Monthly Debt  Years of Credit History  Number of Open Accounts  \\\n",
       "245476        946.69                     29.5                        7   \n",
       "68403        3127.78                     21.7                       17   \n",
       "147895       1468.80                     15.3                       10   \n",
       "247894       1677.54                     13.4                       22   \n",
       "191325       1063.23                     55.6                        9   \n",
       "35809         958.70                     20.9                       11   \n",
       "117571        346.41                     15.5                       20   \n",
       "32039         843.14                      8.5                       10   \n",
       "141451        191.60                     10.2                        4   \n",
       "59140        2101.88                      4.7                        8   \n",
       "\n",
       "        Number of Credit Problems  Current Credit Balance  \\\n",
       "245476                          1                    7690   \n",
       "68403                           0                  233647   \n",
       "147895                          0                   10671   \n",
       "247894                          0                   17759   \n",
       "191325                          0                   18720   \n",
       "35809                           0                   14798   \n",
       "117571                          1                    9390   \n",
       "32039                           0                   16917   \n",
       "141451                          0                    1523   \n",
       "59140                           0                    2011   \n",
       "\n",
       "        Maximum Open Credit  Bankruptcies  Tax Liens  \n",
       "245476              21798.5           1.0        0.0  \n",
       "68403               21798.5           0.0        0.0  \n",
       "147895              21798.5           0.0        0.0  \n",
       "247894              21798.5           0.0        0.0  \n",
       "191325              22102.0           0.0        0.0  \n",
       "35809               21798.5           0.0        0.0  \n",
       "117571              21798.5           1.0        0.0  \n",
       "32039               21798.5           0.0        0.0  \n",
       "141451              21798.5           0.0        0.0  \n",
       "59140               21798.5           0.0        0.0  "
      ]
     },
     "execution_count": 123,
     "metadata": {},
     "output_type": "execute_result"
    }
   ],
   "source": [
    "df.sample(10)"
   ]
  },
  {
   "cell_type": "code",
   "execution_count": 124,
   "id": "4d551ad5",
   "metadata": {},
   "outputs": [
    {
     "name": "stdout",
     "output_type": "stream",
     "text": [
      "(240374, 16)\n"
     ]
    }
   ],
   "source": [
    "# we convert x to dummy variable\n",
    "x = pd.get_dummies(df, drop_first = True)\n",
    "print(df.shape)"
   ]
  },
  {
   "cell_type": "code",
   "execution_count": 125,
   "id": "e300ebe8",
   "metadata": {},
   "outputs": [],
   "source": [
    "# we determine x and y\n",
    "y = x[\"Loan Status\"]\n",
    "del x[\"Loan Status\"]"
   ]
  },
  {
   "cell_type": "code",
   "execution_count": 126,
   "id": "7aaa0ecf",
   "metadata": {},
   "outputs": [],
   "source": [
    "x_train, x_test, y_train, y_test = train_test_split(x,y,test_size = 0.1, random_state = 13)"
   ]
  },
  {
   "cell_type": "code",
   "execution_count": 127,
   "id": "78a3b2b0",
   "metadata": {},
   "outputs": [
    {
     "data": {
      "text/plain": [
       "((216336, 32), (24038, 32), (216336,), (24038,))"
      ]
     },
     "execution_count": 127,
     "metadata": {},
     "output_type": "execute_result"
    }
   ],
   "source": [
    "x_train.shape, x_test.shape, y_train.shape, y_test.shape"
   ]
  },
  {
   "cell_type": "code",
   "execution_count": 128,
   "id": "1df8da36",
   "metadata": {},
   "outputs": [],
   "source": [
    "g = GaussianNB()\n",
    "b = BernoulliNB()\n",
    "k = KNeighborsClassifier()\n",
    "log = LogisticRegression()\n",
    "gbc = GradientBoostingClassifier()\n",
    "r = RandomForestClassifier()\n",
    "d = DecisionTreeClassifier()"
   ]
  },
  {
   "cell_type": "code",
   "execution_count": 129,
   "id": "4f745fb5",
   "metadata": {},
   "outputs": [
    {
     "data": {
      "text/plain": [
       "DecisionTreeClassifier()"
      ]
     },
     "execution_count": 129,
     "metadata": {},
     "output_type": "execute_result"
    }
   ],
   "source": [
    "g.fit(x_train, y_train)\n",
    "b.fit(x_train, y_train)\n",
    "k.fit(x_train, y_train)\n",
    "log.fit(x_train, y_train)\n",
    "gbc.fit(x_train, y_train)\n",
    "r.fit(x_train, y_train)\n",
    "d.fit(x_train, y_train)"
   ]
  },
  {
   "cell_type": "code",
   "execution_count": 130,
   "id": "43048250",
   "metadata": {},
   "outputs": [],
   "source": [
    "y_pred_g = g.predict(x_test)\n",
    "y_pred_b = b.predict(x_test)\n",
    "y_pred_k = k.predict(x_test)\n",
    "y_pred_log = log.predict(x_test)\n",
    "y_pred_gbc = gbc.predict(x_test)\n",
    "y_pred_r = r.predict(x_test)\n",
    "y_pred_d = d.predict(x_test)"
   ]
  },
  {
   "cell_type": "code",
   "execution_count": 131,
   "id": "61698a20",
   "metadata": {},
   "outputs": [
    {
     "name": "stdout",
     "output_type": "stream",
     "text": [
      "0.7919960063233215\n",
      "0.7356269240369415\n",
      "0.7559281138197853\n",
      "0.7936184374739995\n",
      "0.7993593476994758\n",
      "0.8085947250187203\n",
      "0.7249355187619603\n"
     ]
    }
   ],
   "source": [
    "print(accuracy_score(y_test, y_pred_g))\n",
    "print(accuracy_score(y_test, y_pred_b))\n",
    "print(accuracy_score(y_test, y_pred_k))\n",
    "print(accuracy_score(y_test, y_pred_log))\n",
    "print(accuracy_score(y_test, y_pred_gbc))\n",
    "print(accuracy_score(y_test, y_pred_r))\n",
    "print(accuracy_score(y_test, y_pred_d))"
   ]
  },
  {
   "cell_type": "code",
   "execution_count": 132,
   "id": "25fbaea6",
   "metadata": {},
   "outputs": [
    {
     "name": "stdout",
     "output_type": "stream",
     "text": [
      "0.7919423006247703\n",
      "0.7385804933394966\n",
      "0.7925208714123401\n",
      "0.7825701493860543\n",
      "0.7926070569002316\n",
      "0.8095980350479429\n",
      "0.8207885304659498\n"
     ]
    }
   ],
   "source": [
    "print(precision_score(y_test, y_pred_g))\n",
    "print(precision_score(y_test, y_pred_b))\n",
    "print(precision_score(y_test, y_pred_k))\n",
    "print(precision_score(y_test, y_pred_log))\n",
    "print(precision_score(y_test, y_pred_gbc))\n",
    "print(precision_score(y_test, y_pred_r))\n",
    "print(precision_score(y_test, y_pred_d))"
   ]
  },
  {
   "cell_type": "code",
   "execution_count": 133,
   "id": "6f36e467",
   "metadata": {},
   "outputs": [
    {
     "name": "stdout",
     "output_type": "stream",
     "text": [
      "0.9734048560135516\n",
      "0.9924336533032185\n",
      "0.9058723884810841\n",
      "0.9968379446640316\n",
      "0.9855448898927159\n",
      "0.9678147939017504\n",
      "0.8016939582156973\n"
     ]
    }
   ],
   "source": [
    "print(recall_score(y_test, y_pred_g))\n",
    "print(recall_score(y_test, y_pred_b))\n",
    "print(recall_score(y_test, y_pred_k))\n",
    "print(recall_score(y_test, y_pred_log))\n",
    "print(recall_score(y_test, y_pred_gbc))\n",
    "print(recall_score(y_test, y_pred_r))\n",
    "print(recall_score(y_test, y_pred_d))"
   ]
  },
  {
   "cell_type": "code",
   "execution_count": 134,
   "id": "fb8e6eab",
   "metadata": {},
   "outputs": [
    {
     "name": "stdout",
     "output_type": "stream",
     "text": [
      "0.8733471807082426\n",
      "0.8468932951068494\n",
      "0.8454140647643138\n",
      "0.8768034964861308\n",
      "0.8786086431250157\n",
      "0.8816645662405803\n",
      "0.8111288848263254\n"
     ]
    }
   ],
   "source": [
    "print(f1_score(y_test, y_pred_g))\n",
    "print(f1_score(y_test, y_pred_b))\n",
    "print(f1_score(y_test, y_pred_k))\n",
    "print(f1_score(y_test, y_pred_log))\n",
    "print(f1_score(y_test, y_pred_gbc))\n",
    "print(f1_score(y_test, y_pred_r))\n",
    "print(f1_score(y_test, y_pred_d))"
   ]
  },
  {
   "cell_type": "code",
   "execution_count": 135,
   "id": "5314b78a",
   "metadata": {},
   "outputs": [
    {
     "name": "stdout",
     "output_type": "stream",
     "text": [
      "[[ 1799  4529]\n",
      " [  471 17239]]\n",
      "[[  107  6221]\n",
      " [  134 17576]]\n",
      "[[ 2128  4200]\n",
      " [ 1667 16043]]\n",
      "[[ 1423  4905]\n",
      " [   56 17654]]\n",
      "[[ 1761  4567]\n",
      " [  256 17454]]\n",
      "[[ 2297  4031]\n",
      " [  570 17140]]\n",
      "[[ 3228  3100]\n",
      " [ 3512 14198]]\n"
     ]
    }
   ],
   "source": [
    "print(confusion_matrix(y_test, y_pred_g))\n",
    "print(confusion_matrix(y_test, y_pred_b))\n",
    "print(confusion_matrix(y_test, y_pred_k))\n",
    "print(confusion_matrix(y_test, y_pred_log))\n",
    "print(confusion_matrix(y_test, y_pred_gbc))\n",
    "print(confusion_matrix(y_test, y_pred_r))\n",
    "print(confusion_matrix(y_test, y_pred_d))"
   ]
  },
  {
   "cell_type": "markdown",
   "id": "d87262a4",
   "metadata": {},
   "source": [
    "### The best success rate was 88% in random forest classiffier."
   ]
  },
  {
   "cell_type": "code",
   "execution_count": null,
   "id": "92c8d607",
   "metadata": {},
   "outputs": [],
   "source": []
  }
 ],
 "metadata": {
  "kernelspec": {
   "display_name": "Python 3",
   "language": "python",
   "name": "python3"
  },
  "language_info": {
   "codemirror_mode": {
    "name": "ipython",
    "version": 3
   },
   "file_extension": ".py",
   "mimetype": "text/x-python",
   "name": "python",
   "nbconvert_exporter": "python",
   "pygments_lexer": "ipython3",
   "version": "3.8.8"
  }
 },
 "nbformat": 4,
 "nbformat_minor": 5
}
