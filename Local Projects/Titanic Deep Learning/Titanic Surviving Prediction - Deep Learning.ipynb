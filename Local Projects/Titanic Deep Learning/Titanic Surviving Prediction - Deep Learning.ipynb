{
 "cells": [
  {
   "cell_type": "markdown",
   "id": "348c2609",
   "metadata": {},
   "source": [
    "# Titanic Surviving Prediction - Deep Learning"
   ]
  },
  {
   "cell_type": "markdown",
   "id": "7adce0e1",
   "metadata": {},
   "source": [
    "## Importing Necessary Libraries"
   ]
  },
  {
   "cell_type": "code",
   "execution_count": 463,
   "id": "5fa10bcd",
   "metadata": {},
   "outputs": [],
   "source": [
    "import pandas as pd\n",
    "pd.set_option(\"display.max_columns\",100)\n",
    "\n",
    "import matplotlib.pyplot as plt\n",
    "import seaborn as sns\n",
    "%matplotlib inline\n",
    "\n",
    "import warnings\n",
    "warnings.simplefilter('ignore')"
   ]
  },
  {
   "cell_type": "code",
   "execution_count": 464,
   "id": "6c89ff34",
   "metadata": {},
   "outputs": [],
   "source": [
    "from sklearn.naive_bayes import GaussianNB\n",
    "from sklearn.naive_bayes import BernoulliNB\n",
    "\n",
    "from sklearn.neighbors import KNeighborsClassifier\n",
    "from sklearn.svm import SVC\n",
    "\n",
    "from sklearn.tree import DecisionTreeClassifier\n",
    "from sklearn.linear_model import LogisticRegression\n",
    "\n",
    "from sklearn.ensemble import RandomForestClassifier\n",
    "from sklearn.ensemble import GradientBoostingClassifier\n",
    "\n",
    "from xgboost import XGBClassifier\n",
    "\n",
    "from sklearn.model_selection import train_test_split\n",
    "\n",
    "from sklearn.metrics import accuracy_score, precision_score, recall_score, f1_score\n",
    "from sklearn.metrics import confusion_matrix, classification_report"
   ]
  },
  {
   "cell_type": "markdown",
   "id": "17799032",
   "metadata": {},
   "source": [
    "## Loading the Datasets"
   ]
  },
  {
   "cell_type": "code",
   "execution_count": 465,
   "id": "ff74f516",
   "metadata": {},
   "outputs": [],
   "source": [
    "df1 = pd.read_csv(\"train.csv\")\n",
    "df2 = pd.read_csv(\"test.csv\")"
   ]
  },
  {
   "cell_type": "markdown",
   "id": "4fc18339",
   "metadata": {},
   "source": [
    "## EDA"
   ]
  },
  {
   "cell_type": "code",
   "execution_count": 466,
   "id": "83641316",
   "metadata": {},
   "outputs": [
    {
     "data": {
      "text/plain": [
       "((891, 12), (418, 11))"
      ]
     },
     "execution_count": 466,
     "metadata": {},
     "output_type": "execute_result"
    }
   ],
   "source": [
    "df1.shape, df2.shape"
   ]
  },
  {
   "cell_type": "code",
   "execution_count": 467,
   "id": "3dbca49b",
   "metadata": {},
   "outputs": [],
   "source": [
    "df = df1.append(df2) # we add to each other, we will do the necessary operations and then we will separate them."
   ]
  },
  {
   "cell_type": "code",
   "execution_count": 468,
   "id": "1da84823",
   "metadata": {},
   "outputs": [
    {
     "data": {
      "text/plain": [
       "(1309, 12)"
      ]
     },
     "execution_count": 468,
     "metadata": {},
     "output_type": "execute_result"
    }
   ],
   "source": [
    "df.shape"
   ]
  },
  {
   "cell_type": "code",
   "execution_count": 469,
   "id": "828db2fb",
   "metadata": {},
   "outputs": [
    {
     "data": {
      "text/html": [
       "<div>\n",
       "<style scoped>\n",
       "    .dataframe tbody tr th:only-of-type {\n",
       "        vertical-align: middle;\n",
       "    }\n",
       "\n",
       "    .dataframe tbody tr th {\n",
       "        vertical-align: top;\n",
       "    }\n",
       "\n",
       "    .dataframe thead th {\n",
       "        text-align: right;\n",
       "    }\n",
       "</style>\n",
       "<table border=\"1\" class=\"dataframe\">\n",
       "  <thead>\n",
       "    <tr style=\"text-align: right;\">\n",
       "      <th></th>\n",
       "      <th>PassengerId</th>\n",
       "      <th>Survived</th>\n",
       "      <th>Pclass</th>\n",
       "      <th>Name</th>\n",
       "      <th>Sex</th>\n",
       "      <th>Age</th>\n",
       "      <th>SibSp</th>\n",
       "      <th>Parch</th>\n",
       "      <th>Ticket</th>\n",
       "      <th>Fare</th>\n",
       "      <th>Cabin</th>\n",
       "      <th>Embarked</th>\n",
       "    </tr>\n",
       "  </thead>\n",
       "  <tbody>\n",
       "    <tr>\n",
       "      <th>345</th>\n",
       "      <td>1237</td>\n",
       "      <td>NaN</td>\n",
       "      <td>3</td>\n",
       "      <td>Abelseth, Miss. Karen Marie</td>\n",
       "      <td>female</td>\n",
       "      <td>16.0</td>\n",
       "      <td>0</td>\n",
       "      <td>0</td>\n",
       "      <td>348125</td>\n",
       "      <td>7.6500</td>\n",
       "      <td>NaN</td>\n",
       "      <td>S</td>\n",
       "    </tr>\n",
       "    <tr>\n",
       "      <th>645</th>\n",
       "      <td>646</td>\n",
       "      <td>1.0</td>\n",
       "      <td>1</td>\n",
       "      <td>Harper, Mr. Henry Sleeper</td>\n",
       "      <td>male</td>\n",
       "      <td>48.0</td>\n",
       "      <td>1</td>\n",
       "      <td>0</td>\n",
       "      <td>PC 17572</td>\n",
       "      <td>76.7292</td>\n",
       "      <td>D33</td>\n",
       "      <td>C</td>\n",
       "    </tr>\n",
       "    <tr>\n",
       "      <th>18</th>\n",
       "      <td>19</td>\n",
       "      <td>0.0</td>\n",
       "      <td>3</td>\n",
       "      <td>Vander Planke, Mrs. Julius (Emelia Maria Vande...</td>\n",
       "      <td>female</td>\n",
       "      <td>31.0</td>\n",
       "      <td>1</td>\n",
       "      <td>0</td>\n",
       "      <td>345763</td>\n",
       "      <td>18.0000</td>\n",
       "      <td>NaN</td>\n",
       "      <td>S</td>\n",
       "    </tr>\n",
       "    <tr>\n",
       "      <th>191</th>\n",
       "      <td>1083</td>\n",
       "      <td>NaN</td>\n",
       "      <td>1</td>\n",
       "      <td>Salomon, Mr. Abraham L</td>\n",
       "      <td>male</td>\n",
       "      <td>NaN</td>\n",
       "      <td>0</td>\n",
       "      <td>0</td>\n",
       "      <td>111163</td>\n",
       "      <td>26.0000</td>\n",
       "      <td>NaN</td>\n",
       "      <td>S</td>\n",
       "    </tr>\n",
       "    <tr>\n",
       "      <th>528</th>\n",
       "      <td>529</td>\n",
       "      <td>0.0</td>\n",
       "      <td>3</td>\n",
       "      <td>Salonen, Mr. Johan Werner</td>\n",
       "      <td>male</td>\n",
       "      <td>39.0</td>\n",
       "      <td>0</td>\n",
       "      <td>0</td>\n",
       "      <td>3101296</td>\n",
       "      <td>7.9250</td>\n",
       "      <td>NaN</td>\n",
       "      <td>S</td>\n",
       "    </tr>\n",
       "    <tr>\n",
       "      <th>333</th>\n",
       "      <td>1225</td>\n",
       "      <td>NaN</td>\n",
       "      <td>3</td>\n",
       "      <td>Nakid, Mrs. Said (Waika Mary\" Mowad)\"</td>\n",
       "      <td>female</td>\n",
       "      <td>19.0</td>\n",
       "      <td>1</td>\n",
       "      <td>1</td>\n",
       "      <td>2653</td>\n",
       "      <td>15.7417</td>\n",
       "      <td>NaN</td>\n",
       "      <td>C</td>\n",
       "    </tr>\n",
       "    <tr>\n",
       "      <th>216</th>\n",
       "      <td>217</td>\n",
       "      <td>1.0</td>\n",
       "      <td>3</td>\n",
       "      <td>Honkanen, Miss. Eliina</td>\n",
       "      <td>female</td>\n",
       "      <td>27.0</td>\n",
       "      <td>0</td>\n",
       "      <td>0</td>\n",
       "      <td>STON/O2. 3101283</td>\n",
       "      <td>7.9250</td>\n",
       "      <td>NaN</td>\n",
       "      <td>S</td>\n",
       "    </tr>\n",
       "    <tr>\n",
       "      <th>260</th>\n",
       "      <td>261</td>\n",
       "      <td>0.0</td>\n",
       "      <td>3</td>\n",
       "      <td>Smith, Mr. Thomas</td>\n",
       "      <td>male</td>\n",
       "      <td>NaN</td>\n",
       "      <td>0</td>\n",
       "      <td>0</td>\n",
       "      <td>384461</td>\n",
       "      <td>7.7500</td>\n",
       "      <td>NaN</td>\n",
       "      <td>Q</td>\n",
       "    </tr>\n",
       "    <tr>\n",
       "      <th>168</th>\n",
       "      <td>1060</td>\n",
       "      <td>NaN</td>\n",
       "      <td>1</td>\n",
       "      <td>Cassebeer, Mrs. Henry Arthur Jr (Eleanor Genev...</td>\n",
       "      <td>female</td>\n",
       "      <td>NaN</td>\n",
       "      <td>0</td>\n",
       "      <td>0</td>\n",
       "      <td>17770</td>\n",
       "      <td>27.7208</td>\n",
       "      <td>NaN</td>\n",
       "      <td>C</td>\n",
       "    </tr>\n",
       "    <tr>\n",
       "      <th>285</th>\n",
       "      <td>1177</td>\n",
       "      <td>NaN</td>\n",
       "      <td>3</td>\n",
       "      <td>Dennis, Mr. William</td>\n",
       "      <td>male</td>\n",
       "      <td>36.0</td>\n",
       "      <td>0</td>\n",
       "      <td>0</td>\n",
       "      <td>A/5 21175</td>\n",
       "      <td>7.2500</td>\n",
       "      <td>NaN</td>\n",
       "      <td>S</td>\n",
       "    </tr>\n",
       "  </tbody>\n",
       "</table>\n",
       "</div>"
      ],
      "text/plain": [
       "     PassengerId  Survived  Pclass  \\\n",
       "345         1237       NaN       3   \n",
       "645          646       1.0       1   \n",
       "18            19       0.0       3   \n",
       "191         1083       NaN       1   \n",
       "528          529       0.0       3   \n",
       "333         1225       NaN       3   \n",
       "216          217       1.0       3   \n",
       "260          261       0.0       3   \n",
       "168         1060       NaN       1   \n",
       "285         1177       NaN       3   \n",
       "\n",
       "                                                  Name     Sex   Age  SibSp  \\\n",
       "345                        Abelseth, Miss. Karen Marie  female  16.0      0   \n",
       "645                          Harper, Mr. Henry Sleeper    male  48.0      1   \n",
       "18   Vander Planke, Mrs. Julius (Emelia Maria Vande...  female  31.0      1   \n",
       "191                             Salomon, Mr. Abraham L    male   NaN      0   \n",
       "528                          Salonen, Mr. Johan Werner    male  39.0      0   \n",
       "333              Nakid, Mrs. Said (Waika Mary\" Mowad)\"  female  19.0      1   \n",
       "216                             Honkanen, Miss. Eliina  female  27.0      0   \n",
       "260                                  Smith, Mr. Thomas    male   NaN      0   \n",
       "168  Cassebeer, Mrs. Henry Arthur Jr (Eleanor Genev...  female   NaN      0   \n",
       "285                                Dennis, Mr. William    male  36.0      0   \n",
       "\n",
       "     Parch            Ticket     Fare Cabin Embarked  \n",
       "345      0            348125   7.6500   NaN        S  \n",
       "645      0          PC 17572  76.7292   D33        C  \n",
       "18       0            345763  18.0000   NaN        S  \n",
       "191      0            111163  26.0000   NaN        S  \n",
       "528      0           3101296   7.9250   NaN        S  \n",
       "333      1              2653  15.7417   NaN        C  \n",
       "216      0  STON/O2. 3101283   7.9250   NaN        S  \n",
       "260      0            384461   7.7500   NaN        Q  \n",
       "168      0             17770  27.7208   NaN        C  \n",
       "285      0         A/5 21175   7.2500   NaN        S  "
      ]
     },
     "execution_count": 469,
     "metadata": {},
     "output_type": "execute_result"
    }
   ],
   "source": [
    "df.sample(10)"
   ]
  },
  {
   "cell_type": "code",
   "execution_count": 470,
   "id": "0451f2f7",
   "metadata": {},
   "outputs": [
    {
     "name": "stdout",
     "output_type": "stream",
     "text": [
      "<class 'pandas.core.frame.DataFrame'>\n",
      "Int64Index: 1309 entries, 0 to 417\n",
      "Data columns (total 12 columns):\n",
      " #   Column       Non-Null Count  Dtype  \n",
      "---  ------       --------------  -----  \n",
      " 0   PassengerId  1309 non-null   int64  \n",
      " 1   Survived     891 non-null    float64\n",
      " 2   Pclass       1309 non-null   int64  \n",
      " 3   Name         1309 non-null   object \n",
      " 4   Sex          1309 non-null   object \n",
      " 5   Age          1046 non-null   float64\n",
      " 6   SibSp        1309 non-null   int64  \n",
      " 7   Parch        1309 non-null   int64  \n",
      " 8   Ticket       1309 non-null   object \n",
      " 9   Fare         1308 non-null   float64\n",
      " 10  Cabin        295 non-null    object \n",
      " 11  Embarked     1307 non-null   object \n",
      "dtypes: float64(3), int64(4), object(5)\n",
      "memory usage: 132.9+ KB\n"
     ]
    }
   ],
   "source": [
    "df.info()"
   ]
  },
  {
   "cell_type": "code",
   "execution_count": 471,
   "id": "fb0d6125",
   "metadata": {},
   "outputs": [
    {
     "data": {
      "text/plain": [
       "PassengerId       0\n",
       "Survived        418\n",
       "Pclass            0\n",
       "Name              0\n",
       "Sex               0\n",
       "Age             263\n",
       "SibSp             0\n",
       "Parch             0\n",
       "Ticket            0\n",
       "Fare              1\n",
       "Cabin          1014\n",
       "Embarked          2\n",
       "dtype: int64"
      ]
     },
     "execution_count": 471,
     "metadata": {},
     "output_type": "execute_result"
    }
   ],
   "source": [
    "df.isnull().sum()"
   ]
  },
  {
   "cell_type": "code",
   "execution_count": 472,
   "id": "755ec30d",
   "metadata": {},
   "outputs": [],
   "source": [
    "# We got the titles using Regular Expression\n",
    "df[\"Title\"] = df[\"Name\"].str.extract(\"(\\S+)\\.\", expand = False)\n",
    "#df[\"Title2\"] = df[\"Name\"].str.extract(\" ([A-Za-z]+)\\.\", expand = False)"
   ]
  },
  {
   "cell_type": "code",
   "execution_count": 473,
   "id": "365556c6",
   "metadata": {},
   "outputs": [
    {
     "data": {
      "text/plain": [
       "Mr          757\n",
       "Miss        260\n",
       "Mrs         197\n",
       "Master       61\n",
       "Dr            8\n",
       "Rev           8\n",
       "Col           4\n",
       "Mlle          2\n",
       "Major         2\n",
       "Ms            2\n",
       "Sir           1\n",
       "Lady          1\n",
       "Mme           1\n",
       "Countess      1\n",
       "Don           1\n",
       "Dona          1\n",
       "Jonkheer      1\n",
       "Capt          1\n",
       "Name: Title, dtype: int64"
      ]
     },
     "execution_count": 473,
     "metadata": {},
     "output_type": "execute_result"
    }
   ],
   "source": [
    "df[\"Title\"].value_counts()"
   ]
  },
  {
   "cell_type": "code",
   "execution_count": 474,
   "id": "3ee4b0de",
   "metadata": {},
   "outputs": [],
   "source": [
    "df[\"Title\"] = df[\"Title\"].replace([\"Ms\", \"Mlle\"], \"Miss\")\n",
    "df[\"Title\"] = df[\"Title\"].replace([\"Mme\", \"Countess\", \"Lady\", \"Dona\"], \"Mrs\")\n",
    "df[\"Title\"] = df[\"Title\"].replace([\"Dr\", \"Major\", \"Col\", \"Sir\", \"Rev\", \"Jonkheer\", \"Capt\", \"Don\"], \"Mr\")"
   ]
  },
  {
   "cell_type": "code",
   "execution_count": 475,
   "id": "31d397e2",
   "metadata": {},
   "outputs": [
    {
     "data": {
      "text/plain": [
       "Mr        783\n",
       "Miss      264\n",
       "Mrs       201\n",
       "Master     61\n",
       "Name: Title, dtype: int64"
      ]
     },
     "execution_count": 475,
     "metadata": {},
     "output_type": "execute_result"
    }
   ],
   "source": [
    "df[\"Title\"].value_counts()"
   ]
  },
  {
   "cell_type": "code",
   "execution_count": 476,
   "id": "30a717b1",
   "metadata": {},
   "outputs": [
    {
     "data": {
      "text/plain": [
       "Sex\n",
       "female    27.0\n",
       "male      28.0\n",
       "Name: Age, dtype: float64"
      ]
     },
     "execution_count": 476,
     "metadata": {},
     "output_type": "execute_result"
    }
   ],
   "source": [
    "df.groupby(\"Sex\")[\"Age\"].median()"
   ]
  },
  {
   "cell_type": "code",
   "execution_count": 477,
   "id": "4279c624",
   "metadata": {},
   "outputs": [
    {
     "data": {
      "text/plain": [
       "PassengerId       0\n",
       "Survived        418\n",
       "Pclass            0\n",
       "Name              0\n",
       "Sex               0\n",
       "Age             263\n",
       "SibSp             0\n",
       "Parch             0\n",
       "Ticket            0\n",
       "Fare              1\n",
       "Cabin          1014\n",
       "Embarked          2\n",
       "Title             0\n",
       "dtype: int64"
      ]
     },
     "execution_count": 477,
     "metadata": {},
     "output_type": "execute_result"
    }
   ],
   "source": [
    "df.isnull().sum()"
   ]
  },
  {
   "cell_type": "code",
   "execution_count": 478,
   "id": "41f650a8",
   "metadata": {},
   "outputs": [
    {
     "data": {
      "text/plain": [
       "0      30.0\n",
       "1      35.5\n",
       "2      22.0\n",
       "3      35.5\n",
       "4      30.0\n",
       "       ... \n",
       "413    30.0\n",
       "414    35.5\n",
       "415    30.0\n",
       "416    30.0\n",
       "417     4.0\n",
       "Name: Age, Length: 1309, dtype: float64"
      ]
     },
     "execution_count": 478,
     "metadata": {},
     "output_type": "execute_result"
    }
   ],
   "source": [
    "# We fill in the blanks according to the title\n",
    "df[\"Age\"].fillna(df.groupby(\"Title\")[\"Age\"].transform(\"median\"), inplace = True)\n",
    "df.groupby(\"Title\")[\"Age\"].transform(\"median\")"
   ]
  },
  {
   "cell_type": "code",
   "execution_count": 480,
   "id": "9f5fbfc5",
   "metadata": {},
   "outputs": [],
   "source": [
    "del df[\"Cabin\"] # We delete it because the total number of data is below 20%"
   ]
  },
  {
   "cell_type": "code",
   "execution_count": 481,
   "id": "6bdc5ec8",
   "metadata": {},
   "outputs": [
    {
     "data": {
      "text/plain": [
       "S    914\n",
       "C    270\n",
       "Q    123\n",
       "Name: Embarked, dtype: int64"
      ]
     },
     "execution_count": 481,
     "metadata": {},
     "output_type": "execute_result"
    }
   ],
   "source": [
    "df[\"Embarked\"].value_counts() # we'll fill in the blanks with the most Embarked"
   ]
  },
  {
   "cell_type": "code",
   "execution_count": 482,
   "id": "c82f9e46",
   "metadata": {},
   "outputs": [
    {
     "data": {
      "text/plain": [
       "S    0.699311\n",
       "C    0.206580\n",
       "Q    0.094109\n",
       "Name: Embarked, dtype: float64"
      ]
     },
     "execution_count": 482,
     "metadata": {},
     "output_type": "execute_result"
    }
   ],
   "source": [
    "df[\"Embarked\"].value_counts(normalize=True) # Since 70% is a high rate, we fill both spaces with S."
   ]
  },
  {
   "cell_type": "code",
   "execution_count": 483,
   "id": "60a59af2",
   "metadata": {},
   "outputs": [],
   "source": [
    "df[\"Embarked\"].fillna(\"S\", inplace = True) # We fill it with S"
   ]
  },
  {
   "cell_type": "code",
   "execution_count": 484,
   "id": "c84e210b",
   "metadata": {},
   "outputs": [],
   "source": [
    "df[\"Fare\"].fillna(df[\"Fare\"].mean(), inplace = True)  # We fill the single space in Mouse with the average"
   ]
  },
  {
   "cell_type": "code",
   "execution_count": 485,
   "id": "d0a2a722",
   "metadata": {},
   "outputs": [],
   "source": [
    "df[\"FamilySize\"] = df[\"SibSp\"] + df[\"Parch\"] + 1"
   ]
  },
  {
   "cell_type": "code",
   "execution_count": 486,
   "id": "6a34e86a",
   "metadata": {},
   "outputs": [
    {
     "data": {
      "text/plain": [
       "1     790\n",
       "2     235\n",
       "3     159\n",
       "4      43\n",
       "6      25\n",
       "5      22\n",
       "7      16\n",
       "11     11\n",
       "8       8\n",
       "Name: FamilySize, dtype: int64"
      ]
     },
     "execution_count": 486,
     "metadata": {},
     "output_type": "execute_result"
    }
   ],
   "source": [
    "df[\"FamilySize\"].value_counts()"
   ]
  },
  {
   "cell_type": "code",
   "execution_count": 488,
   "id": "9f949b5c",
   "metadata": {},
   "outputs": [],
   "source": [
    "del df[\"Name\"]"
   ]
  },
  {
   "cell_type": "code",
   "execution_count": 489,
   "id": "a765c42c",
   "metadata": {},
   "outputs": [],
   "source": [
    "df.drop([\"PassengerId\", \"Ticket\"], axis = 1, inplace = True)"
   ]
  },
  {
   "cell_type": "code",
   "execution_count": 490,
   "id": "c8ae73d6",
   "metadata": {},
   "outputs": [
    {
     "name": "stdout",
     "output_type": "stream",
     "text": [
      "<class 'pandas.core.frame.DataFrame'>\n",
      "Int64Index: 1309 entries, 0 to 417\n",
      "Data columns (total 10 columns):\n",
      " #   Column      Non-Null Count  Dtype  \n",
      "---  ------      --------------  -----  \n",
      " 0   Survived    891 non-null    float64\n",
      " 1   Pclass      1309 non-null   int64  \n",
      " 2   Sex         1309 non-null   object \n",
      " 3   Age         1309 non-null   float64\n",
      " 4   SibSp       1309 non-null   int64  \n",
      " 5   Parch       1309 non-null   int64  \n",
      " 6   Fare        1309 non-null   float64\n",
      " 7   Embarked    1309 non-null   object \n",
      " 8   Title       1309 non-null   object \n",
      " 9   FamilySize  1309 non-null   int64  \n",
      "dtypes: float64(3), int64(4), object(3)\n",
      "memory usage: 112.5+ KB\n"
     ]
    }
   ],
   "source": [
    "df.info()"
   ]
  },
  {
   "cell_type": "code",
   "execution_count": 491,
   "id": "716c9f37",
   "metadata": {},
   "outputs": [],
   "source": [
    "df_temp = pd.get_dummies(df, drop_first = True)"
   ]
  },
  {
   "cell_type": "code",
   "execution_count": 492,
   "id": "b32f31d6",
   "metadata": {},
   "outputs": [],
   "source": [
    "df_train = df_temp[:891]\n",
    "df_test = df_temp[891:]"
   ]
  },
  {
   "cell_type": "code",
   "execution_count": 493,
   "id": "e3bb00fd",
   "metadata": {},
   "outputs": [
    {
     "data": {
      "text/plain": [
       "((891, 13), (418, 13))"
      ]
     },
     "execution_count": 493,
     "metadata": {},
     "output_type": "execute_result"
    }
   ],
   "source": [
    "df_train.shape, df_test.shape"
   ]
  },
  {
   "cell_type": "code",
   "execution_count": 494,
   "id": "ace0982f",
   "metadata": {},
   "outputs": [
    {
     "data": {
      "text/html": [
       "<div>\n",
       "<style scoped>\n",
       "    .dataframe tbody tr th:only-of-type {\n",
       "        vertical-align: middle;\n",
       "    }\n",
       "\n",
       "    .dataframe tbody tr th {\n",
       "        vertical-align: top;\n",
       "    }\n",
       "\n",
       "    .dataframe thead th {\n",
       "        text-align: right;\n",
       "    }\n",
       "</style>\n",
       "<table border=\"1\" class=\"dataframe\">\n",
       "  <thead>\n",
       "    <tr style=\"text-align: right;\">\n",
       "      <th></th>\n",
       "      <th>Survived</th>\n",
       "      <th>Pclass</th>\n",
       "      <th>Age</th>\n",
       "      <th>SibSp</th>\n",
       "      <th>Parch</th>\n",
       "      <th>Fare</th>\n",
       "      <th>FamilySize</th>\n",
       "      <th>Sex_male</th>\n",
       "      <th>Embarked_Q</th>\n",
       "      <th>Embarked_S</th>\n",
       "      <th>Title_Miss</th>\n",
       "      <th>Title_Mr</th>\n",
       "      <th>Title_Mrs</th>\n",
       "    </tr>\n",
       "  </thead>\n",
       "  <tbody>\n",
       "    <tr>\n",
       "      <th>0</th>\n",
       "      <td>0.0</td>\n",
       "      <td>3</td>\n",
       "      <td>22.0</td>\n",
       "      <td>1</td>\n",
       "      <td>0</td>\n",
       "      <td>7.2500</td>\n",
       "      <td>2</td>\n",
       "      <td>1</td>\n",
       "      <td>0</td>\n",
       "      <td>1</td>\n",
       "      <td>0</td>\n",
       "      <td>1</td>\n",
       "      <td>0</td>\n",
       "    </tr>\n",
       "    <tr>\n",
       "      <th>1</th>\n",
       "      <td>1.0</td>\n",
       "      <td>1</td>\n",
       "      <td>38.0</td>\n",
       "      <td>1</td>\n",
       "      <td>0</td>\n",
       "      <td>71.2833</td>\n",
       "      <td>2</td>\n",
       "      <td>0</td>\n",
       "      <td>0</td>\n",
       "      <td>0</td>\n",
       "      <td>0</td>\n",
       "      <td>0</td>\n",
       "      <td>1</td>\n",
       "    </tr>\n",
       "    <tr>\n",
       "      <th>2</th>\n",
       "      <td>1.0</td>\n",
       "      <td>3</td>\n",
       "      <td>26.0</td>\n",
       "      <td>0</td>\n",
       "      <td>0</td>\n",
       "      <td>7.9250</td>\n",
       "      <td>1</td>\n",
       "      <td>0</td>\n",
       "      <td>0</td>\n",
       "      <td>1</td>\n",
       "      <td>1</td>\n",
       "      <td>0</td>\n",
       "      <td>0</td>\n",
       "    </tr>\n",
       "    <tr>\n",
       "      <th>3</th>\n",
       "      <td>1.0</td>\n",
       "      <td>1</td>\n",
       "      <td>35.0</td>\n",
       "      <td>1</td>\n",
       "      <td>0</td>\n",
       "      <td>53.1000</td>\n",
       "      <td>2</td>\n",
       "      <td>0</td>\n",
       "      <td>0</td>\n",
       "      <td>1</td>\n",
       "      <td>0</td>\n",
       "      <td>0</td>\n",
       "      <td>1</td>\n",
       "    </tr>\n",
       "    <tr>\n",
       "      <th>4</th>\n",
       "      <td>0.0</td>\n",
       "      <td>3</td>\n",
       "      <td>35.0</td>\n",
       "      <td>0</td>\n",
       "      <td>0</td>\n",
       "      <td>8.0500</td>\n",
       "      <td>1</td>\n",
       "      <td>1</td>\n",
       "      <td>0</td>\n",
       "      <td>1</td>\n",
       "      <td>0</td>\n",
       "      <td>1</td>\n",
       "      <td>0</td>\n",
       "    </tr>\n",
       "  </tbody>\n",
       "</table>\n",
       "</div>"
      ],
      "text/plain": [
       "   Survived  Pclass   Age  SibSp  Parch     Fare  FamilySize  Sex_male  \\\n",
       "0       0.0       3  22.0      1      0   7.2500           2         1   \n",
       "1       1.0       1  38.0      1      0  71.2833           2         0   \n",
       "2       1.0       3  26.0      0      0   7.9250           1         0   \n",
       "3       1.0       1  35.0      1      0  53.1000           2         0   \n",
       "4       0.0       3  35.0      0      0   8.0500           1         1   \n",
       "\n",
       "   Embarked_Q  Embarked_S  Title_Miss  Title_Mr  Title_Mrs  \n",
       "0           0           1           0         1          0  \n",
       "1           0           0           0         0          1  \n",
       "2           0           1           1         0          0  \n",
       "3           0           1           0         0          1  \n",
       "4           0           1           0         1          0  "
      ]
     },
     "execution_count": 494,
     "metadata": {},
     "output_type": "execute_result"
    }
   ],
   "source": [
    "df_train.head()"
   ]
  },
  {
   "cell_type": "markdown",
   "id": "7ed909fa",
   "metadata": {},
   "source": [
    "## Modeling and Predicting"
   ]
  },
  {
   "cell_type": "code",
   "execution_count": 495,
   "id": "a33b0750",
   "metadata": {},
   "outputs": [],
   "source": [
    "y = df_train[\"Survived\"]\n",
    "del df_train[\"Survived\"]"
   ]
  },
  {
   "cell_type": "code",
   "execution_count": 496,
   "id": "f0de2dbd",
   "metadata": {},
   "outputs": [],
   "source": [
    "import tensorflow as tf\n",
    "from tensorflow.keras.optimizers import Adam\n",
    "from tensorflow.keras import regularizers"
   ]
  },
  {
   "cell_type": "code",
   "execution_count": 497,
   "id": "fb772af1",
   "metadata": {},
   "outputs": [],
   "source": [
    "model = tf.keras.Sequential([\n",
    "    tf.keras.layers.Dense(256, activation = \"relu\"),\n",
    "    tf.keras.layers.Dropout(0.09),\n",
    "    tf.keras.layers.Dense(256, activation = \"relu\"),\n",
    "    tf.keras.layers.Dropout(0.09),\n",
    "    tf.keras.layers.Dense(256, activation = \"relu\"),\n",
    "    tf.keras.layers.Dropout(0.09),\n",
    "    tf.keras.layers.Dense(256, activation = \"relu\"),\n",
    "    tf.keras.layers.Dropout(0.09),\n",
    "    tf.keras.layers.Dense(1, activation = \"sigmoid\")\n",
    "])"
   ]
  },
  {
   "cell_type": "code",
   "execution_count": 498,
   "id": "e43158ab",
   "metadata": {},
   "outputs": [],
   "source": [
    "model.compile(loss = \"binary_crossentropy\", optimizer = \"adam\", metrics = [\"accuracy\"])"
   ]
  },
  {
   "cell_type": "code",
   "execution_count": 499,
   "id": "1721f6a2",
   "metadata": {},
   "outputs": [
    {
     "name": "stdout",
     "output_type": "stream",
     "text": [
      "Epoch 1/250\n",
      "26/26 [==============================] - 1s 9ms/step - loss: 0.7395 - accuracy: 0.6479 - val_loss: 0.7403 - val_accuracy: 0.6222\n",
      "Epoch 2/250\n",
      "26/26 [==============================] - 0s 4ms/step - loss: 0.7721 - accuracy: 0.6554 - val_loss: 0.5766 - val_accuracy: 0.6889\n",
      "Epoch 3/250\n",
      "26/26 [==============================] - 0s 4ms/step - loss: 0.6553 - accuracy: 0.6542 - val_loss: 0.5860 - val_accuracy: 0.6222\n",
      "Epoch 4/250\n",
      "26/26 [==============================] - 0s 4ms/step - loss: 0.6180 - accuracy: 0.6504 - val_loss: 0.4953 - val_accuracy: 0.7333\n",
      "Epoch 5/250\n",
      "26/26 [==============================] - 0s 3ms/step - loss: 0.5923 - accuracy: 0.6904 - val_loss: 0.5110 - val_accuracy: 0.7222\n",
      "Epoch 6/250\n",
      "26/26 [==============================] - 0s 4ms/step - loss: 0.6234 - accuracy: 0.6779 - val_loss: 0.4968 - val_accuracy: 0.7444\n",
      "Epoch 7/250\n",
      "26/26 [==============================] - 0s 4ms/step - loss: 0.5772 - accuracy: 0.7041 - val_loss: 0.4674 - val_accuracy: 0.8333\n",
      "Epoch 8/250\n",
      "26/26 [==============================] - 0s 3ms/step - loss: 0.5616 - accuracy: 0.7241 - val_loss: 0.4427 - val_accuracy: 0.7778\n",
      "Epoch 9/250\n",
      "26/26 [==============================] - 0s 4ms/step - loss: 0.5610 - accuracy: 0.7291 - val_loss: 0.4335 - val_accuracy: 0.8111\n",
      "Epoch 10/250\n",
      "26/26 [==============================] - 0s 4ms/step - loss: 0.5383 - accuracy: 0.7341 - val_loss: 0.4265 - val_accuracy: 0.7778\n",
      "Epoch 11/250\n",
      "26/26 [==============================] - 0s 4ms/step - loss: 0.5175 - accuracy: 0.7640 - val_loss: 0.4235 - val_accuracy: 0.8222\n",
      "Epoch 12/250\n",
      "26/26 [==============================] - 0s 5ms/step - loss: 0.5162 - accuracy: 0.7815 - val_loss: 0.4050 - val_accuracy: 0.8111\n",
      "Epoch 13/250\n",
      "26/26 [==============================] - 0s 4ms/step - loss: 0.5350 - accuracy: 0.7603 - val_loss: 0.4058 - val_accuracy: 0.8111\n",
      "Epoch 14/250\n",
      "26/26 [==============================] - 0s 5ms/step - loss: 0.4920 - accuracy: 0.7790 - val_loss: 0.3972 - val_accuracy: 0.8222\n",
      "Epoch 15/250\n",
      "26/26 [==============================] - 0s 10ms/step - loss: 0.5156 - accuracy: 0.7753 - val_loss: 0.3967 - val_accuracy: 0.8333\n",
      "Epoch 16/250\n",
      "26/26 [==============================] - 0s 10ms/step - loss: 0.4902 - accuracy: 0.7803 - val_loss: 0.3941 - val_accuracy: 0.8333\n",
      "Epoch 17/250\n",
      "26/26 [==============================] - 0s 9ms/step - loss: 0.4818 - accuracy: 0.7878 - val_loss: 0.4491 - val_accuracy: 0.8556\n",
      "Epoch 18/250\n",
      "26/26 [==============================] - 0s 10ms/step - loss: 0.5062 - accuracy: 0.7665 - val_loss: 0.3864 - val_accuracy: 0.8222\n",
      "Epoch 19/250\n",
      "26/26 [==============================] - 0s 10ms/step - loss: 0.4867 - accuracy: 0.7953 - val_loss: 0.4664 - val_accuracy: 0.7556\n",
      "Epoch 20/250\n",
      "26/26 [==============================] - 0s 11ms/step - loss: 0.6326 - accuracy: 0.7166 - val_loss: 0.4079 - val_accuracy: 0.8444\n",
      "Epoch 21/250\n",
      "26/26 [==============================] - 0s 10ms/step - loss: 0.5000 - accuracy: 0.7828 - val_loss: 0.3931 - val_accuracy: 0.8444\n",
      "Epoch 22/250\n",
      "26/26 [==============================] - 0s 10ms/step - loss: 0.4727 - accuracy: 0.8002 - val_loss: 0.3734 - val_accuracy: 0.8556\n",
      "Epoch 23/250\n",
      "26/26 [==============================] - 0s 10ms/step - loss: 0.4625 - accuracy: 0.7915 - val_loss: 0.3609 - val_accuracy: 0.8333\n",
      "Epoch 24/250\n",
      "26/26 [==============================] - 0s 11ms/step - loss: 0.5198 - accuracy: 0.7690 - val_loss: 0.4412 - val_accuracy: 0.8556\n",
      "Epoch 25/250\n",
      "26/26 [==============================] - 0s 11ms/step - loss: 0.4902 - accuracy: 0.7940 - val_loss: 0.4131 - val_accuracy: 0.8444\n",
      "Epoch 26/250\n",
      "26/26 [==============================] - 0s 11ms/step - loss: 0.4788 - accuracy: 0.8002 - val_loss: 0.3728 - val_accuracy: 0.8444\n",
      "Epoch 27/250\n",
      "26/26 [==============================] - 0s 11ms/step - loss: 0.4519 - accuracy: 0.7978 - val_loss: 0.3759 - val_accuracy: 0.8333\n",
      "Epoch 28/250\n",
      "26/26 [==============================] - 0s 11ms/step - loss: 0.4692 - accuracy: 0.8015 - val_loss: 0.3526 - val_accuracy: 0.8556\n",
      "Epoch 29/250\n",
      "26/26 [==============================] - 0s 12ms/step - loss: 0.4582 - accuracy: 0.8015 - val_loss: 0.3512 - val_accuracy: 0.8556\n",
      "Epoch 30/250\n",
      "26/26 [==============================] - 0s 8ms/step - loss: 0.4524 - accuracy: 0.8027 - val_loss: 0.3477 - val_accuracy: 0.8444\n",
      "Epoch 31/250\n",
      "26/26 [==============================] - 0s 4ms/step - loss: 0.4431 - accuracy: 0.8102 - val_loss: 0.3460 - val_accuracy: 0.8667\n",
      "Epoch 32/250\n",
      "26/26 [==============================] - 0s 5ms/step - loss: 0.4339 - accuracy: 0.8140 - val_loss: 0.3419 - val_accuracy: 0.8667\n",
      "Epoch 33/250\n",
      "26/26 [==============================] - 0s 9ms/step - loss: 0.4433 - accuracy: 0.8140 - val_loss: 0.3524 - val_accuracy: 0.8333\n",
      "Epoch 34/250\n",
      "26/26 [==============================] - 0s 9ms/step - loss: 0.4665 - accuracy: 0.7878 - val_loss: 0.3348 - val_accuracy: 0.8667\n",
      "Epoch 35/250\n",
      "26/26 [==============================] - 0s 9ms/step - loss: 0.4428 - accuracy: 0.8015 - val_loss: 0.3455 - val_accuracy: 0.8667\n",
      "Epoch 36/250\n",
      "26/26 [==============================] - 0s 8ms/step - loss: 0.4203 - accuracy: 0.8115 - val_loss: 0.3345 - val_accuracy: 0.8667\n",
      "Epoch 37/250\n",
      "26/26 [==============================] - 0s 8ms/step - loss: 0.4352 - accuracy: 0.8152 - val_loss: 0.3461 - val_accuracy: 0.8444\n",
      "Epoch 38/250\n",
      "26/26 [==============================] - 0s 9ms/step - loss: 0.4360 - accuracy: 0.8052 - val_loss: 0.3448 - val_accuracy: 0.8556\n",
      "Epoch 39/250\n",
      "26/26 [==============================] - 0s 9ms/step - loss: 0.4309 - accuracy: 0.8215 - val_loss: 0.3484 - val_accuracy: 0.8556\n",
      "Epoch 40/250\n",
      "26/26 [==============================] - 0s 9ms/step - loss: 0.4232 - accuracy: 0.8202 - val_loss: 0.3384 - val_accuracy: 0.8444\n",
      "Epoch 41/250\n",
      "26/26 [==============================] - 0s 9ms/step - loss: 0.4267 - accuracy: 0.8115 - val_loss: 0.3491 - val_accuracy: 0.8556\n",
      "Epoch 42/250\n",
      "26/26 [==============================] - 0s 9ms/step - loss: 0.4219 - accuracy: 0.8252 - val_loss: 0.3378 - val_accuracy: 0.8667\n",
      "Epoch 43/250\n",
      "26/26 [==============================] - 0s 8ms/step - loss: 0.4130 - accuracy: 0.8090 - val_loss: 0.3246 - val_accuracy: 0.8556\n",
      "Epoch 44/250\n",
      "26/26 [==============================] - 0s 8ms/step - loss: 0.4366 - accuracy: 0.8127 - val_loss: 0.3699 - val_accuracy: 0.8444\n",
      "Epoch 45/250\n",
      "26/26 [==============================] - 0s 8ms/step - loss: 0.4591 - accuracy: 0.8140 - val_loss: 0.3664 - val_accuracy: 0.8556\n",
      "Epoch 46/250\n",
      "26/26 [==============================] - 0s 9ms/step - loss: 0.4246 - accuracy: 0.8215 - val_loss: 0.3577 - val_accuracy: 0.8444\n",
      "Epoch 47/250\n",
      "26/26 [==============================] - 0s 9ms/step - loss: 0.4544 - accuracy: 0.8165 - val_loss: 0.3349 - val_accuracy: 0.8444\n",
      "Epoch 48/250\n",
      "26/26 [==============================] - 0s 10ms/step - loss: 0.4370 - accuracy: 0.8215 - val_loss: 0.3459 - val_accuracy: 0.8667\n",
      "Epoch 49/250\n",
      "26/26 [==============================] - 0s 9ms/step - loss: 0.4069 - accuracy: 0.8215 - val_loss: 0.3300 - val_accuracy: 0.8667\n",
      "Epoch 50/250\n",
      "26/26 [==============================] - 0s 9ms/step - loss: 0.4198 - accuracy: 0.8177 - val_loss: 0.3314 - val_accuracy: 0.8667\n",
      "Epoch 51/250\n",
      "26/26 [==============================] - 0s 8ms/step - loss: 0.4182 - accuracy: 0.8177 - val_loss: 0.3265 - val_accuracy: 0.8444\n",
      "Epoch 52/250\n",
      "26/26 [==============================] - 0s 8ms/step - loss: 0.4108 - accuracy: 0.8152 - val_loss: 0.3214 - val_accuracy: 0.8556\n",
      "Epoch 53/250\n",
      "26/26 [==============================] - 0s 9ms/step - loss: 0.4270 - accuracy: 0.8215 - val_loss: 0.3282 - val_accuracy: 0.8444\n",
      "Epoch 54/250\n",
      "26/26 [==============================] - 0s 8ms/step - loss: 0.4020 - accuracy: 0.8302 - val_loss: 0.3291 - val_accuracy: 0.8556\n",
      "Epoch 55/250\n",
      "26/26 [==============================] - 0s 8ms/step - loss: 0.4130 - accuracy: 0.8252 - val_loss: 0.3395 - val_accuracy: 0.8556\n",
      "Epoch 56/250\n",
      "26/26 [==============================] - 0s 8ms/step - loss: 0.4170 - accuracy: 0.8190 - val_loss: 0.3209 - val_accuracy: 0.8667\n",
      "Epoch 57/250\n",
      "26/26 [==============================] - 0s 8ms/step - loss: 0.4247 - accuracy: 0.8140 - val_loss: 0.3421 - val_accuracy: 0.8556\n",
      "Epoch 58/250\n",
      "26/26 [==============================] - 0s 8ms/step - loss: 0.4515 - accuracy: 0.8115 - val_loss: 0.3350 - val_accuracy: 0.8444\n",
      "Epoch 59/250\n",
      "26/26 [==============================] - 0s 8ms/step - loss: 0.4173 - accuracy: 0.8202 - val_loss: 0.3404 - val_accuracy: 0.8667\n",
      "Epoch 60/250\n",
      "26/26 [==============================] - 0s 9ms/step - loss: 0.4253 - accuracy: 0.8140 - val_loss: 0.3166 - val_accuracy: 0.8556\n",
      "Epoch 61/250\n",
      "26/26 [==============================] - 0s 9ms/step - loss: 0.4052 - accuracy: 0.8327 - val_loss: 0.3265 - val_accuracy: 0.8333\n",
      "Epoch 62/250\n",
      "26/26 [==============================] - 0s 9ms/step - loss: 0.3997 - accuracy: 0.8190 - val_loss: 0.3256 - val_accuracy: 0.8556\n",
      "Epoch 63/250\n",
      "26/26 [==============================] - 0s 9ms/step - loss: 0.4141 - accuracy: 0.8202 - val_loss: 0.3392 - val_accuracy: 0.8556\n",
      "Epoch 64/250\n",
      "26/26 [==============================] - 0s 4ms/step - loss: 0.4017 - accuracy: 0.8215 - val_loss: 0.3246 - val_accuracy: 0.8556\n",
      "Epoch 65/250\n",
      "26/26 [==============================] - 0s 4ms/step - loss: 0.4046 - accuracy: 0.8227 - val_loss: 0.3273 - val_accuracy: 0.8667\n",
      "Epoch 66/250\n",
      "26/26 [==============================] - 0s 8ms/step - loss: 0.4102 - accuracy: 0.8240 - val_loss: 0.3288 - val_accuracy: 0.8556\n",
      "Epoch 67/250\n",
      "26/26 [==============================] - 0s 10ms/step - loss: 0.4088 - accuracy: 0.8152 - val_loss: 0.3153 - val_accuracy: 0.8556\n",
      "Epoch 68/250\n",
      "26/26 [==============================] - 0s 10ms/step - loss: 0.4042 - accuracy: 0.8240 - val_loss: 0.3237 - val_accuracy: 0.8444\n",
      "Epoch 69/250\n",
      "26/26 [==============================] - 0s 10ms/step - loss: 0.3987 - accuracy: 0.8215 - val_loss: 0.3159 - val_accuracy: 0.8556\n",
      "Epoch 70/250\n",
      "26/26 [==============================] - 0s 9ms/step - loss: 0.4073 - accuracy: 0.8240 - val_loss: 0.3371 - val_accuracy: 0.8667\n",
      "Epoch 71/250\n",
      "26/26 [==============================] - 0s 9ms/step - loss: 0.3840 - accuracy: 0.8327 - val_loss: 0.3295 - val_accuracy: 0.8444\n",
      "Epoch 72/250\n",
      "26/26 [==============================] - 0s 9ms/step - loss: 0.4065 - accuracy: 0.8215 - val_loss: 0.3429 - val_accuracy: 0.8444\n",
      "Epoch 73/250\n",
      "26/26 [==============================] - 0s 10ms/step - loss: 0.3912 - accuracy: 0.8315 - val_loss: 0.3156 - val_accuracy: 0.8556\n",
      "Epoch 74/250\n",
      "26/26 [==============================] - 0s 9ms/step - loss: 0.4154 - accuracy: 0.7953 - val_loss: 0.3432 - val_accuracy: 0.8444\n",
      "Epoch 75/250\n",
      "26/26 [==============================] - 0s 9ms/step - loss: 0.4028 - accuracy: 0.8227 - val_loss: 0.3306 - val_accuracy: 0.8667\n",
      "Epoch 76/250\n",
      "26/26 [==============================] - 0s 9ms/step - loss: 0.3923 - accuracy: 0.8265 - val_loss: 0.3238 - val_accuracy: 0.8556\n",
      "Epoch 77/250\n",
      "26/26 [==============================] - 0s 9ms/step - loss: 0.3944 - accuracy: 0.8252 - val_loss: 0.3373 - val_accuracy: 0.8667\n",
      "Epoch 78/250\n",
      "26/26 [==============================] - 0s 8ms/step - loss: 0.3816 - accuracy: 0.8340 - val_loss: 0.3167 - val_accuracy: 0.8556\n",
      "Epoch 79/250\n",
      "26/26 [==============================] - 0s 8ms/step - loss: 0.4201 - accuracy: 0.8252 - val_loss: 0.3461 - val_accuracy: 0.8556\n",
      "Epoch 80/250\n",
      "26/26 [==============================] - 0s 8ms/step - loss: 0.3948 - accuracy: 0.8315 - val_loss: 0.3372 - val_accuracy: 0.8556\n",
      "Epoch 81/250\n",
      "26/26 [==============================] - 0s 8ms/step - loss: 0.4124 - accuracy: 0.8265 - val_loss: 0.3260 - val_accuracy: 0.8556\n",
      "Epoch 82/250\n",
      "26/26 [==============================] - 0s 9ms/step - loss: 0.3981 - accuracy: 0.8327 - val_loss: 0.3327 - val_accuracy: 0.8444\n",
      "Epoch 83/250\n",
      "26/26 [==============================] - 0s 8ms/step - loss: 0.3869 - accuracy: 0.8290 - val_loss: 0.3276 - val_accuracy: 0.8556\n",
      "Epoch 84/250\n",
      "26/26 [==============================] - 0s 9ms/step - loss: 0.4115 - accuracy: 0.8365 - val_loss: 0.3254 - val_accuracy: 0.8444\n",
      "Epoch 85/250\n",
      "26/26 [==============================] - 0s 10ms/step - loss: 0.3960 - accuracy: 0.8227 - val_loss: 0.3356 - val_accuracy: 0.8556\n",
      "Epoch 86/250\n",
      "26/26 [==============================] - 0s 9ms/step - loss: 0.3820 - accuracy: 0.8377 - val_loss: 0.3214 - val_accuracy: 0.8444\n",
      "Epoch 87/250\n",
      "26/26 [==============================] - 0s 9ms/step - loss: 0.3804 - accuracy: 0.8352 - val_loss: 0.3439 - val_accuracy: 0.8556\n",
      "Epoch 88/250\n",
      "26/26 [==============================] - 0s 8ms/step - loss: 0.3875 - accuracy: 0.8352 - val_loss: 0.3198 - val_accuracy: 0.8667\n",
      "Epoch 89/250\n",
      "26/26 [==============================] - 0s 9ms/step - loss: 0.3920 - accuracy: 0.8315 - val_loss: 0.3289 - val_accuracy: 0.8556\n",
      "Epoch 90/250\n",
      "26/26 [==============================] - 0s 10ms/step - loss: 0.3946 - accuracy: 0.8277 - val_loss: 0.3389 - val_accuracy: 0.8444\n",
      "Epoch 91/250\n",
      "26/26 [==============================] - 0s 10ms/step - loss: 0.4038 - accuracy: 0.8265 - val_loss: 0.3167 - val_accuracy: 0.8667\n",
      "Epoch 92/250\n",
      "26/26 [==============================] - 0s 10ms/step - loss: 0.3998 - accuracy: 0.8265 - val_loss: 0.3480 - val_accuracy: 0.8444\n",
      "Epoch 93/250\n",
      "26/26 [==============================] - 0s 10ms/step - loss: 0.3940 - accuracy: 0.8365 - val_loss: 0.3164 - val_accuracy: 0.8444\n",
      "Epoch 94/250\n",
      "26/26 [==============================] - 0s 9ms/step - loss: 0.4128 - accuracy: 0.8002 - val_loss: 0.3542 - val_accuracy: 0.8444\n",
      "Epoch 95/250\n",
      "26/26 [==============================] - 0s 9ms/step - loss: 0.3895 - accuracy: 0.8302 - val_loss: 0.3328 - val_accuracy: 0.8667\n",
      "Epoch 96/250\n",
      "26/26 [==============================] - 0s 9ms/step - loss: 0.3735 - accuracy: 0.8377 - val_loss: 0.3228 - val_accuracy: 0.8667\n",
      "Epoch 97/250\n",
      "26/26 [==============================] - 0s 9ms/step - loss: 0.3690 - accuracy: 0.8427 - val_loss: 0.3255 - val_accuracy: 0.8667\n",
      "Epoch 98/250\n",
      "26/26 [==============================] - 0s 5ms/step - loss: 0.3776 - accuracy: 0.8340 - val_loss: 0.3118 - val_accuracy: 0.8667\n",
      "Epoch 99/250\n",
      "26/26 [==============================] - 0s 6ms/step - loss: 0.3645 - accuracy: 0.8402 - val_loss: 0.3435 - val_accuracy: 0.8556\n",
      "Epoch 100/250\n",
      "26/26 [==============================] - 0s 6ms/step - loss: 0.4000 - accuracy: 0.8265 - val_loss: 0.3391 - val_accuracy: 0.8444\n",
      "Epoch 101/250\n",
      "26/26 [==============================] - 0s 6ms/step - loss: 0.3781 - accuracy: 0.8452 - val_loss: 0.3224 - val_accuracy: 0.8667\n",
      "Epoch 102/250\n",
      "26/26 [==============================] - 0s 6ms/step - loss: 0.3826 - accuracy: 0.8414 - val_loss: 0.3149 - val_accuracy: 0.8444\n",
      "Epoch 103/250\n",
      "26/26 [==============================] - 0s 4ms/step - loss: 0.3758 - accuracy: 0.8327 - val_loss: 0.3250 - val_accuracy: 0.8444\n",
      "Epoch 104/250\n",
      "26/26 [==============================] - 0s 4ms/step - loss: 0.3800 - accuracy: 0.8439 - val_loss: 0.3282 - val_accuracy: 0.8444\n",
      "Epoch 105/250\n",
      "26/26 [==============================] - 0s 4ms/step - loss: 0.3725 - accuracy: 0.8452 - val_loss: 0.3367 - val_accuracy: 0.8556\n",
      "Epoch 106/250\n",
      "26/26 [==============================] - 0s 4ms/step - loss: 0.3711 - accuracy: 0.8439 - val_loss: 0.3513 - val_accuracy: 0.8667\n",
      "Epoch 107/250\n",
      "26/26 [==============================] - 0s 4ms/step - loss: 0.3748 - accuracy: 0.8452 - val_loss: 0.3233 - val_accuracy: 0.8556\n",
      "Epoch 108/250\n",
      "26/26 [==============================] - 0s 4ms/step - loss: 0.3642 - accuracy: 0.8402 - val_loss: 0.3294 - val_accuracy: 0.8556\n",
      "Epoch 109/250\n",
      "26/26 [==============================] - 0s 4ms/step - loss: 0.3464 - accuracy: 0.8427 - val_loss: 0.3764 - val_accuracy: 0.8556\n",
      "Epoch 110/250\n",
      "26/26 [==============================] - 0s 4ms/step - loss: 0.4175 - accuracy: 0.8427 - val_loss: 0.3423 - val_accuracy: 0.8556\n",
      "Epoch 111/250\n",
      "26/26 [==============================] - 0s 4ms/step - loss: 0.3846 - accuracy: 0.8352 - val_loss: 0.3522 - val_accuracy: 0.8444\n",
      "Epoch 112/250\n",
      "26/26 [==============================] - 0s 4ms/step - loss: 0.3967 - accuracy: 0.8352 - val_loss: 0.3451 - val_accuracy: 0.8667\n",
      "Epoch 113/250\n",
      "26/26 [==============================] - 0s 4ms/step - loss: 0.3812 - accuracy: 0.8390 - val_loss: 0.3623 - val_accuracy: 0.8556\n",
      "Epoch 114/250\n",
      "26/26 [==============================] - 0s 4ms/step - loss: 0.3778 - accuracy: 0.8340 - val_loss: 0.3504 - val_accuracy: 0.8556\n",
      "Epoch 115/250\n"
     ]
    },
    {
     "name": "stdout",
     "output_type": "stream",
     "text": [
      "26/26 [==============================] - 0s 5ms/step - loss: 0.3802 - accuracy: 0.8390 - val_loss: 0.3701 - val_accuracy: 0.8667\n",
      "Epoch 116/250\n",
      "26/26 [==============================] - 0s 5ms/step - loss: 0.4093 - accuracy: 0.8252 - val_loss: 0.3161 - val_accuracy: 0.8444\n",
      "Epoch 117/250\n",
      "26/26 [==============================] - 0s 4ms/step - loss: 0.3872 - accuracy: 0.8390 - val_loss: 0.3358 - val_accuracy: 0.8333\n",
      "Epoch 118/250\n",
      "26/26 [==============================] - 0s 4ms/step - loss: 0.3793 - accuracy: 0.8315 - val_loss: 0.3611 - val_accuracy: 0.8444\n",
      "Epoch 119/250\n",
      "26/26 [==============================] - 0s 4ms/step - loss: 0.3720 - accuracy: 0.8390 - val_loss: 0.3654 - val_accuracy: 0.8667\n",
      "Epoch 120/250\n",
      "26/26 [==============================] - 0s 4ms/step - loss: 0.3752 - accuracy: 0.8390 - val_loss: 0.3654 - val_accuracy: 0.8667\n",
      "Epoch 121/250\n",
      "26/26 [==============================] - 0s 4ms/step - loss: 0.3759 - accuracy: 0.8439 - val_loss: 0.3392 - val_accuracy: 0.8667\n",
      "Epoch 122/250\n",
      "26/26 [==============================] - 0s 4ms/step - loss: 0.3663 - accuracy: 0.8439 - val_loss: 0.3398 - val_accuracy: 0.8444\n",
      "Epoch 123/250\n",
      "26/26 [==============================] - 0s 4ms/step - loss: 0.3837 - accuracy: 0.8439 - val_loss: 0.3703 - val_accuracy: 0.8333\n",
      "Epoch 124/250\n",
      "26/26 [==============================] - 0s 4ms/step - loss: 0.3768 - accuracy: 0.8365 - val_loss: 0.3500 - val_accuracy: 0.8556\n",
      "Epoch 125/250\n",
      "26/26 [==============================] - 0s 4ms/step - loss: 0.3594 - accuracy: 0.8439 - val_loss: 0.3504 - val_accuracy: 0.8667\n",
      "Epoch 126/250\n",
      "26/26 [==============================] - 0s 4ms/step - loss: 0.3790 - accuracy: 0.8315 - val_loss: 0.3559 - val_accuracy: 0.8667\n",
      "Epoch 127/250\n",
      "26/26 [==============================] - 0s 4ms/step - loss: 0.4616 - accuracy: 0.7978 - val_loss: 0.3494 - val_accuracy: 0.8444\n",
      "Epoch 128/250\n",
      "26/26 [==============================] - 0s 4ms/step - loss: 0.4155 - accuracy: 0.8190 - val_loss: 0.3432 - val_accuracy: 0.8667\n",
      "Epoch 129/250\n",
      "26/26 [==============================] - 0s 4ms/step - loss: 0.3802 - accuracy: 0.8340 - val_loss: 0.3455 - val_accuracy: 0.8556\n",
      "Epoch 130/250\n",
      "26/26 [==============================] - 0s 4ms/step - loss: 0.4090 - accuracy: 0.8340 - val_loss: 0.3340 - val_accuracy: 0.8556\n",
      "Epoch 131/250\n",
      "26/26 [==============================] - 0s 4ms/step - loss: 0.3781 - accuracy: 0.8302 - val_loss: 0.3519 - val_accuracy: 0.8444\n",
      "Epoch 132/250\n",
      "26/26 [==============================] - 0s 4ms/step - loss: 0.3840 - accuracy: 0.8352 - val_loss: 0.3479 - val_accuracy: 0.8444\n",
      "Epoch 133/250\n",
      "26/26 [==============================] - 0s 4ms/step - loss: 0.3816 - accuracy: 0.8302 - val_loss: 0.3521 - val_accuracy: 0.8222\n",
      "Epoch 134/250\n",
      "26/26 [==============================] - 0s 4ms/step - loss: 0.3696 - accuracy: 0.8365 - val_loss: 0.3539 - val_accuracy: 0.8333\n",
      "Epoch 135/250\n",
      "26/26 [==============================] - 0s 4ms/step - loss: 0.3667 - accuracy: 0.8390 - val_loss: 0.3337 - val_accuracy: 0.8556\n",
      "Epoch 136/250\n",
      "26/26 [==============================] - 0s 4ms/step - loss: 0.3674 - accuracy: 0.8377 - val_loss: 0.3377 - val_accuracy: 0.8556\n",
      "Epoch 137/250\n",
      "26/26 [==============================] - 0s 4ms/step - loss: 0.3671 - accuracy: 0.8464 - val_loss: 0.3193 - val_accuracy: 0.8444\n",
      "Epoch 138/250\n",
      "26/26 [==============================] - 0s 4ms/step - loss: 0.3667 - accuracy: 0.8489 - val_loss: 0.3397 - val_accuracy: 0.8556\n",
      "Epoch 139/250\n",
      "26/26 [==============================] - 0s 4ms/step - loss: 0.3567 - accuracy: 0.8514 - val_loss: 0.3350 - val_accuracy: 0.8556\n",
      "Epoch 140/250\n",
      "26/26 [==============================] - 0s 4ms/step - loss: 0.3504 - accuracy: 0.8464 - val_loss: 0.3533 - val_accuracy: 0.8444\n",
      "Epoch 141/250\n",
      "26/26 [==============================] - 0s 4ms/step - loss: 0.3404 - accuracy: 0.8502 - val_loss: 0.3450 - val_accuracy: 0.8444\n",
      "Epoch 142/250\n",
      "26/26 [==============================] - 0s 4ms/step - loss: 0.3692 - accuracy: 0.8464 - val_loss: 0.3452 - val_accuracy: 0.8556\n",
      "Epoch 143/250\n",
      "26/26 [==============================] - 0s 4ms/step - loss: 0.3700 - accuracy: 0.8402 - val_loss: 0.3399 - val_accuracy: 0.8556\n",
      "Epoch 144/250\n",
      "26/26 [==============================] - 0s 4ms/step - loss: 0.3548 - accuracy: 0.8414 - val_loss: 0.3657 - val_accuracy: 0.8444\n",
      "Epoch 145/250\n",
      "26/26 [==============================] - 0s 4ms/step - loss: 0.3727 - accuracy: 0.8315 - val_loss: 0.3685 - val_accuracy: 0.8444\n",
      "Epoch 146/250\n",
      "26/26 [==============================] - 0s 4ms/step - loss: 0.3542 - accuracy: 0.8477 - val_loss: 0.3468 - val_accuracy: 0.8444\n",
      "Epoch 147/250\n",
      "26/26 [==============================] - 0s 4ms/step - loss: 0.3503 - accuracy: 0.8552 - val_loss: 0.3609 - val_accuracy: 0.8556\n",
      "Epoch 148/250\n",
      "26/26 [==============================] - 0s 4ms/step - loss: 0.3585 - accuracy: 0.8414 - val_loss: 0.3519 - val_accuracy: 0.8444\n",
      "Epoch 149/250\n",
      "26/26 [==============================] - 0s 4ms/step - loss: 0.3537 - accuracy: 0.8439 - val_loss: 0.3654 - val_accuracy: 0.8556\n",
      "Epoch 150/250\n",
      "26/26 [==============================] - 0s 4ms/step - loss: 0.3547 - accuracy: 0.8390 - val_loss: 0.3177 - val_accuracy: 0.8556\n",
      "Epoch 151/250\n",
      "26/26 [==============================] - 0s 4ms/step - loss: 0.3619 - accuracy: 0.8427 - val_loss: 0.3912 - val_accuracy: 0.8556\n",
      "Epoch 152/250\n",
      "26/26 [==============================] - 0s 4ms/step - loss: 0.3614 - accuracy: 0.8502 - val_loss: 0.3604 - val_accuracy: 0.8333\n",
      "Epoch 153/250\n",
      "26/26 [==============================] - 0s 4ms/step - loss: 0.3765 - accuracy: 0.8377 - val_loss: 0.3388 - val_accuracy: 0.8667\n",
      "Epoch 154/250\n",
      "26/26 [==============================] - 0s 4ms/step - loss: 0.3587 - accuracy: 0.8464 - val_loss: 0.3487 - val_accuracy: 0.8444\n",
      "Epoch 155/250\n",
      "26/26 [==============================] - 0s 4ms/step - loss: 0.4184 - accuracy: 0.8227 - val_loss: 0.3327 - val_accuracy: 0.8667\n",
      "Epoch 156/250\n",
      "26/26 [==============================] - 0s 4ms/step - loss: 0.4128 - accuracy: 0.8015 - val_loss: 0.3624 - val_accuracy: 0.8444\n",
      "Epoch 157/250\n",
      "26/26 [==============================] - 0s 4ms/step - loss: 0.4212 - accuracy: 0.8152 - val_loss: 0.3465 - val_accuracy: 0.8556\n",
      "Epoch 158/250\n",
      "26/26 [==============================] - 0s 4ms/step - loss: 0.3929 - accuracy: 0.8315 - val_loss: 0.3161 - val_accuracy: 0.8444\n",
      "Epoch 159/250\n",
      "26/26 [==============================] - 0s 4ms/step - loss: 0.3779 - accuracy: 0.8365 - val_loss: 0.3320 - val_accuracy: 0.8222\n",
      "Epoch 160/250\n",
      "26/26 [==============================] - 0s 4ms/step - loss: 0.3683 - accuracy: 0.8414 - val_loss: 0.3439 - val_accuracy: 0.8333\n",
      "Epoch 161/250\n",
      "26/26 [==============================] - 0s 4ms/step - loss: 0.3848 - accuracy: 0.8340 - val_loss: 0.3234 - val_accuracy: 0.8444\n",
      "Epoch 162/250\n",
      "26/26 [==============================] - 0s 4ms/step - loss: 0.3837 - accuracy: 0.8315 - val_loss: 0.3226 - val_accuracy: 0.8333\n",
      "Epoch 163/250\n",
      "26/26 [==============================] - 0s 4ms/step - loss: 0.3798 - accuracy: 0.8315 - val_loss: 0.3438 - val_accuracy: 0.8333\n",
      "Epoch 164/250\n",
      "26/26 [==============================] - 0s 4ms/step - loss: 0.3603 - accuracy: 0.8414 - val_loss: 0.3355 - val_accuracy: 0.8333\n",
      "Epoch 165/250\n",
      "26/26 [==============================] - 0s 4ms/step - loss: 0.3678 - accuracy: 0.8365 - val_loss: 0.3656 - val_accuracy: 0.8333\n",
      "Epoch 166/250\n",
      "26/26 [==============================] - 0s 4ms/step - loss: 0.3621 - accuracy: 0.8414 - val_loss: 0.3695 - val_accuracy: 0.8444\n",
      "Epoch 167/250\n",
      "26/26 [==============================] - 0s 4ms/step - loss: 0.3522 - accuracy: 0.8390 - val_loss: 0.3741 - val_accuracy: 0.8444\n",
      "Epoch 168/250\n",
      "26/26 [==============================] - 0s 4ms/step - loss: 0.3648 - accuracy: 0.8439 - val_loss: 0.3646 - val_accuracy: 0.8444\n",
      "Epoch 169/250\n",
      "26/26 [==============================] - 0s 4ms/step - loss: 0.3601 - accuracy: 0.8427 - val_loss: 0.3453 - val_accuracy: 0.8556\n",
      "Epoch 170/250\n",
      "26/26 [==============================] - 0s 4ms/step - loss: 0.3497 - accuracy: 0.8427 - val_loss: 0.3501 - val_accuracy: 0.8444\n",
      "Epoch 171/250\n",
      "26/26 [==============================] - 0s 4ms/step - loss: 0.3499 - accuracy: 0.8552 - val_loss: 0.3434 - val_accuracy: 0.8444\n",
      "Epoch 172/250\n",
      "26/26 [==============================] - 0s 4ms/step - loss: 0.3752 - accuracy: 0.8390 - val_loss: 0.3617 - val_accuracy: 0.8444\n",
      "Epoch 173/250\n",
      "26/26 [==============================] - 0s 4ms/step - loss: 0.3580 - accuracy: 0.8452 - val_loss: 0.3560 - val_accuracy: 0.8444\n",
      "Epoch 174/250\n",
      "26/26 [==============================] - 0s 4ms/step - loss: 0.3517 - accuracy: 0.8464 - val_loss: 0.3658 - val_accuracy: 0.8444\n",
      "Epoch 175/250\n",
      "26/26 [==============================] - 0s 4ms/step - loss: 0.3499 - accuracy: 0.8427 - val_loss: 0.3559 - val_accuracy: 0.8444\n",
      "Epoch 176/250\n",
      "26/26 [==============================] - 0s 4ms/step - loss: 0.3717 - accuracy: 0.8340 - val_loss: 0.3825 - val_accuracy: 0.8444\n",
      "Epoch 177/250\n",
      "26/26 [==============================] - 0s 4ms/step - loss: 0.3406 - accuracy: 0.8514 - val_loss: 0.3818 - val_accuracy: 0.8556\n",
      "Epoch 178/250\n",
      "26/26 [==============================] - 0s 5ms/step - loss: 0.3321 - accuracy: 0.8602 - val_loss: 0.3713 - val_accuracy: 0.8444\n",
      "Epoch 179/250\n",
      "26/26 [==============================] - 0s 4ms/step - loss: 0.3303 - accuracy: 0.8477 - val_loss: 0.3720 - val_accuracy: 0.8556\n",
      "Epoch 180/250\n",
      "26/26 [==============================] - 0s 4ms/step - loss: 0.3310 - accuracy: 0.8614 - val_loss: 0.3771 - val_accuracy: 0.8444\n",
      "Epoch 181/250\n",
      "26/26 [==============================] - 0s 4ms/step - loss: 0.3470 - accuracy: 0.8502 - val_loss: 0.3730 - val_accuracy: 0.8667\n",
      "Epoch 182/250\n",
      "26/26 [==============================] - 0s 4ms/step - loss: 0.3349 - accuracy: 0.8589 - val_loss: 0.3633 - val_accuracy: 0.8556\n",
      "Epoch 183/250\n",
      "26/26 [==============================] - 0s 4ms/step - loss: 0.3219 - accuracy: 0.8602 - val_loss: 0.3795 - val_accuracy: 0.8556\n",
      "Epoch 184/250\n",
      "26/26 [==============================] - 0s 4ms/step - loss: 0.3318 - accuracy: 0.8527 - val_loss: 0.3987 - val_accuracy: 0.8444\n",
      "Epoch 185/250\n",
      "26/26 [==============================] - 0s 4ms/step - loss: 0.3419 - accuracy: 0.8514 - val_loss: 0.3703 - val_accuracy: 0.8333\n",
      "Epoch 186/250\n",
      "26/26 [==============================] - 0s 4ms/step - loss: 0.3401 - accuracy: 0.8477 - val_loss: 0.3598 - val_accuracy: 0.8333\n",
      "Epoch 187/250\n",
      "26/26 [==============================] - 0s 4ms/step - loss: 0.3918 - accuracy: 0.8365 - val_loss: 0.3708 - val_accuracy: 0.8444\n",
      "Epoch 188/250\n",
      "26/26 [==============================] - 0s 4ms/step - loss: 0.4025 - accuracy: 0.8327 - val_loss: 0.3579 - val_accuracy: 0.8222\n",
      "Epoch 189/250\n",
      "26/26 [==============================] - 0s 4ms/step - loss: 0.3518 - accuracy: 0.8414 - val_loss: 0.4029 - val_accuracy: 0.8333\n",
      "Epoch 190/250\n",
      "26/26 [==============================] - 0s 4ms/step - loss: 0.3473 - accuracy: 0.8464 - val_loss: 0.3988 - val_accuracy: 0.8222\n",
      "Epoch 191/250\n",
      "26/26 [==============================] - 0s 4ms/step - loss: 0.3401 - accuracy: 0.8439 - val_loss: 0.3903 - val_accuracy: 0.8333\n",
      "Epoch 192/250\n",
      "26/26 [==============================] - 0s 4ms/step - loss: 0.3414 - accuracy: 0.8502 - val_loss: 0.3955 - val_accuracy: 0.8444\n",
      "Epoch 193/250\n",
      "26/26 [==============================] - 0s 4ms/step - loss: 0.3419 - accuracy: 0.8489 - val_loss: 0.4101 - val_accuracy: 0.8444\n",
      "Epoch 194/250\n",
      "26/26 [==============================] - 0s 4ms/step - loss: 0.3277 - accuracy: 0.8502 - val_loss: 0.3948 - val_accuracy: 0.8444\n",
      "Epoch 195/250\n",
      "26/26 [==============================] - 0s 4ms/step - loss: 0.3284 - accuracy: 0.8539 - val_loss: 0.4037 - val_accuracy: 0.8444\n",
      "Epoch 196/250\n",
      "26/26 [==============================] - 0s 4ms/step - loss: 0.3326 - accuracy: 0.8552 - val_loss: 0.4047 - val_accuracy: 0.8222\n",
      "Epoch 197/250\n",
      "26/26 [==============================] - 0s 4ms/step - loss: 0.3258 - accuracy: 0.8602 - val_loss: 0.4324 - val_accuracy: 0.8333\n",
      "Epoch 198/250\n",
      "26/26 [==============================] - 0s 4ms/step - loss: 0.3384 - accuracy: 0.8402 - val_loss: 0.4170 - val_accuracy: 0.8222\n",
      "Epoch 199/250\n",
      "26/26 [==============================] - 0s 4ms/step - loss: 0.3195 - accuracy: 0.8564 - val_loss: 0.4175 - val_accuracy: 0.8444\n",
      "Epoch 200/250\n",
      "26/26 [==============================] - 0s 4ms/step - loss: 0.3364 - accuracy: 0.8564 - val_loss: 0.4327 - val_accuracy: 0.8444\n",
      "Epoch 201/250\n",
      "26/26 [==============================] - 0s 4ms/step - loss: 0.3504 - accuracy: 0.8477 - val_loss: 0.4018 - val_accuracy: 0.8333\n",
      "Epoch 202/250\n",
      "26/26 [==============================] - 0s 4ms/step - loss: 0.3416 - accuracy: 0.8552 - val_loss: 0.4143 - val_accuracy: 0.8444\n",
      "Epoch 203/250\n",
      "26/26 [==============================] - 0s 4ms/step - loss: 0.3977 - accuracy: 0.8090 - val_loss: 0.3864 - val_accuracy: 0.8333\n",
      "Epoch 204/250\n",
      "26/26 [==============================] - 0s 4ms/step - loss: 0.3746 - accuracy: 0.8340 - val_loss: 0.3845 - val_accuracy: 0.8444\n",
      "Epoch 205/250\n",
      "26/26 [==============================] - 0s 4ms/step - loss: 0.3625 - accuracy: 0.8439 - val_loss: 0.4319 - val_accuracy: 0.8333\n",
      "Epoch 206/250\n",
      "26/26 [==============================] - 0s 4ms/step - loss: 0.3584 - accuracy: 0.8427 - val_loss: 0.3882 - val_accuracy: 0.8333\n",
      "Epoch 207/250\n",
      "26/26 [==============================] - 0s 4ms/step - loss: 0.3648 - accuracy: 0.8439 - val_loss: 0.3798 - val_accuracy: 0.8333\n",
      "Epoch 208/250\n",
      "26/26 [==============================] - 0s 4ms/step - loss: 0.3460 - accuracy: 0.8452 - val_loss: 0.3954 - val_accuracy: 0.8556\n",
      "Epoch 209/250\n",
      "26/26 [==============================] - 0s 4ms/step - loss: 0.3694 - accuracy: 0.8514 - val_loss: 0.3555 - val_accuracy: 0.8444\n",
      "Epoch 210/250\n",
      "26/26 [==============================] - 0s 4ms/step - loss: 0.3736 - accuracy: 0.8439 - val_loss: 0.3844 - val_accuracy: 0.8556\n",
      "Epoch 211/250\n",
      "26/26 [==============================] - 0s 4ms/step - loss: 0.3368 - accuracy: 0.8489 - val_loss: 0.4013 - val_accuracy: 0.8333\n",
      "Epoch 212/250\n",
      "26/26 [==============================] - 0s 4ms/step - loss: 0.3327 - accuracy: 0.8639 - val_loss: 0.3869 - val_accuracy: 0.8222\n",
      "Epoch 213/250\n",
      "26/26 [==============================] - 0s 4ms/step - loss: 0.3299 - accuracy: 0.8627 - val_loss: 0.4073 - val_accuracy: 0.8000\n",
      "Epoch 214/250\n",
      "26/26 [==============================] - 0s 4ms/step - loss: 0.3265 - accuracy: 0.8602 - val_loss: 0.4156 - val_accuracy: 0.8222\n",
      "Epoch 215/250\n",
      "26/26 [==============================] - 0s 4ms/step - loss: 0.3249 - accuracy: 0.8589 - val_loss: 0.4310 - val_accuracy: 0.8111\n",
      "Epoch 216/250\n",
      "26/26 [==============================] - 0s 4ms/step - loss: 0.3318 - accuracy: 0.8539 - val_loss: 0.4173 - val_accuracy: 0.8222\n",
      "Epoch 217/250\n",
      "26/26 [==============================] - 0s 4ms/step - loss: 0.3141 - accuracy: 0.8639 - val_loss: 0.3900 - val_accuracy: 0.8444\n",
      "Epoch 218/250\n",
      "26/26 [==============================] - 0s 4ms/step - loss: 0.3179 - accuracy: 0.8639 - val_loss: 0.4308 - val_accuracy: 0.8333\n",
      "Epoch 219/250\n",
      "26/26 [==============================] - 0s 4ms/step - loss: 0.3597 - accuracy: 0.8390 - val_loss: 0.3836 - val_accuracy: 0.8333\n",
      "Epoch 220/250\n",
      "26/26 [==============================] - 0s 4ms/step - loss: 0.3374 - accuracy: 0.8539 - val_loss: 0.3798 - val_accuracy: 0.8333\n",
      "Epoch 221/250\n",
      "26/26 [==============================] - 0s 4ms/step - loss: 0.3415 - accuracy: 0.8552 - val_loss: 0.4090 - val_accuracy: 0.8333\n",
      "Epoch 222/250\n",
      "26/26 [==============================] - 0s 4ms/step - loss: 0.3299 - accuracy: 0.8602 - val_loss: 0.3728 - val_accuracy: 0.8556\n",
      "Epoch 223/250\n",
      "26/26 [==============================] - 0s 4ms/step - loss: 0.3402 - accuracy: 0.8589 - val_loss: 0.4363 - val_accuracy: 0.8444\n",
      "Epoch 224/250\n",
      "26/26 [==============================] - 0s 4ms/step - loss: 0.3266 - accuracy: 0.8589 - val_loss: 0.3960 - val_accuracy: 0.8556\n",
      "Epoch 225/250\n",
      "26/26 [==============================] - 0s 4ms/step - loss: 0.3161 - accuracy: 0.8602 - val_loss: 0.4007 - val_accuracy: 0.8444\n",
      "Epoch 226/250\n",
      "26/26 [==============================] - 0s 4ms/step - loss: 0.3202 - accuracy: 0.8614 - val_loss: 0.3997 - val_accuracy: 0.8444\n",
      "Epoch 227/250\n",
      "26/26 [==============================] - 0s 4ms/step - loss: 0.3163 - accuracy: 0.8539 - val_loss: 0.4083 - val_accuracy: 0.8667\n",
      "Epoch 228/250\n",
      "26/26 [==============================] - 0s 4ms/step - loss: 0.3170 - accuracy: 0.8577 - val_loss: 0.3979 - val_accuracy: 0.8333\n",
      "Epoch 229/250\n"
     ]
    },
    {
     "name": "stdout",
     "output_type": "stream",
     "text": [
      "26/26 [==============================] - 0s 4ms/step - loss: 0.3398 - accuracy: 0.8489 - val_loss: 0.4230 - val_accuracy: 0.8111\n",
      "Epoch 230/250\n",
      "26/26 [==============================] - 0s 4ms/step - loss: 0.3373 - accuracy: 0.8514 - val_loss: 0.3462 - val_accuracy: 0.8333\n",
      "Epoch 231/250\n",
      "26/26 [==============================] - 0s 4ms/step - loss: 0.3167 - accuracy: 0.8689 - val_loss: 0.3632 - val_accuracy: 0.8444\n",
      "Epoch 232/250\n",
      "26/26 [==============================] - 0s 4ms/step - loss: 0.3077 - accuracy: 0.8639 - val_loss: 0.3710 - val_accuracy: 0.8667\n",
      "Epoch 233/250\n",
      "26/26 [==============================] - 0s 4ms/step - loss: 0.2972 - accuracy: 0.8627 - val_loss: 0.3538 - val_accuracy: 0.8333\n",
      "Epoch 234/250\n",
      "26/26 [==============================] - 0s 4ms/step - loss: 0.3253 - accuracy: 0.8627 - val_loss: 0.3652 - val_accuracy: 0.8667\n",
      "Epoch 235/250\n",
      "26/26 [==============================] - 0s 4ms/step - loss: 0.3273 - accuracy: 0.8627 - val_loss: 0.3285 - val_accuracy: 0.8667\n",
      "Epoch 236/250\n",
      "26/26 [==============================] - 0s 4ms/step - loss: 0.3206 - accuracy: 0.8589 - val_loss: 0.3783 - val_accuracy: 0.8444\n",
      "Epoch 237/250\n",
      "26/26 [==============================] - 0s 4ms/step - loss: 0.3360 - accuracy: 0.8564 - val_loss: 0.3389 - val_accuracy: 0.8333\n",
      "Epoch 238/250\n",
      "26/26 [==============================] - 0s 4ms/step - loss: 0.3163 - accuracy: 0.8602 - val_loss: 0.3841 - val_accuracy: 0.8111\n",
      "Epoch 239/250\n",
      "26/26 [==============================] - 0s 4ms/step - loss: 0.3110 - accuracy: 0.8652 - val_loss: 0.4557 - val_accuracy: 0.8222\n",
      "Epoch 240/250\n",
      "26/26 [==============================] - 0s 4ms/step - loss: 0.3297 - accuracy: 0.8514 - val_loss: 0.3272 - val_accuracy: 0.8556\n",
      "Epoch 241/250\n",
      "26/26 [==============================] - 0s 4ms/step - loss: 0.3317 - accuracy: 0.8602 - val_loss: 0.4507 - val_accuracy: 0.8222\n",
      "Epoch 242/250\n",
      "26/26 [==============================] - 0s 4ms/step - loss: 0.3102 - accuracy: 0.8602 - val_loss: 0.3698 - val_accuracy: 0.8444\n",
      "Epoch 243/250\n",
      "26/26 [==============================] - 0s 4ms/step - loss: 0.3151 - accuracy: 0.8689 - val_loss: 0.3966 - val_accuracy: 0.8111\n",
      "Epoch 244/250\n",
      "26/26 [==============================] - 0s 4ms/step - loss: 0.3055 - accuracy: 0.8652 - val_loss: 0.3919 - val_accuracy: 0.8444\n",
      "Epoch 245/250\n",
      "26/26 [==============================] - 0s 4ms/step - loss: 0.3074 - accuracy: 0.8627 - val_loss: 0.4543 - val_accuracy: 0.8222\n",
      "Epoch 246/250\n",
      "26/26 [==============================] - 0s 4ms/step - loss: 0.3042 - accuracy: 0.8689 - val_loss: 0.4446 - val_accuracy: 0.8000\n",
      "Epoch 247/250\n",
      "26/26 [==============================] - 0s 4ms/step - loss: 0.3070 - accuracy: 0.8552 - val_loss: 0.4146 - val_accuracy: 0.8556\n",
      "Epoch 248/250\n",
      "26/26 [==============================] - 0s 4ms/step - loss: 0.3116 - accuracy: 0.8639 - val_loss: 0.3677 - val_accuracy: 0.8778\n",
      "Epoch 249/250\n",
      "26/26 [==============================] - 0s 4ms/step - loss: 0.3054 - accuracy: 0.8689 - val_loss: 0.4306 - val_accuracy: 0.8333\n",
      "Epoch 250/250\n",
      "26/26 [==============================] - 0s 4ms/step - loss: 0.3188 - accuracy: 0.8702 - val_loss: 0.3663 - val_accuracy: 0.8222\n"
     ]
    }
   ],
   "source": [
    "history = model.fit(df_train,y, epochs = 250, validation_split = 0.1, verbose = 1)"
   ]
  },
  {
   "cell_type": "code",
   "execution_count": 500,
   "id": "276c19b8",
   "metadata": {},
   "outputs": [
    {
     "name": "stdout",
     "output_type": "stream",
     "text": [
      "Model: \"sequential_12\"\n",
      "_________________________________________________________________\n",
      "Layer (type)                 Output Shape              Param #   \n",
      "=================================================================\n",
      "dense_57 (Dense)             (None, 256)               3328      \n",
      "_________________________________________________________________\n",
      "dropout_23 (Dropout)         (None, 256)               0         \n",
      "_________________________________________________________________\n",
      "dense_58 (Dense)             (None, 256)               65792     \n",
      "_________________________________________________________________\n",
      "dropout_24 (Dropout)         (None, 256)               0         \n",
      "_________________________________________________________________\n",
      "dense_59 (Dense)             (None, 256)               65792     \n",
      "_________________________________________________________________\n",
      "dropout_25 (Dropout)         (None, 256)               0         \n",
      "_________________________________________________________________\n",
      "dense_60 (Dense)             (None, 256)               65792     \n",
      "_________________________________________________________________\n",
      "dropout_26 (Dropout)         (None, 256)               0         \n",
      "_________________________________________________________________\n",
      "dense_61 (Dense)             (None, 1)                 257       \n",
      "=================================================================\n",
      "Total params: 200,961\n",
      "Trainable params: 200,961\n",
      "Non-trainable params: 0\n",
      "_________________________________________________________________\n"
     ]
    }
   ],
   "source": [
    "model.summary()"
   ]
  },
  {
   "cell_type": "code",
   "execution_count": 501,
   "id": "668812b3",
   "metadata": {},
   "outputs": [
    {
     "name": "stdout",
     "output_type": "stream",
     "text": [
      "28/28 [==============================] - 0s 923us/step - loss: 0.3114 - accuracy: 0.8653\n"
     ]
    }
   ],
   "source": [
    "scores = model.evaluate(df_train,y)"
   ]
  },
  {
   "cell_type": "code",
   "execution_count": 502,
   "id": "774a8fab",
   "metadata": {},
   "outputs": [
    {
     "name": "stdout",
     "output_type": "stream",
     "text": [
      "accuracy: 86.53%\n"
     ]
    }
   ],
   "source": [
    "print(\"%s: %.2f%%\" % (model.metrics_names[1], scores[1]*100))"
   ]
  },
  {
   "cell_type": "code",
   "execution_count": 503,
   "id": "91922b71",
   "metadata": {},
   "outputs": [],
   "source": [
    "import matplotlib.pyplot as plt\n",
    "%matplotlib inline"
   ]
  },
  {
   "cell_type": "code",
   "execution_count": 504,
   "id": "4093cb75",
   "metadata": {},
   "outputs": [
    {
     "data": {
      "text/plain": [
       "<matplotlib.legend.Legend at 0x29a92974a60>"
      ]
     },
     "execution_count": 504,
     "metadata": {},
     "output_type": "execute_result"
    },
    {
     "data": {
      "image/png": "[encoded data removed]",
      "text/plain": [
       "<Figure size 432x288 with 1 Axes>"
      ]
     },
     "metadata": {
      "needs_background": "light"
     },
     "output_type": "display_data"
    }
   ],
   "source": [
    "fig1 = plt.figure(1)\n",
    "plt.plot(history.history[\"accuracy\"])\n",
    "plt.plot(history.history[\"val_accuracy\"])\n",
    "plt.title(\"Model Accuracy\")\n",
    "plt.xlabel(\"Epoch\")\n",
    "plt.ylabel(\"Accuracy\")\n",
    "plt.legend([\"training\", \"testing\"], loc = \"upper left\")"
   ]
  },
  {
   "cell_type": "code",
   "execution_count": 505,
   "id": "ed679030",
   "metadata": {},
   "outputs": [
    {
     "data": {
      "text/plain": [
       "<matplotlib.legend.Legend at 0x29a92906fa0>"
      ]
     },
     "execution_count": 505,
     "metadata": {},
     "output_type": "execute_result"
    },
    {
     "data": {
      "image/png": "[encoded data removed]",
      "text/plain": [
       "<Figure size 432x288 with 1 Axes>"
      ]
     },
     "metadata": {
      "needs_background": "light"
     },
     "output_type": "display_data"
    }
   ],
   "source": [
    "fig1 = plt.figure(2)\n",
    "plt.plot(history.history[\"loss\"])\n",
    "plt.plot(history.history[\"val_loss\"])\n",
    "plt.title(\"Model Loss\")\n",
    "plt.xlabel(\"Epoch\")\n",
    "plt.ylabel(\"Loss\")\n",
    "plt.legend([\"training\", \"testing\"], loc = \"upper left\")"
   ]
  },
  {
   "cell_type": "code",
   "execution_count": 506,
   "id": "768f98c8",
   "metadata": {},
   "outputs": [],
   "source": [
    "del df_test[\"Survived\"]"
   ]
  },
  {
   "cell_type": "code",
   "execution_count": 507,
   "id": "14bef5fa",
   "metadata": {},
   "outputs": [],
   "source": [
    "pred = model.predict(df_test)"
   ]
  },
  {
   "cell_type": "code",
   "execution_count": 508,
   "id": "b9c2d165",
   "metadata": {},
   "outputs": [],
   "source": [
    "result = df2[[\"PassengerId\"]]"
   ]
  },
  {
   "cell_type": "code",
   "execution_count": 509,
   "id": "eaba11ed",
   "metadata": {},
   "outputs": [],
   "source": [
    "result[\"Survived\"] = pred"
   ]
  },
  {
   "cell_type": "code",
   "execution_count": 510,
   "id": "e15e8fdf",
   "metadata": {},
   "outputs": [],
   "source": [
    "result[\"Survived\"] = result[\"Survived\"].apply(int)"
   ]
  },
  {
   "cell_type": "code",
   "execution_count": 511,
   "id": "4d0fe5c4",
   "metadata": {},
   "outputs": [
    {
     "data": {
      "text/html": [
       "<div>\n",
       "<style scoped>\n",
       "    .dataframe tbody tr th:only-of-type {\n",
       "        vertical-align: middle;\n",
       "    }\n",
       "\n",
       "    .dataframe tbody tr th {\n",
       "        vertical-align: top;\n",
       "    }\n",
       "\n",
       "    .dataframe thead th {\n",
       "        text-align: right;\n",
       "    }\n",
       "</style>\n",
       "<table border=\"1\" class=\"dataframe\">\n",
       "  <thead>\n",
       "    <tr style=\"text-align: right;\">\n",
       "      <th></th>\n",
       "      <th>PassengerId</th>\n",
       "      <th>Survived</th>\n",
       "    </tr>\n",
       "  </thead>\n",
       "  <tbody>\n",
       "    <tr>\n",
       "      <th>0</th>\n",
       "      <td>892</td>\n",
       "      <td>0</td>\n",
       "    </tr>\n",
       "    <tr>\n",
       "      <th>1</th>\n",
       "      <td>893</td>\n",
       "      <td>0</td>\n",
       "    </tr>\n",
       "    <tr>\n",
       "      <th>2</th>\n",
       "      <td>894</td>\n",
       "      <td>0</td>\n",
       "    </tr>\n",
       "    <tr>\n",
       "      <th>3</th>\n",
       "      <td>895</td>\n",
       "      <td>0</td>\n",
       "    </tr>\n",
       "    <tr>\n",
       "      <th>4</th>\n",
       "      <td>896</td>\n",
       "      <td>0</td>\n",
       "    </tr>\n",
       "    <tr>\n",
       "      <th>...</th>\n",
       "      <td>...</td>\n",
       "      <td>...</td>\n",
       "    </tr>\n",
       "    <tr>\n",
       "      <th>413</th>\n",
       "      <td>1305</td>\n",
       "      <td>0</td>\n",
       "    </tr>\n",
       "    <tr>\n",
       "      <th>414</th>\n",
       "      <td>1306</td>\n",
       "      <td>1</td>\n",
       "    </tr>\n",
       "    <tr>\n",
       "      <th>415</th>\n",
       "      <td>1307</td>\n",
       "      <td>0</td>\n",
       "    </tr>\n",
       "    <tr>\n",
       "      <th>416</th>\n",
       "      <td>1308</td>\n",
       "      <td>0</td>\n",
       "    </tr>\n",
       "    <tr>\n",
       "      <th>417</th>\n",
       "      <td>1309</td>\n",
       "      <td>1</td>\n",
       "    </tr>\n",
       "  </tbody>\n",
       "</table>\n",
       "<p>418 rows × 2 columns</p>\n",
       "</div>"
      ],
      "text/plain": [
       "     PassengerId  Survived\n",
       "0            892         0\n",
       "1            893         0\n",
       "2            894         0\n",
       "3            895         0\n",
       "4            896         0\n",
       "..           ...       ...\n",
       "413         1305         0\n",
       "414         1306         1\n",
       "415         1307         0\n",
       "416         1308         0\n",
       "417         1309         1\n",
       "\n",
       "[418 rows x 2 columns]"
      ]
     },
     "execution_count": 511,
     "metadata": {},
     "output_type": "execute_result"
    }
   ],
   "source": [
    "result"
   ]
  },
  {
   "cell_type": "code",
   "execution_count": 512,
   "id": "d962b2b4",
   "metadata": {},
   "outputs": [],
   "source": [
    "result.to_csv(\"result.csv\", index = False)"
   ]
  },
  {
   "cell_type": "code",
   "execution_count": 333,
   "id": "eb423b83",
   "metadata": {},
   "outputs": [
    {
     "data": {
      "text/plain": [
       "(418, 13)"
      ]
     },
     "execution_count": 333,
     "metadata": {},
     "output_type": "execute_result"
    }
   ],
   "source": [
    "df_test.shape"
   ]
  },
  {
   "cell_type": "code",
   "execution_count": 334,
   "id": "b587ac16",
   "metadata": {},
   "outputs": [
    {
     "data": {
      "text/html": [
       "<div>\n",
       "<style scoped>\n",
       "    .dataframe tbody tr th:only-of-type {\n",
       "        vertical-align: middle;\n",
       "    }\n",
       "\n",
       "    .dataframe tbody tr th {\n",
       "        vertical-align: top;\n",
       "    }\n",
       "\n",
       "    .dataframe thead th {\n",
       "        text-align: right;\n",
       "    }\n",
       "</style>\n",
       "<table border=\"1\" class=\"dataframe\">\n",
       "  <thead>\n",
       "    <tr style=\"text-align: right;\">\n",
       "      <th></th>\n",
       "      <th>Survived</th>\n",
       "      <th>Pclass</th>\n",
       "      <th>Age</th>\n",
       "      <th>SibSp</th>\n",
       "      <th>Parch</th>\n",
       "      <th>Fare</th>\n",
       "      <th>FamilySize</th>\n",
       "      <th>Sex_male</th>\n",
       "      <th>Embarked_Q</th>\n",
       "      <th>Embarked_S</th>\n",
       "      <th>Title_Miss</th>\n",
       "      <th>Title_Mr</th>\n",
       "      <th>Title_Mrs</th>\n",
       "    </tr>\n",
       "  </thead>\n",
       "  <tbody>\n",
       "    <tr>\n",
       "      <th>0</th>\n",
       "      <td>NaN</td>\n",
       "      <td>3</td>\n",
       "      <td>34.5</td>\n",
       "      <td>0</td>\n",
       "      <td>0</td>\n",
       "      <td>7.8292</td>\n",
       "      <td>1</td>\n",
       "      <td>1</td>\n",
       "      <td>1</td>\n",
       "      <td>0</td>\n",
       "      <td>0</td>\n",
       "      <td>1</td>\n",
       "      <td>0</td>\n",
       "    </tr>\n",
       "    <tr>\n",
       "      <th>1</th>\n",
       "      <td>NaN</td>\n",
       "      <td>3</td>\n",
       "      <td>47.0</td>\n",
       "      <td>1</td>\n",
       "      <td>0</td>\n",
       "      <td>7.0000</td>\n",
       "      <td>2</td>\n",
       "      <td>0</td>\n",
       "      <td>0</td>\n",
       "      <td>1</td>\n",
       "      <td>0</td>\n",
       "      <td>0</td>\n",
       "      <td>1</td>\n",
       "    </tr>\n",
       "    <tr>\n",
       "      <th>2</th>\n",
       "      <td>NaN</td>\n",
       "      <td>2</td>\n",
       "      <td>62.0</td>\n",
       "      <td>0</td>\n",
       "      <td>0</td>\n",
       "      <td>9.6875</td>\n",
       "      <td>1</td>\n",
       "      <td>1</td>\n",
       "      <td>1</td>\n",
       "      <td>0</td>\n",
       "      <td>0</td>\n",
       "      <td>1</td>\n",
       "      <td>0</td>\n",
       "    </tr>\n",
       "    <tr>\n",
       "      <th>3</th>\n",
       "      <td>NaN</td>\n",
       "      <td>3</td>\n",
       "      <td>27.0</td>\n",
       "      <td>0</td>\n",
       "      <td>0</td>\n",
       "      <td>8.6625</td>\n",
       "      <td>1</td>\n",
       "      <td>1</td>\n",
       "      <td>0</td>\n",
       "      <td>1</td>\n",
       "      <td>0</td>\n",
       "      <td>1</td>\n",
       "      <td>0</td>\n",
       "    </tr>\n",
       "    <tr>\n",
       "      <th>4</th>\n",
       "      <td>NaN</td>\n",
       "      <td>3</td>\n",
       "      <td>22.0</td>\n",
       "      <td>1</td>\n",
       "      <td>1</td>\n",
       "      <td>12.2875</td>\n",
       "      <td>3</td>\n",
       "      <td>0</td>\n",
       "      <td>0</td>\n",
       "      <td>1</td>\n",
       "      <td>0</td>\n",
       "      <td>0</td>\n",
       "      <td>1</td>\n",
       "    </tr>\n",
       "  </tbody>\n",
       "</table>\n",
       "</div>"
      ],
      "text/plain": [
       "   Survived  Pclass   Age  SibSp  Parch     Fare  FamilySize  Sex_male  \\\n",
       "0       NaN       3  34.5      0      0   7.8292           1         1   \n",
       "1       NaN       3  47.0      1      0   7.0000           2         0   \n",
       "2       NaN       2  62.0      0      0   9.6875           1         1   \n",
       "3       NaN       3  27.0      0      0   8.6625           1         1   \n",
       "4       NaN       3  22.0      1      1  12.2875           3         0   \n",
       "\n",
       "   Embarked_Q  Embarked_S  Title_Miss  Title_Mr  Title_Mrs  \n",
       "0           1           0           0         1          0  \n",
       "1           0           1           0         0          1  \n",
       "2           1           0           0         1          0  \n",
       "3           0           1           0         1          0  \n",
       "4           0           1           0         0          1  "
      ]
     },
     "execution_count": 334,
     "metadata": {},
     "output_type": "execute_result"
    }
   ],
   "source": [
    "df_test.head()"
   ]
  },
  {
   "cell_type": "code",
   "execution_count": 152,
   "id": "0dcb94b4",
   "metadata": {},
   "outputs": [],
   "source": [
    "del df_test[\"Survived\"]"
   ]
  },
  {
   "cell_type": "code",
   "execution_count": 56,
   "id": "8a909c69",
   "metadata": {},
   "outputs": [
    {
     "data": {
      "text/plain": [
       "((891, 12), (418, 12))"
      ]
     },
     "execution_count": 56,
     "metadata": {},
     "output_type": "execute_result"
    }
   ],
   "source": [
    "df_train.shape, df_test.shape"
   ]
  },
  {
   "cell_type": "code",
   "execution_count": 57,
   "id": "038574fc",
   "metadata": {},
   "outputs": [
    {
     "name": "stdout",
     "output_type": "stream",
     "text": [
      "28/28 [==============================] - 0s 923us/step - loss: 0.2637 - accuracy: 0.9035\n"
     ]
    }
   ],
   "source": [
    "scores = model.evaluate(df_train, y)"
   ]
  },
  {
   "cell_type": "code",
   "execution_count": 336,
   "id": "b351bf73",
   "metadata": {},
   "outputs": [],
   "source": [
    "predict = r.predict(df_test)"
   ]
  },
  {
   "cell_type": "code",
   "execution_count": 337,
   "id": "e188b8a9",
   "metadata": {},
   "outputs": [],
   "source": [
    "result = df2[[\"PassengerId\"]]"
   ]
  },
  {
   "cell_type": "code",
   "execution_count": 338,
   "id": "bfbc59f7",
   "metadata": {},
   "outputs": [],
   "source": [
    "result[\"Survived\"] = predict"
   ]
  },
  {
   "cell_type": "code",
   "execution_count": 339,
   "id": "6e2b6582",
   "metadata": {},
   "outputs": [],
   "source": [
    "result[\"Survived\"] = result[\"Survived\"].apply(int)"
   ]
  },
  {
   "cell_type": "code",
   "execution_count": 340,
   "id": "b69de213",
   "metadata": {},
   "outputs": [
    {
     "data": {
      "text/html": [
       "<div>\n",
       "<style scoped>\n",
       "    .dataframe tbody tr th:only-of-type {\n",
       "        vertical-align: middle;\n",
       "    }\n",
       "\n",
       "    .dataframe tbody tr th {\n",
       "        vertical-align: top;\n",
       "    }\n",
       "\n",
       "    .dataframe thead th {\n",
       "        text-align: right;\n",
       "    }\n",
       "</style>\n",
       "<table border=\"1\" class=\"dataframe\">\n",
       "  <thead>\n",
       "    <tr style=\"text-align: right;\">\n",
       "      <th></th>\n",
       "      <th>PassengerId</th>\n",
       "      <th>Survived</th>\n",
       "    </tr>\n",
       "  </thead>\n",
       "  <tbody>\n",
       "    <tr>\n",
       "      <th>0</th>\n",
       "      <td>892</td>\n",
       "      <td>0</td>\n",
       "    </tr>\n",
       "    <tr>\n",
       "      <th>1</th>\n",
       "      <td>893</td>\n",
       "      <td>0</td>\n",
       "    </tr>\n",
       "    <tr>\n",
       "      <th>2</th>\n",
       "      <td>894</td>\n",
       "      <td>0</td>\n",
       "    </tr>\n",
       "    <tr>\n",
       "      <th>3</th>\n",
       "      <td>895</td>\n",
       "      <td>1</td>\n",
       "    </tr>\n",
       "    <tr>\n",
       "      <th>4</th>\n",
       "      <td>896</td>\n",
       "      <td>0</td>\n",
       "    </tr>\n",
       "    <tr>\n",
       "      <th>...</th>\n",
       "      <td>...</td>\n",
       "      <td>...</td>\n",
       "    </tr>\n",
       "    <tr>\n",
       "      <th>413</th>\n",
       "      <td>1305</td>\n",
       "      <td>0</td>\n",
       "    </tr>\n",
       "    <tr>\n",
       "      <th>414</th>\n",
       "      <td>1306</td>\n",
       "      <td>1</td>\n",
       "    </tr>\n",
       "    <tr>\n",
       "      <th>415</th>\n",
       "      <td>1307</td>\n",
       "      <td>0</td>\n",
       "    </tr>\n",
       "    <tr>\n",
       "      <th>416</th>\n",
       "      <td>1308</td>\n",
       "      <td>0</td>\n",
       "    </tr>\n",
       "    <tr>\n",
       "      <th>417</th>\n",
       "      <td>1309</td>\n",
       "      <td>1</td>\n",
       "    </tr>\n",
       "  </tbody>\n",
       "</table>\n",
       "<p>418 rows × 2 columns</p>\n",
       "</div>"
      ],
      "text/plain": [
       "     PassengerId  Survived\n",
       "0            892         0\n",
       "1            893         0\n",
       "2            894         0\n",
       "3            895         1\n",
       "4            896         0\n",
       "..           ...       ...\n",
       "413         1305         0\n",
       "414         1306         1\n",
       "415         1307         0\n",
       "416         1308         0\n",
       "417         1309         1\n",
       "\n",
       "[418 rows x 2 columns]"
      ]
     },
     "execution_count": 340,
     "metadata": {},
     "output_type": "execute_result"
    }
   ],
   "source": [
    "result"
   ]
  },
  {
   "cell_type": "code",
   "execution_count": 341,
   "id": "ca7fcc72",
   "metadata": {},
   "outputs": [
    {
     "data": {
      "text/plain": [
       "(418, 2)"
      ]
     },
     "execution_count": 341,
     "metadata": {},
     "output_type": "execute_result"
    }
   ],
   "source": [
    "result.shape"
   ]
  },
  {
   "cell_type": "code",
   "execution_count": 198,
   "id": "ed0deda5",
   "metadata": {},
   "outputs": [],
   "source": [
    "result.to_csv(\"result.csv\", index = False)"
   ]
  },
  {
   "cell_type": "code",
   "execution_count": null,
   "id": "acf99f08",
   "metadata": {},
   "outputs": [],
   "source": []
  }
 ],
 "metadata": {
  "kernelspec": {
   "display_name": "Python 3",
   "language": "python",
   "name": "python3"
  },
  "language_info": {
   "codemirror_mode": {
    "name": "ipython",
    "version": 3
   },
   "file_extension": ".py",
   "mimetype": "text/x-python",
   "name": "python",
   "nbconvert_exporter": "python",
   "pygments_lexer": "ipython3",
   "version": "3.8.8"
  }
 },
 "nbformat": 4,
 "nbformat_minor": 5
}
