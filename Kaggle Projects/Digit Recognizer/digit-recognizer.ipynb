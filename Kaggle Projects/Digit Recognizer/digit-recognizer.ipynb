{
 "cells": [
  {
   "cell_type": "markdown",
   "id": "56b9a8d0",
   "metadata": {
    "papermill": {
     "duration": 0.057583,
     "end_time": "2021-08-14T15:47:11.409233",
     "exception": false,
     "start_time": "2021-08-14T15:47:11.351650",
     "status": "completed"
    },
    "tags": []
   },
   "source": [
    "# Importing Necessary Libraries"
   ]
  },
  {
   "cell_type": "code",
   "execution_count": 1,
   "id": "f12551dc",
   "metadata": {
    "execution": {
     "iopub.execute_input": "2021-08-14T15:47:11.535880Z",
     "iopub.status.busy": "2021-08-14T15:47:11.535089Z",
     "iopub.status.idle": "2021-08-14T15:47:18.657369Z",
     "shell.execute_reply": "2021-08-14T15:47:18.656580Z",
     "shell.execute_reply.started": "2021-08-14T15:00:02.632460Z"
    },
    "papermill": {
     "duration": 7.193262,
     "end_time": "2021-08-14T15:47:18.657549",
     "exception": false,
     "start_time": "2021-08-14T15:47:11.464287",
     "status": "completed"
    },
    "tags": []
   },
   "outputs": [],
   "source": [
    "import numpy as np # linear algebra\n",
    "import pandas as pd # data processing\n",
    "import matplotlib.pyplot as plt\n",
    "\n",
    "import tensorflow as tf # deep learning\n",
    "from tensorflow import keras\n",
    "\n",
    "from sklearn.model_selection import train_test_split # for splitting dataset into train and test parts\n",
    "\n",
    "from sklearn.metrics import confusion_matrix \n",
    "\n",
    "from keras.optimizers import RMSprop\n",
    "\n",
    "import seaborn as sns"
   ]
  },
  {
   "cell_type": "markdown",
   "id": "295e808e",
   "metadata": {
    "papermill": {
     "duration": 0.052167,
     "end_time": "2021-08-14T15:47:18.762897",
     "exception": false,
     "start_time": "2021-08-14T15:47:18.710730",
     "status": "completed"
    },
    "tags": []
   },
   "source": [
    "# Loading Train and Test Datasets"
   ]
  },
  {
   "cell_type": "code",
   "execution_count": 2,
   "id": "9aee7e3a",
   "metadata": {
    "execution": {
     "iopub.execute_input": "2021-08-14T15:47:18.873985Z",
     "iopub.status.busy": "2021-08-14T15:47:18.873295Z",
     "iopub.status.idle": "2021-08-14T15:47:24.953582Z",
     "shell.execute_reply": "2021-08-14T15:47:24.954062Z",
     "shell.execute_reply.started": "2021-08-14T15:00:02.639963Z"
    },
    "papermill": {
     "duration": 6.138772,
     "end_time": "2021-08-14T15:47:24.954244",
     "exception": false,
     "start_time": "2021-08-14T15:47:18.815472",
     "status": "completed"
    },
    "tags": []
   },
   "outputs": [],
   "source": [
    "df_train = pd.read_csv(\"/kaggle/input/digit-recognizer/train.csv\")\n",
    "df_test = pd.read_csv(\"/kaggle/input/digit-recognizer/test.csv\")"
   ]
  },
  {
   "cell_type": "markdown",
   "id": "9384e747",
   "metadata": {
    "papermill": {
     "duration": 0.053435,
     "end_time": "2021-08-14T15:47:25.059939",
     "exception": false,
     "start_time": "2021-08-14T15:47:25.006504",
     "status": "completed"
    },
    "tags": []
   },
   "source": [
    "# Exploratory Data Analysis"
   ]
  },
  {
   "cell_type": "code",
   "execution_count": 3,
   "id": "fefcd541",
   "metadata": {
    "execution": {
     "iopub.execute_input": "2021-08-14T15:47:25.175925Z",
     "iopub.status.busy": "2021-08-14T15:47:25.175236Z",
     "iopub.status.idle": "2021-08-14T15:47:25.204640Z",
     "shell.execute_reply": "2021-08-14T15:47:25.205169Z",
     "shell.execute_reply.started": "2021-08-14T15:00:06.707852Z"
    },
    "papermill": {
     "duration": 0.092768,
     "end_time": "2021-08-14T15:47:25.205367",
     "exception": false,
     "start_time": "2021-08-14T15:47:25.112599",
     "status": "completed"
    },
    "tags": []
   },
   "outputs": [
    {
     "data": {
      "text/html": [
       "<div>\n",
       "<style scoped>\n",
       "    .dataframe tbody tr th:only-of-type {\n",
       "        vertical-align: middle;\n",
       "    }\n",
       "\n",
       "    .dataframe tbody tr th {\n",
       "        vertical-align: top;\n",
       "    }\n",
       "\n",
       "    .dataframe thead th {\n",
       "        text-align: right;\n",
       "    }\n",
       "</style>\n",
       "<table border=\"1\" class=\"dataframe\">\n",
       "  <thead>\n",
       "    <tr style=\"text-align: right;\">\n",
       "      <th></th>\n",
       "      <th>label</th>\n",
       "      <th>pixel0</th>\n",
       "      <th>pixel1</th>\n",
       "      <th>pixel2</th>\n",
       "      <th>pixel3</th>\n",
       "      <th>pixel4</th>\n",
       "      <th>pixel5</th>\n",
       "      <th>pixel6</th>\n",
       "      <th>pixel7</th>\n",
       "      <th>pixel8</th>\n",
       "      <th>...</th>\n",
       "      <th>pixel774</th>\n",
       "      <th>pixel775</th>\n",
       "      <th>pixel776</th>\n",
       "      <th>pixel777</th>\n",
       "      <th>pixel778</th>\n",
       "      <th>pixel779</th>\n",
       "      <th>pixel780</th>\n",
       "      <th>pixel781</th>\n",
       "      <th>pixel782</th>\n",
       "      <th>pixel783</th>\n",
       "    </tr>\n",
       "  </thead>\n",
       "  <tbody>\n",
       "    <tr>\n",
       "      <th>0</th>\n",
       "      <td>1</td>\n",
       "      <td>0</td>\n",
       "      <td>0</td>\n",
       "      <td>0</td>\n",
       "      <td>0</td>\n",
       "      <td>0</td>\n",
       "      <td>0</td>\n",
       "      <td>0</td>\n",
       "      <td>0</td>\n",
       "      <td>0</td>\n",
       "      <td>...</td>\n",
       "      <td>0</td>\n",
       "      <td>0</td>\n",
       "      <td>0</td>\n",
       "      <td>0</td>\n",
       "      <td>0</td>\n",
       "      <td>0</td>\n",
       "      <td>0</td>\n",
       "      <td>0</td>\n",
       "      <td>0</td>\n",
       "      <td>0</td>\n",
       "    </tr>\n",
       "    <tr>\n",
       "      <th>1</th>\n",
       "      <td>0</td>\n",
       "      <td>0</td>\n",
       "      <td>0</td>\n",
       "      <td>0</td>\n",
       "      <td>0</td>\n",
       "      <td>0</td>\n",
       "      <td>0</td>\n",
       "      <td>0</td>\n",
       "      <td>0</td>\n",
       "      <td>0</td>\n",
       "      <td>...</td>\n",
       "      <td>0</td>\n",
       "      <td>0</td>\n",
       "      <td>0</td>\n",
       "      <td>0</td>\n",
       "      <td>0</td>\n",
       "      <td>0</td>\n",
       "      <td>0</td>\n",
       "      <td>0</td>\n",
       "      <td>0</td>\n",
       "      <td>0</td>\n",
       "    </tr>\n",
       "    <tr>\n",
       "      <th>2</th>\n",
       "      <td>1</td>\n",
       "      <td>0</td>\n",
       "      <td>0</td>\n",
       "      <td>0</td>\n",
       "      <td>0</td>\n",
       "      <td>0</td>\n",
       "      <td>0</td>\n",
       "      <td>0</td>\n",
       "      <td>0</td>\n",
       "      <td>0</td>\n",
       "      <td>...</td>\n",
       "      <td>0</td>\n",
       "      <td>0</td>\n",
       "      <td>0</td>\n",
       "      <td>0</td>\n",
       "      <td>0</td>\n",
       "      <td>0</td>\n",
       "      <td>0</td>\n",
       "      <td>0</td>\n",
       "      <td>0</td>\n",
       "      <td>0</td>\n",
       "    </tr>\n",
       "    <tr>\n",
       "      <th>3</th>\n",
       "      <td>4</td>\n",
       "      <td>0</td>\n",
       "      <td>0</td>\n",
       "      <td>0</td>\n",
       "      <td>0</td>\n",
       "      <td>0</td>\n",
       "      <td>0</td>\n",
       "      <td>0</td>\n",
       "      <td>0</td>\n",
       "      <td>0</td>\n",
       "      <td>...</td>\n",
       "      <td>0</td>\n",
       "      <td>0</td>\n",
       "      <td>0</td>\n",
       "      <td>0</td>\n",
       "      <td>0</td>\n",
       "      <td>0</td>\n",
       "      <td>0</td>\n",
       "      <td>0</td>\n",
       "      <td>0</td>\n",
       "      <td>0</td>\n",
       "    </tr>\n",
       "    <tr>\n",
       "      <th>4</th>\n",
       "      <td>0</td>\n",
       "      <td>0</td>\n",
       "      <td>0</td>\n",
       "      <td>0</td>\n",
       "      <td>0</td>\n",
       "      <td>0</td>\n",
       "      <td>0</td>\n",
       "      <td>0</td>\n",
       "      <td>0</td>\n",
       "      <td>0</td>\n",
       "      <td>...</td>\n",
       "      <td>0</td>\n",
       "      <td>0</td>\n",
       "      <td>0</td>\n",
       "      <td>0</td>\n",
       "      <td>0</td>\n",
       "      <td>0</td>\n",
       "      <td>0</td>\n",
       "      <td>0</td>\n",
       "      <td>0</td>\n",
       "      <td>0</td>\n",
       "    </tr>\n",
       "  </tbody>\n",
       "</table>\n",
       "<p>5 rows × 785 columns</p>\n",
       "</div>"
      ],
      "text/plain": [
       "   label  pixel0  pixel1  pixel2  pixel3  pixel4  pixel5  pixel6  pixel7  \\\n",
       "0      1       0       0       0       0       0       0       0       0   \n",
       "1      0       0       0       0       0       0       0       0       0   \n",
       "2      1       0       0       0       0       0       0       0       0   \n",
       "3      4       0       0       0       0       0       0       0       0   \n",
       "4      0       0       0       0       0       0       0       0       0   \n",
       "\n",
       "   pixel8  ...  pixel774  pixel775  pixel776  pixel777  pixel778  pixel779  \\\n",
       "0       0  ...         0         0         0         0         0         0   \n",
       "1       0  ...         0         0         0         0         0         0   \n",
       "2       0  ...         0         0         0         0         0         0   \n",
       "3       0  ...         0         0         0         0         0         0   \n",
       "4       0  ...         0         0         0         0         0         0   \n",
       "\n",
       "   pixel780  pixel781  pixel782  pixel783  \n",
       "0         0         0         0         0  \n",
       "1         0         0         0         0  \n",
       "2         0         0         0         0  \n",
       "3         0         0         0         0  \n",
       "4         0         0         0         0  \n",
       "\n",
       "[5 rows x 785 columns]"
      ]
     },
     "execution_count": 3,
     "metadata": {},
     "output_type": "execute_result"
    }
   ],
   "source": [
    "df_train.head()"
   ]
  },
  {
   "cell_type": "code",
   "execution_count": 4,
   "id": "54926195",
   "metadata": {
    "execution": {
     "iopub.execute_input": "2021-08-14T15:47:25.332401Z",
     "iopub.status.busy": "2021-08-14T15:47:25.331387Z",
     "iopub.status.idle": "2021-08-14T15:47:25.337408Z",
     "shell.execute_reply": "2021-08-14T15:47:25.336855Z",
     "shell.execute_reply.started": "2021-08-14T15:00:06.729896Z"
    },
    "papermill": {
     "duration": 0.077843,
     "end_time": "2021-08-14T15:47:25.337557",
     "exception": false,
     "start_time": "2021-08-14T15:47:25.259714",
     "status": "completed"
    },
    "tags": []
   },
   "outputs": [
    {
     "data": {
      "text/html": [
       "<div>\n",
       "<style scoped>\n",
       "    .dataframe tbody tr th:only-of-type {\n",
       "        vertical-align: middle;\n",
       "    }\n",
       "\n",
       "    .dataframe tbody tr th {\n",
       "        vertical-align: top;\n",
       "    }\n",
       "\n",
       "    .dataframe thead th {\n",
       "        text-align: right;\n",
       "    }\n",
       "</style>\n",
       "<table border=\"1\" class=\"dataframe\">\n",
       "  <thead>\n",
       "    <tr style=\"text-align: right;\">\n",
       "      <th></th>\n",
       "      <th>pixel0</th>\n",
       "      <th>pixel1</th>\n",
       "      <th>pixel2</th>\n",
       "      <th>pixel3</th>\n",
       "      <th>pixel4</th>\n",
       "      <th>pixel5</th>\n",
       "      <th>pixel6</th>\n",
       "      <th>pixel7</th>\n",
       "      <th>pixel8</th>\n",
       "      <th>pixel9</th>\n",
       "      <th>...</th>\n",
       "      <th>pixel774</th>\n",
       "      <th>pixel775</th>\n",
       "      <th>pixel776</th>\n",
       "      <th>pixel777</th>\n",
       "      <th>pixel778</th>\n",
       "      <th>pixel779</th>\n",
       "      <th>pixel780</th>\n",
       "      <th>pixel781</th>\n",
       "      <th>pixel782</th>\n",
       "      <th>pixel783</th>\n",
       "    </tr>\n",
       "  </thead>\n",
       "  <tbody>\n",
       "    <tr>\n",
       "      <th>0</th>\n",
       "      <td>0</td>\n",
       "      <td>0</td>\n",
       "      <td>0</td>\n",
       "      <td>0</td>\n",
       "      <td>0</td>\n",
       "      <td>0</td>\n",
       "      <td>0</td>\n",
       "      <td>0</td>\n",
       "      <td>0</td>\n",
       "      <td>0</td>\n",
       "      <td>...</td>\n",
       "      <td>0</td>\n",
       "      <td>0</td>\n",
       "      <td>0</td>\n",
       "      <td>0</td>\n",
       "      <td>0</td>\n",
       "      <td>0</td>\n",
       "      <td>0</td>\n",
       "      <td>0</td>\n",
       "      <td>0</td>\n",
       "      <td>0</td>\n",
       "    </tr>\n",
       "    <tr>\n",
       "      <th>1</th>\n",
       "      <td>0</td>\n",
       "      <td>0</td>\n",
       "      <td>0</td>\n",
       "      <td>0</td>\n",
       "      <td>0</td>\n",
       "      <td>0</td>\n",
       "      <td>0</td>\n",
       "      <td>0</td>\n",
       "      <td>0</td>\n",
       "      <td>0</td>\n",
       "      <td>...</td>\n",
       "      <td>0</td>\n",
       "      <td>0</td>\n",
       "      <td>0</td>\n",
       "      <td>0</td>\n",
       "      <td>0</td>\n",
       "      <td>0</td>\n",
       "      <td>0</td>\n",
       "      <td>0</td>\n",
       "      <td>0</td>\n",
       "      <td>0</td>\n",
       "    </tr>\n",
       "    <tr>\n",
       "      <th>2</th>\n",
       "      <td>0</td>\n",
       "      <td>0</td>\n",
       "      <td>0</td>\n",
       "      <td>0</td>\n",
       "      <td>0</td>\n",
       "      <td>0</td>\n",
       "      <td>0</td>\n",
       "      <td>0</td>\n",
       "      <td>0</td>\n",
       "      <td>0</td>\n",
       "      <td>...</td>\n",
       "      <td>0</td>\n",
       "      <td>0</td>\n",
       "      <td>0</td>\n",
       "      <td>0</td>\n",
       "      <td>0</td>\n",
       "      <td>0</td>\n",
       "      <td>0</td>\n",
       "      <td>0</td>\n",
       "      <td>0</td>\n",
       "      <td>0</td>\n",
       "    </tr>\n",
       "    <tr>\n",
       "      <th>3</th>\n",
       "      <td>0</td>\n",
       "      <td>0</td>\n",
       "      <td>0</td>\n",
       "      <td>0</td>\n",
       "      <td>0</td>\n",
       "      <td>0</td>\n",
       "      <td>0</td>\n",
       "      <td>0</td>\n",
       "      <td>0</td>\n",
       "      <td>0</td>\n",
       "      <td>...</td>\n",
       "      <td>0</td>\n",
       "      <td>0</td>\n",
       "      <td>0</td>\n",
       "      <td>0</td>\n",
       "      <td>0</td>\n",
       "      <td>0</td>\n",
       "      <td>0</td>\n",
       "      <td>0</td>\n",
       "      <td>0</td>\n",
       "      <td>0</td>\n",
       "    </tr>\n",
       "    <tr>\n",
       "      <th>4</th>\n",
       "      <td>0</td>\n",
       "      <td>0</td>\n",
       "      <td>0</td>\n",
       "      <td>0</td>\n",
       "      <td>0</td>\n",
       "      <td>0</td>\n",
       "      <td>0</td>\n",
       "      <td>0</td>\n",
       "      <td>0</td>\n",
       "      <td>0</td>\n",
       "      <td>...</td>\n",
       "      <td>0</td>\n",
       "      <td>0</td>\n",
       "      <td>0</td>\n",
       "      <td>0</td>\n",
       "      <td>0</td>\n",
       "      <td>0</td>\n",
       "      <td>0</td>\n",
       "      <td>0</td>\n",
       "      <td>0</td>\n",
       "      <td>0</td>\n",
       "    </tr>\n",
       "  </tbody>\n",
       "</table>\n",
       "<p>5 rows × 784 columns</p>\n",
       "</div>"
      ],
      "text/plain": [
       "   pixel0  pixel1  pixel2  pixel3  pixel4  pixel5  pixel6  pixel7  pixel8  \\\n",
       "0       0       0       0       0       0       0       0       0       0   \n",
       "1       0       0       0       0       0       0       0       0       0   \n",
       "2       0       0       0       0       0       0       0       0       0   \n",
       "3       0       0       0       0       0       0       0       0       0   \n",
       "4       0       0       0       0       0       0       0       0       0   \n",
       "\n",
       "   pixel9  ...  pixel774  pixel775  pixel776  pixel777  pixel778  pixel779  \\\n",
       "0       0  ...         0         0         0         0         0         0   \n",
       "1       0  ...         0         0         0         0         0         0   \n",
       "2       0  ...         0         0         0         0         0         0   \n",
       "3       0  ...         0         0         0         0         0         0   \n",
       "4       0  ...         0         0         0         0         0         0   \n",
       "\n",
       "   pixel780  pixel781  pixel782  pixel783  \n",
       "0         0         0         0         0  \n",
       "1         0         0         0         0  \n",
       "2         0         0         0         0  \n",
       "3         0         0         0         0  \n",
       "4         0         0         0         0  \n",
       "\n",
       "[5 rows x 784 columns]"
      ]
     },
     "execution_count": 4,
     "metadata": {},
     "output_type": "execute_result"
    }
   ],
   "source": [
    "df_test.head()"
   ]
  },
  {
   "cell_type": "code",
   "execution_count": 5,
   "id": "497136ad",
   "metadata": {
    "execution": {
     "iopub.execute_input": "2021-08-14T15:47:25.451207Z",
     "iopub.status.busy": "2021-08-14T15:47:25.450296Z",
     "iopub.status.idle": "2021-08-14T15:47:25.455201Z",
     "shell.execute_reply": "2021-08-14T15:47:25.454624Z",
     "shell.execute_reply.started": "2021-08-14T15:00:06.756779Z"
    },
    "papermill": {
     "duration": 0.063996,
     "end_time": "2021-08-14T15:47:25.455348",
     "exception": false,
     "start_time": "2021-08-14T15:47:25.391352",
     "status": "completed"
    },
    "tags": []
   },
   "outputs": [
    {
     "data": {
      "text/plain": [
       "((42000, 785), (28000, 784))"
      ]
     },
     "execution_count": 5,
     "metadata": {},
     "output_type": "execute_result"
    }
   ],
   "source": [
    "df_train.shape, df_test.shape"
   ]
  },
  {
   "cell_type": "markdown",
   "id": "b3830efc",
   "metadata": {
    "papermill": {
     "duration": 0.053745,
     "end_time": "2021-08-14T15:47:25.563147",
     "exception": false,
     "start_time": "2021-08-14T15:47:25.509402",
     "status": "completed"
    },
    "tags": []
   },
   "source": [
    "### We saw that there are numbers from 0 to 255"
   ]
  },
  {
   "cell_type": "code",
   "execution_count": 6,
   "id": "01da554b",
   "metadata": {
    "execution": {
     "iopub.execute_input": "2021-08-14T15:47:25.679294Z",
     "iopub.status.busy": "2021-08-14T15:47:25.678620Z",
     "iopub.status.idle": "2021-08-14T15:47:25.685720Z",
     "shell.execute_reply": "2021-08-14T15:47:25.686286Z",
     "shell.execute_reply.started": "2021-08-14T15:00:06.772496Z"
    },
    "papermill": {
     "duration": 0.069309,
     "end_time": "2021-08-14T15:47:25.686468",
     "exception": false,
     "start_time": "2021-08-14T15:47:25.617159",
     "status": "completed"
    },
    "tags": []
   },
   "outputs": [
    {
     "data": {
      "text/plain": [
       "array([  0, 254, 253,  33, 240, 201,  88,  27,  73,  21, 128, 252, 198,\n",
       "       165, 168,  46, 127,  29,  71,  17,  68, 188,  36, 255, 191,  38,\n",
       "       164, 169, 133, 242, 246, 149, 101, 244, 235,  60,  93, 117, 185,\n",
       "       162, 248,  13, 111, 232, 200,  25, 106,  12, 193,  65, 160, 199,\n",
       "        50,  56, 231, 230,  78, 167, 170, 251, 131,  96,  66, 223, 207,\n",
       "        84, 208,  48,  58, 206, 203,  10,  87,  11,  63,  61,  75,  24,\n",
       "        85,  64, 217, 212,  28,  19,   3,  16,  81, 186,   4, 108,  69,\n",
       "       121, 236, 192, 195, 204,   8, 129, 233, 184,  42, 158, 148, 152,\n",
       "       247, 159, 218, 115, 228,  79, 135,   1,  35,  18, 238, 132, 245,\n",
       "       250, 205, 202, 124, 182, 122, 142, 134, 197, 211,  76,  74,  45,\n",
       "       139,  22, 166, 118, 249,  14,  43, 189, 151, 225,  80, 214, 154,\n",
       "        57, 143, 156, 187,  72,  15,  89,  47, 174,   2,  39, 102, 126,\n",
       "        62,  97, 163, 237,  86,  92, 104, 243,  67, 150, 221, 103, 216,\n",
       "       227,  31,  83, 157, 141, 181,  49, 110, 239, 155, 196, 209,   9,\n",
       "       112, 210, 146, 219,  34, 220,  53, 194,  70, 173, 179, 229, 145,\n",
       "       180,   5, 241, 140, 183, 190,  23,  90, 178,  30, 171,  94,  44,\n",
       "       226,  26,  59, 114, 175, 125, 147,   7, 176, 153, 100, 116, 224,\n",
       "        52, 172, 130, 137, 113,  54, 213,  40,  82,  51, 107,  91, 144,\n",
       "       234,  37, 136, 161,  41,  55, 177,   6, 138, 222, 120,  20, 215,\n",
       "       123, 109,  98,  32,  95,  99, 119,  77, 105])"
      ]
     },
     "execution_count": 6,
     "metadata": {},
     "output_type": "execute_result"
    }
   ],
   "source": [
    "df_train[\"pixel300\"].unique()"
   ]
  },
  {
   "cell_type": "markdown",
   "id": "5006e21b",
   "metadata": {
    "papermill": {
     "duration": 0.053911,
     "end_time": "2021-08-14T15:47:25.794952",
     "exception": false,
     "start_time": "2021-08-14T15:47:25.741041",
     "status": "completed"
    },
    "tags": []
   },
   "source": [
    "# Preprocessing"
   ]
  },
  {
   "cell_type": "markdown",
   "id": "cb95c6fa",
   "metadata": {
    "papermill": {
     "duration": 0.054968,
     "end_time": "2021-08-14T15:47:25.904185",
     "exception": false,
     "start_time": "2021-08-14T15:47:25.849217",
     "status": "completed"
    },
    "tags": []
   },
   "source": [
    "### Setting x and y"
   ]
  },
  {
   "cell_type": "code",
   "execution_count": 7,
   "id": "6fd93b11",
   "metadata": {
    "execution": {
     "iopub.execute_input": "2021-08-14T15:47:26.017380Z",
     "iopub.status.busy": "2021-08-14T15:47:26.016717Z",
     "iopub.status.idle": "2021-08-14T15:47:26.192853Z",
     "shell.execute_reply": "2021-08-14T15:47:26.192178Z",
     "shell.execute_reply.started": "2021-08-14T15:00:06.791572Z"
    },
    "papermill": {
     "duration": 0.233808,
     "end_time": "2021-08-14T15:47:26.192995",
     "exception": false,
     "start_time": "2021-08-14T15:47:25.959187",
     "status": "completed"
    },
    "tags": []
   },
   "outputs": [],
   "source": [
    "y = df_train[\"label\"]\n",
    "x = df_train.drop(\"label\", axis = 1)"
   ]
  },
  {
   "cell_type": "markdown",
   "id": "a5f637fe",
   "metadata": {
    "papermill": {
     "duration": 0.054625,
     "end_time": "2021-08-14T15:47:26.303746",
     "exception": false,
     "start_time": "2021-08-14T15:47:26.249121",
     "status": "completed"
    },
    "tags": []
   },
   "source": [
    "### Normalizing to 0 and 1"
   ]
  },
  {
   "cell_type": "code",
   "execution_count": 8,
   "id": "a11e9f0e",
   "metadata": {
    "execution": {
     "iopub.execute_input": "2021-08-14T15:47:26.419807Z",
     "iopub.status.busy": "2021-08-14T15:47:26.418947Z",
     "iopub.status.idle": "2021-08-14T15:47:26.525494Z",
     "shell.execute_reply": "2021-08-14T15:47:26.524848Z",
     "shell.execute_reply.started": "2021-08-14T15:00:07.012078Z"
    },
    "papermill": {
     "duration": 0.166972,
     "end_time": "2021-08-14T15:47:26.525686",
     "exception": false,
     "start_time": "2021-08-14T15:47:26.358714",
     "status": "completed"
    },
    "tags": []
   },
   "outputs": [],
   "source": [
    "x = x / 255 "
   ]
  },
  {
   "cell_type": "markdown",
   "id": "dae56859",
   "metadata": {
    "papermill": {
     "duration": 0.054816,
     "end_time": "2021-08-14T15:47:26.635534",
     "exception": false,
     "start_time": "2021-08-14T15:47:26.580718",
     "status": "completed"
    },
    "tags": []
   },
   "source": [
    "### Splitting data to train and validation set"
   ]
  },
  {
   "cell_type": "code",
   "execution_count": 9,
   "id": "80f0aeb7",
   "metadata": {
    "execution": {
     "iopub.execute_input": "2021-08-14T15:47:26.769748Z",
     "iopub.status.busy": "2021-08-14T15:47:26.768899Z",
     "iopub.status.idle": "2021-08-14T15:47:27.125873Z",
     "shell.execute_reply": "2021-08-14T15:47:27.124246Z",
     "shell.execute_reply.started": "2021-08-14T15:00:07.107334Z"
    },
    "papermill": {
     "duration": 0.433608,
     "end_time": "2021-08-14T15:47:27.126087",
     "exception": false,
     "start_time": "2021-08-14T15:47:26.692479",
     "status": "completed"
    },
    "tags": []
   },
   "outputs": [],
   "source": [
    "x_train, x_val, y_train, y_val = train_test_split(x, y, test_size=0.2, random_state=42)"
   ]
  },
  {
   "cell_type": "markdown",
   "id": "4712ee1a",
   "metadata": {
    "papermill": {
     "duration": 0.055003,
     "end_time": "2021-08-14T15:47:27.239795",
     "exception": false,
     "start_time": "2021-08-14T15:47:27.184792",
     "status": "completed"
    },
    "tags": []
   },
   "source": [
    "### Determining the test data and normalizing the test data"
   ]
  },
  {
   "cell_type": "code",
   "execution_count": 10,
   "id": "ce4df770",
   "metadata": {
    "execution": {
     "iopub.execute_input": "2021-08-14T15:47:27.368261Z",
     "iopub.status.busy": "2021-08-14T15:47:27.366943Z",
     "iopub.status.idle": "2021-08-14T15:47:27.432919Z",
     "shell.execute_reply": "2021-08-14T15:47:27.432216Z",
     "shell.execute_reply.started": "2021-08-14T15:00:07.459023Z"
    },
    "papermill": {
     "duration": 0.137627,
     "end_time": "2021-08-14T15:47:27.433097",
     "exception": false,
     "start_time": "2021-08-14T15:47:27.295470",
     "status": "completed"
    },
    "tags": []
   },
   "outputs": [],
   "source": [
    "x_test = df_test\n",
    "\n",
    "x_test = x_test / 255 # normalizing"
   ]
  },
  {
   "cell_type": "markdown",
   "id": "2e03e41c",
   "metadata": {
    "papermill": {
     "duration": 0.0547,
     "end_time": "2021-08-14T15:47:27.547086",
     "exception": false,
     "start_time": "2021-08-14T15:47:27.492386",
     "status": "completed"
    },
    "tags": []
   },
   "source": [
    "# Modeling and Predicting "
   ]
  },
  {
   "cell_type": "markdown",
   "id": "ca5d1798",
   "metadata": {
    "papermill": {
     "duration": 0.055363,
     "end_time": "2021-08-14T15:47:27.657450",
     "exception": false,
     "start_time": "2021-08-14T15:47:27.602087",
     "status": "completed"
    },
    "tags": []
   },
   "source": [
    "### First we try two layer with 64 neurons"
   ]
  },
  {
   "cell_type": "code",
   "execution_count": 11,
   "id": "5c64ab3d",
   "metadata": {
    "execution": {
     "iopub.execute_input": "2021-08-14T15:47:27.779342Z",
     "iopub.status.busy": "2021-08-14T15:47:27.778207Z",
     "iopub.status.idle": "2021-08-14T15:47:27.890191Z",
     "shell.execute_reply": "2021-08-14T15:47:27.890669Z",
     "shell.execute_reply.started": "2021-08-14T15:00:07.526000Z"
    },
    "papermill": {
     "duration": 0.177076,
     "end_time": "2021-08-14T15:47:27.890883",
     "exception": false,
     "start_time": "2021-08-14T15:47:27.713807",
     "status": "completed"
    },
    "tags": []
   },
   "outputs": [],
   "source": [
    "model = keras.Sequential([\n",
    "    keras.layers.Dense(64, activation = \"relu\", input_shape = (784,)),\n",
    "    keras.layers.Dense(64, activation = \"relu\"),\n",
    "    keras.layers.Dense(10, activation = \"softmax\")\n",
    "])"
   ]
  },
  {
   "cell_type": "markdown",
   "id": "528b47e1",
   "metadata": {
    "papermill": {
     "duration": 0.055979,
     "end_time": "2021-08-14T15:47:28.002967",
     "exception": false,
     "start_time": "2021-08-14T15:47:27.946988",
     "status": "completed"
    },
    "tags": []
   },
   "source": [
    "### Optimizer configurations"
   ]
  },
  {
   "cell_type": "code",
   "execution_count": 12,
   "id": "76283236",
   "metadata": {
    "execution": {
     "iopub.execute_input": "2021-08-14T15:47:28.121752Z",
     "iopub.status.busy": "2021-08-14T15:47:28.120656Z",
     "iopub.status.idle": "2021-08-14T15:47:28.124233Z",
     "shell.execute_reply": "2021-08-14T15:47:28.123660Z",
     "shell.execute_reply.started": "2021-08-14T15:00:07.567730Z"
    },
    "papermill": {
     "duration": 0.065773,
     "end_time": "2021-08-14T15:47:28.124400",
     "exception": false,
     "start_time": "2021-08-14T15:47:28.058627",
     "status": "completed"
    },
    "tags": []
   },
   "outputs": [],
   "source": [
    "optimizer = RMSprop(lr=0.001, rho=0.9, epsilon=1e-08, decay=0.0)"
   ]
  },
  {
   "cell_type": "markdown",
   "id": "f676fd30",
   "metadata": {
    "papermill": {
     "duration": 0.056088,
     "end_time": "2021-08-14T15:47:28.235808",
     "exception": false,
     "start_time": "2021-08-14T15:47:28.179720",
     "status": "completed"
    },
    "tags": []
   },
   "source": [
    "### Here we use sparse_categorical_crossentropy loss function, because our labels are not one hot encoded, they are like = [1,5,6,8,9,0,...], if we turn our labels to one hot encoding, we should use categorical_crossentropy loss function"
   ]
  },
  {
   "cell_type": "code",
   "execution_count": 13,
   "id": "fa7eb26f",
   "metadata": {
    "execution": {
     "iopub.execute_input": "2021-08-14T15:47:28.360627Z",
     "iopub.status.busy": "2021-08-14T15:47:28.353215Z",
     "iopub.status.idle": "2021-08-14T15:47:28.368479Z",
     "shell.execute_reply": "2021-08-14T15:47:28.367907Z",
     "shell.execute_reply.started": "2021-08-14T15:00:07.578561Z"
    },
    "papermill": {
     "duration": 0.076637,
     "end_time": "2021-08-14T15:47:28.368622",
     "exception": false,
     "start_time": "2021-08-14T15:47:28.291985",
     "status": "completed"
    },
    "tags": []
   },
   "outputs": [],
   "source": [
    "model.compile(optimizer = optimizer, loss = \"sparse_categorical_crossentropy\", metrics = [\"accuracy\"])"
   ]
  },
  {
   "cell_type": "markdown",
   "id": "5aa3e407",
   "metadata": {
    "papermill": {
     "duration": 0.054418,
     "end_time": "2021-08-14T15:47:28.477666",
     "exception": false,
     "start_time": "2021-08-14T15:47:28.423248",
     "status": "completed"
    },
    "tags": []
   },
   "source": [
    "### Fitting the train set, with these configurations and also we are giving validation data to see val_accuracy, and we save the history of fitting"
   ]
  },
  {
   "cell_type": "code",
   "execution_count": 14,
   "id": "6e3035c4",
   "metadata": {
    "execution": {
     "iopub.execute_input": "2021-08-14T15:47:28.596374Z",
     "iopub.status.busy": "2021-08-14T15:47:28.595646Z",
     "iopub.status.idle": "2021-08-14T15:48:01.219953Z",
     "shell.execute_reply": "2021-08-14T15:48:01.220577Z",
     "shell.execute_reply.started": "2021-08-14T15:00:07.597987Z"
    },
    "papermill": {
     "duration": 32.687244,
     "end_time": "2021-08-14T15:48:01.220794",
     "exception": false,
     "start_time": "2021-08-14T15:47:28.533550",
     "status": "completed"
    },
    "tags": []
   },
   "outputs": [
    {
     "name": "stdout",
     "output_type": "stream",
     "text": [
      "Epoch 1/20\n",
      "525/525 [==============================] - 3s 4ms/step - loss: 0.6663 - accuracy: 0.8122 - val_loss: 0.2302 - val_accuracy: 0.9342\n",
      "Epoch 2/20\n",
      "525/525 [==============================] - 1s 3ms/step - loss: 0.2038 - accuracy: 0.9409 - val_loss: 0.1682 - val_accuracy: 0.9525\n",
      "Epoch 3/20\n",
      "525/525 [==============================] - 2s 3ms/step - loss: 0.1406 - accuracy: 0.9597 - val_loss: 0.1590 - val_accuracy: 0.9518\n",
      "Epoch 4/20\n",
      "525/525 [==============================] - 2s 3ms/step - loss: 0.1085 - accuracy: 0.9664 - val_loss: 0.1348 - val_accuracy: 0.9610\n",
      "Epoch 5/20\n",
      "525/525 [==============================] - 2s 3ms/step - loss: 0.0875 - accuracy: 0.9736 - val_loss: 0.1370 - val_accuracy: 0.9605\n",
      "Epoch 6/20\n",
      "525/525 [==============================] - 1s 3ms/step - loss: 0.0722 - accuracy: 0.9784 - val_loss: 0.1340 - val_accuracy: 0.9623\n",
      "Epoch 7/20\n",
      "525/525 [==============================] - 2s 3ms/step - loss: 0.0628 - accuracy: 0.9802 - val_loss: 0.1272 - val_accuracy: 0.9636\n",
      "Epoch 8/20\n",
      "525/525 [==============================] - 2s 3ms/step - loss: 0.0515 - accuracy: 0.9838 - val_loss: 0.1200 - val_accuracy: 0.9663\n",
      "Epoch 9/20\n",
      "525/525 [==============================] - 2s 3ms/step - loss: 0.0458 - accuracy: 0.9857 - val_loss: 0.1219 - val_accuracy: 0.9685\n",
      "Epoch 10/20\n",
      "525/525 [==============================] - 2s 3ms/step - loss: 0.0373 - accuracy: 0.9881 - val_loss: 0.1319 - val_accuracy: 0.9663\n",
      "Epoch 11/20\n",
      "525/525 [==============================] - 2s 3ms/step - loss: 0.0322 - accuracy: 0.9902 - val_loss: 0.1302 - val_accuracy: 0.9674\n",
      "Epoch 12/20\n",
      "525/525 [==============================] - 1s 3ms/step - loss: 0.0284 - accuracy: 0.9913 - val_loss: 0.1297 - val_accuracy: 0.9682\n",
      "Epoch 13/20\n",
      "525/525 [==============================] - 2s 3ms/step - loss: 0.0265 - accuracy: 0.9925 - val_loss: 0.1368 - val_accuracy: 0.9677\n",
      "Epoch 14/20\n",
      "525/525 [==============================] - 1s 3ms/step - loss: 0.0235 - accuracy: 0.9924 - val_loss: 0.1364 - val_accuracy: 0.9701\n",
      "Epoch 15/20\n",
      "525/525 [==============================] - 2s 3ms/step - loss: 0.0198 - accuracy: 0.9945 - val_loss: 0.1556 - val_accuracy: 0.9677\n",
      "Epoch 16/20\n",
      "525/525 [==============================] - 1s 3ms/step - loss: 0.0140 - accuracy: 0.9965 - val_loss: 0.1398 - val_accuracy: 0.9705\n",
      "Epoch 17/20\n",
      "525/525 [==============================] - 2s 3ms/step - loss: 0.0125 - accuracy: 0.9965 - val_loss: 0.1475 - val_accuracy: 0.9706\n",
      "Epoch 18/20\n",
      "525/525 [==============================] - 2s 3ms/step - loss: 0.0128 - accuracy: 0.9961 - val_loss: 0.1479 - val_accuracy: 0.9701\n",
      "Epoch 19/20\n",
      "525/525 [==============================] - 1s 3ms/step - loss: 0.0102 - accuracy: 0.9968 - val_loss: 0.1626 - val_accuracy: 0.9673\n",
      "Epoch 20/20\n",
      "525/525 [==============================] - 2s 3ms/step - loss: 0.0095 - accuracy: 0.9972 - val_loss: 0.1625 - val_accuracy: 0.9707\n"
     ]
    }
   ],
   "source": [
    "history = model.fit(x_train, y_train, batch_size = 64, epochs = 20, verbose = 1, validation_data = (x_val, y_val))"
   ]
  },
  {
   "cell_type": "markdown",
   "id": "1190a6be",
   "metadata": {
    "papermill": {
     "duration": 0.216804,
     "end_time": "2021-08-14T15:48:01.660743",
     "exception": false,
     "start_time": "2021-08-14T15:48:01.443939",
     "status": "completed"
    },
    "tags": []
   },
   "source": [
    "### Printing accuracy rate"
   ]
  },
  {
   "cell_type": "code",
   "execution_count": 15,
   "id": "08a9027f",
   "metadata": {
    "execution": {
     "iopub.execute_input": "2021-08-14T15:48:02.105927Z",
     "iopub.status.busy": "2021-08-14T15:48:02.105125Z",
     "iopub.status.idle": "2021-08-14T15:48:02.588179Z",
     "shell.execute_reply": "2021-08-14T15:48:02.587607Z",
     "shell.execute_reply.started": "2021-08-14T15:00:37.275018Z"
    },
    "papermill": {
     "duration": 0.706645,
     "end_time": "2021-08-14T15:48:02.588332",
     "exception": false,
     "start_time": "2021-08-14T15:48:01.881687",
     "status": "completed"
    },
    "tags": []
   },
   "outputs": [
    {
     "name": "stdout",
     "output_type": "stream",
     "text": [
      "263/263 [==============================] - 0s 1ms/step - loss: 0.1625 - accuracy: 0.9707\n",
      "Accuracy: 97.07\n"
     ]
    }
   ],
   "source": [
    "_, accuracy = model.evaluate(x_val, y_val)\n",
    "print(\"Accuracy: %.2f\" % (accuracy*100))"
   ]
  },
  {
   "cell_type": "markdown",
   "id": "f8801d81",
   "metadata": {
    "papermill": {
     "duration": 0.222444,
     "end_time": "2021-08-14T15:48:03.033718",
     "exception": false,
     "start_time": "2021-08-14T15:48:02.811274",
     "status": "completed"
    },
    "tags": []
   },
   "source": [
    "### Visualizing Model accuracy and Model loss"
   ]
  },
  {
   "cell_type": "code",
   "execution_count": 16,
   "id": "faa8fa18",
   "metadata": {
    "execution": {
     "iopub.execute_input": "2021-08-14T15:48:03.492594Z",
     "iopub.status.busy": "2021-08-14T15:48:03.491934Z",
     "iopub.status.idle": "2021-08-14T15:48:03.844959Z",
     "shell.execute_reply": "2021-08-14T15:48:03.844420Z",
     "shell.execute_reply.started": "2021-08-14T15:00:37.715186Z"
    },
    "papermill": {
     "duration": 0.591633,
     "end_time": "2021-08-14T15:48:03.845156",
     "exception": false,
     "start_time": "2021-08-14T15:48:03.253523",
     "status": "completed"
    },
    "tags": []
   },
   "outputs": [
    {
     "data": {
      "image/png": "[encoded data removed]",
      "text/plain": [
       "<Figure size 432x288 with 1 Axes>"
      ]
     },
     "metadata": {
      "needs_background": "light"
     },
     "output_type": "display_data"
    },
    {
     "data": {
      "image/png": "[encoded data removed]",
      "text/plain": [
       "<Figure size 432x288 with 1 Axes>"
      ]
     },
     "metadata": {
      "needs_background": "light"
     },
     "output_type": "display_data"
    }
   ],
   "source": [
    "import matplotlib.pyplot as plt \n",
    "plt.plot(history.history[\"accuracy\"])\n",
    "plt.plot(history.history[\"val_accuracy\"])\n",
    "plt.title(\"Model accuracy\")\n",
    "plt.ylabel(\"Accuracy\")\n",
    "plt.xlabel(\"Epoch\")\n",
    "plt.legend([\"Train\", \"Test\"], loc = \"upper left\")\n",
    "plt.show()\n",
    "\n",
    "plt.plot(history.history[\"loss\"])\n",
    "plt.plot(history.history[\"val_loss\"])\n",
    "plt.title(\"Model loss\")\n",
    "plt.ylabel(\"Loss\")\n",
    "plt.xlabel(\"Epoch\")\n",
    "plt.legend([\"Train\", \"Test\"], loc = \"upper left\")\n",
    "plt.show()"
   ]
  },
  {
   "cell_type": "markdown",
   "id": "96d07e56",
   "metadata": {
    "papermill": {
     "duration": 0.219011,
     "end_time": "2021-08-14T15:48:04.293036",
     "exception": false,
     "start_time": "2021-08-14T15:48:04.074025",
     "status": "completed"
    },
    "tags": []
   },
   "source": [
    "# Convolutional Neural Network"
   ]
  },
  {
   "cell_type": "code",
   "execution_count": 17,
   "id": "1caefefb",
   "metadata": {
    "execution": {
     "iopub.execute_input": "2021-08-14T15:48:04.739552Z",
     "iopub.status.busy": "2021-08-14T15:48:04.738513Z",
     "iopub.status.idle": "2021-08-14T15:48:04.743500Z",
     "shell.execute_reply": "2021-08-14T15:48:04.742786Z",
     "shell.execute_reply.started": "2021-08-14T15:00:38.068794Z"
    },
    "papermill": {
     "duration": 0.231407,
     "end_time": "2021-08-14T15:48:04.743679",
     "exception": false,
     "start_time": "2021-08-14T15:48:04.512272",
     "status": "completed"
    },
    "tags": []
   },
   "outputs": [
    {
     "data": {
      "text/plain": [
       "((33600, 784), (8400, 784))"
      ]
     },
     "execution_count": 17,
     "metadata": {},
     "output_type": "execute_result"
    }
   ],
   "source": [
    "x_train.shape, x_val.shape"
   ]
  },
  {
   "cell_type": "markdown",
   "id": "4532e278",
   "metadata": {
    "papermill": {
     "duration": 0.274763,
     "end_time": "2021-08-14T15:48:05.246535",
     "exception": false,
     "start_time": "2021-08-14T15:48:04.971772",
     "status": "completed"
    },
    "tags": []
   },
   "source": [
    "### Reshaping x_train and x_val and x_test. Here we use .values it convert dataframe to ndarray."
   ]
  },
  {
   "cell_type": "code",
   "execution_count": 18,
   "id": "dc5e3a2b",
   "metadata": {
    "execution": {
     "iopub.execute_input": "2021-08-14T15:48:05.691917Z",
     "iopub.status.busy": "2021-08-14T15:48:05.691269Z",
     "iopub.status.idle": "2021-08-14T15:48:05.694487Z",
     "shell.execute_reply": "2021-08-14T15:48:05.693974Z",
     "shell.execute_reply.started": "2021-08-14T15:00:38.078022Z"
    },
    "papermill": {
     "duration": 0.228705,
     "end_time": "2021-08-14T15:48:05.694630",
     "exception": false,
     "start_time": "2021-08-14T15:48:05.465925",
     "status": "completed"
    },
    "tags": []
   },
   "outputs": [],
   "source": [
    "x_train = x_train.values.reshape(x_train.shape[0], 28, 28, 1) # 28x28 pixel\n",
    "x_val = x_val.values.reshape(x_val.shape[0], 28, 28, 1)\n",
    "x_test = x_test.values.reshape(x_test.shape[0], 28, 28, 1)"
   ]
  },
  {
   "cell_type": "markdown",
   "id": "a5dbd71a",
   "metadata": {
    "papermill": {
     "duration": 0.221257,
     "end_time": "2021-08-14T15:48:06.136208",
     "exception": false,
     "start_time": "2021-08-14T15:48:05.914951",
     "status": "completed"
    },
    "tags": []
   },
   "source": [
    "### Building our CNN Model"
   ]
  },
  {
   "cell_type": "code",
   "execution_count": 19,
   "id": "635ed9cd",
   "metadata": {
    "execution": {
     "iopub.execute_input": "2021-08-14T15:48:06.590445Z",
     "iopub.status.busy": "2021-08-14T15:48:06.588437Z",
     "iopub.status.idle": "2021-08-14T15:48:06.633948Z",
     "shell.execute_reply": "2021-08-14T15:48:06.633360Z",
     "shell.execute_reply.started": "2021-08-14T15:00:38.092399Z"
    },
    "papermill": {
     "duration": 0.278995,
     "end_time": "2021-08-14T15:48:06.634109",
     "exception": false,
     "start_time": "2021-08-14T15:48:06.355114",
     "status": "completed"
    },
    "tags": []
   },
   "outputs": [],
   "source": [
    "model = keras.Sequential([\n",
    "    keras.layers.Conv2D(32, (3,3), activation = \"relu\", input_shape = (28, 28, 1)),\n",
    "    keras.layers.MaxPooling2D(2,2), \n",
    "    keras.layers.Flatten(), # it flattens the layer\n",
    "    keras.layers.Dense(64, activation = \"relu\"),\n",
    "    keras.layers.Dense(10, activation = \"softmax\")\n",
    "])"
   ]
  },
  {
   "cell_type": "code",
   "execution_count": 20,
   "id": "a46e0c1d",
   "metadata": {
    "execution": {
     "iopub.execute_input": "2021-08-14T15:48:07.084847Z",
     "iopub.status.busy": "2021-08-14T15:48:07.084143Z",
     "iopub.status.idle": "2021-08-14T15:48:07.087910Z",
     "shell.execute_reply": "2021-08-14T15:48:07.087265Z",
     "shell.execute_reply.started": "2021-08-14T15:00:38.162096Z"
    },
    "papermill": {
     "duration": 0.231058,
     "end_time": "2021-08-14T15:48:07.088071",
     "exception": false,
     "start_time": "2021-08-14T15:48:06.857013",
     "status": "completed"
    },
    "tags": []
   },
   "outputs": [],
   "source": [
    "optimizer = tf.keras.optimizers.SGD(lr = 0.01, momentum = 0.9)"
   ]
  },
  {
   "cell_type": "code",
   "execution_count": 21,
   "id": "3a17ae64",
   "metadata": {
    "execution": {
     "iopub.execute_input": "2021-08-14T15:48:07.542076Z",
     "iopub.status.busy": "2021-08-14T15:48:07.539795Z",
     "iopub.status.idle": "2021-08-14T15:48:07.548625Z",
     "shell.execute_reply": "2021-08-14T15:48:07.547887Z",
     "shell.execute_reply.started": "2021-08-14T15:00:38.170637Z"
    },
    "papermill": {
     "duration": 0.241105,
     "end_time": "2021-08-14T15:48:07.548785",
     "exception": false,
     "start_time": "2021-08-14T15:48:07.307680",
     "status": "completed"
    },
    "tags": []
   },
   "outputs": [],
   "source": [
    "model.compile(optimizer = optimizer, loss = \"sparse_categorical_crossentropy\", metrics = [\"accuracy\"])"
   ]
  },
  {
   "cell_type": "code",
   "execution_count": 22,
   "id": "84a05693",
   "metadata": {
    "execution": {
     "iopub.execute_input": "2021-08-14T15:48:08.041308Z",
     "iopub.status.busy": "2021-08-14T15:48:08.039806Z",
     "iopub.status.idle": "2021-08-14T15:51:12.456148Z",
     "shell.execute_reply": "2021-08-14T15:51:12.456845Z",
     "shell.execute_reply.started": "2021-08-14T15:00:38.193419Z"
    },
    "papermill": {
     "duration": 184.684468,
     "end_time": "2021-08-14T15:51:12.457079",
     "exception": false,
     "start_time": "2021-08-14T15:48:07.772611",
     "status": "completed"
    },
    "tags": []
   },
   "outputs": [
    {
     "name": "stdout",
     "output_type": "stream",
     "text": [
      "Epoch 1/20\n",
      "525/525 [==============================] - 10s 18ms/step - loss: 0.7061 - accuracy: 0.7876 - val_loss: 0.2108 - val_accuracy: 0.9367\n",
      "Epoch 2/20\n",
      "525/525 [==============================] - 9s 17ms/step - loss: 0.1876 - accuracy: 0.9419 - val_loss: 0.1612 - val_accuracy: 0.9506\n",
      "Epoch 3/20\n",
      "525/525 [==============================] - 9s 18ms/step - loss: 0.1305 - accuracy: 0.9593 - val_loss: 0.1363 - val_accuracy: 0.9582\n",
      "Epoch 4/20\n",
      "525/525 [==============================] - 9s 18ms/step - loss: 0.1016 - accuracy: 0.9687 - val_loss: 0.0973 - val_accuracy: 0.9698\n",
      "Epoch 5/20\n",
      "525/525 [==============================] - 9s 17ms/step - loss: 0.0735 - accuracy: 0.9772 - val_loss: 0.0952 - val_accuracy: 0.9704\n",
      "Epoch 6/20\n",
      "525/525 [==============================] - 9s 17ms/step - loss: 0.0593 - accuracy: 0.9812 - val_loss: 0.0824 - val_accuracy: 0.9742\n",
      "Epoch 7/20\n",
      "525/525 [==============================] - 9s 17ms/step - loss: 0.0499 - accuracy: 0.9848 - val_loss: 0.0780 - val_accuracy: 0.9743\n",
      "Epoch 8/20\n",
      "525/525 [==============================] - 9s 17ms/step - loss: 0.0422 - accuracy: 0.9871 - val_loss: 0.0699 - val_accuracy: 0.9783\n",
      "Epoch 9/20\n",
      "525/525 [==============================] - 9s 18ms/step - loss: 0.0325 - accuracy: 0.9907 - val_loss: 0.0727 - val_accuracy: 0.9763\n",
      "Epoch 10/20\n",
      "525/525 [==============================] - 9s 17ms/step - loss: 0.0265 - accuracy: 0.9918 - val_loss: 0.0721 - val_accuracy: 0.9765\n",
      "Epoch 11/20\n",
      "525/525 [==============================] - 10s 18ms/step - loss: 0.0258 - accuracy: 0.9923 - val_loss: 0.0661 - val_accuracy: 0.9807\n",
      "Epoch 12/20\n",
      "525/525 [==============================] - 9s 17ms/step - loss: 0.0186 - accuracy: 0.9949 - val_loss: 0.0635 - val_accuracy: 0.9806\n",
      "Epoch 13/20\n",
      "525/525 [==============================] - 9s 17ms/step - loss: 0.0163 - accuracy: 0.9959 - val_loss: 0.0619 - val_accuracy: 0.9825\n",
      "Epoch 14/20\n",
      "525/525 [==============================] - 10s 18ms/step - loss: 0.0123 - accuracy: 0.9974 - val_loss: 0.0577 - val_accuracy: 0.9820\n",
      "Epoch 15/20\n",
      "525/525 [==============================] - 9s 17ms/step - loss: 0.0108 - accuracy: 0.9977 - val_loss: 0.0620 - val_accuracy: 0.9817\n",
      "Epoch 16/20\n",
      "525/525 [==============================] - 9s 17ms/step - loss: 0.0102 - accuracy: 0.9979 - val_loss: 0.0616 - val_accuracy: 0.9825\n",
      "Epoch 17/20\n",
      "525/525 [==============================] - 9s 18ms/step - loss: 0.0070 - accuracy: 0.9987 - val_loss: 0.0770 - val_accuracy: 0.9789\n",
      "Epoch 18/20\n",
      "525/525 [==============================] - 9s 18ms/step - loss: 0.0079 - accuracy: 0.9984 - val_loss: 0.0640 - val_accuracy: 0.9819\n",
      "Epoch 19/20\n",
      "525/525 [==============================] - 9s 17ms/step - loss: 0.0066 - accuracy: 0.9987 - val_loss: 0.0614 - val_accuracy: 0.9833\n",
      "Epoch 20/20\n",
      "525/525 [==============================] - 9s 17ms/step - loss: 0.0041 - accuracy: 0.9995 - val_loss: 0.0705 - val_accuracy: 0.9811\n"
     ]
    }
   ],
   "source": [
    "history = model.fit(x_train, y_train, batch_size = 64, epochs = 20, verbose = 1, validation_data = (x_val, y_val))"
   ]
  },
  {
   "cell_type": "code",
   "execution_count": 23,
   "id": "a2462d45",
   "metadata": {
    "execution": {
     "iopub.execute_input": "2021-08-14T15:51:14.634503Z",
     "iopub.status.busy": "2021-08-14T15:51:14.633760Z",
     "iopub.status.idle": "2021-08-14T15:51:15.839234Z",
     "shell.execute_reply": "2021-08-14T15:51:15.839723Z",
     "shell.execute_reply.started": "2021-08-14T15:03:22.328614Z"
    },
    "papermill": {
     "duration": 2.323807,
     "end_time": "2021-08-14T15:51:15.840040",
     "exception": false,
     "start_time": "2021-08-14T15:51:13.516233",
     "status": "completed"
    },
    "tags": []
   },
   "outputs": [
    {
     "name": "stdout",
     "output_type": "stream",
     "text": [
      "263/263 [==============================] - 1s 4ms/step - loss: 0.0705 - accuracy: 0.9811\n",
      "Accuracy: 98.11\n"
     ]
    }
   ],
   "source": [
    "_, accuracy = model.evaluate(x_val, y_val)\n",
    "print(\"Accuracy: %.2f\" % (accuracy*100))"
   ]
  },
  {
   "cell_type": "code",
   "execution_count": 24,
   "id": "c13fd85b",
   "metadata": {
    "execution": {
     "iopub.execute_input": "2021-08-14T15:51:18.013642Z",
     "iopub.status.busy": "2021-08-14T15:51:18.012925Z",
     "iopub.status.idle": "2021-08-14T15:51:18.364974Z",
     "shell.execute_reply": "2021-08-14T15:51:18.363675Z",
     "shell.execute_reply.started": "2021-08-14T15:03:23.480879Z"
    },
    "papermill": {
     "duration": 1.464209,
     "end_time": "2021-08-14T15:51:18.365188",
     "exception": false,
     "start_time": "2021-08-14T15:51:16.900979",
     "status": "completed"
    },
    "tags": []
   },
   "outputs": [
    {
     "data": {
      "image/png": "[encoded data removed]",
      "text/plain": [
       "<Figure size 432x288 with 1 Axes>"
      ]
     },
     "metadata": {
      "needs_background": "light"
     },
     "output_type": "display_data"
    },
    {
     "data": {
      "image/png": "[encoded data removed]",
      "text/plain": [
       "<Figure size 432x288 with 1 Axes>"
      ]
     },
     "metadata": {
      "needs_background": "light"
     },
     "output_type": "display_data"
    }
   ],
   "source": [
    "import matplotlib.pyplot as plt \n",
    "plt.plot(history.history[\"accuracy\"])\n",
    "plt.plot(history.history[\"val_accuracy\"])\n",
    "plt.title(\"Model accuracy\")\n",
    "plt.ylabel(\"Accuracy\")\n",
    "plt.xlabel(\"Epoch\")\n",
    "plt.legend([\"Train\", \"Test\"], loc = \"upper left\")\n",
    "plt.show()\n",
    "\n",
    "plt.plot(history.history[\"loss\"])\n",
    "plt.plot(history.history[\"val_loss\"])\n",
    "plt.title(\"Model loss\")\n",
    "plt.ylabel(\"Loss\")\n",
    "plt.xlabel(\"Epoch\")\n",
    "plt.legend([\"Train\", \"Test\"], loc = \"upper left\")\n",
    "plt.show()"
   ]
  },
  {
   "cell_type": "markdown",
   "id": "e38a182e",
   "metadata": {
    "papermill": {
     "duration": 1.069941,
     "end_time": "2021-08-14T15:51:20.506652",
     "exception": false,
     "start_time": "2021-08-14T15:51:19.436711",
     "status": "completed"
    },
    "tags": []
   },
   "source": [
    "### Now we are adding one more Convolutional layer, hope to increase the accuracy."
   ]
  },
  {
   "cell_type": "code",
   "execution_count": 25,
   "id": "1f8f4743",
   "metadata": {
    "execution": {
     "iopub.execute_input": "2021-08-14T15:51:22.663101Z",
     "iopub.status.busy": "2021-08-14T15:51:22.661909Z",
     "iopub.status.idle": "2021-08-14T15:51:22.705316Z",
     "shell.execute_reply": "2021-08-14T15:51:22.705875Z",
     "shell.execute_reply.started": "2021-08-14T15:03:23.835001Z"
    },
    "papermill": {
     "duration": 1.131828,
     "end_time": "2021-08-14T15:51:22.706086",
     "exception": false,
     "start_time": "2021-08-14T15:51:21.574258",
     "status": "completed"
    },
    "tags": []
   },
   "outputs": [],
   "source": [
    "model = keras.Sequential([\n",
    "    keras.layers.Conv2D(32, (3,3), activation = \"relu\", input_shape = (28, 28, 1)),\n",
    "    keras.layers.Conv2D(64, (3,3), activation = \"relu\"),\n",
    "    keras.layers.MaxPooling2D(2,2), \n",
    "    keras.layers.Flatten(),\n",
    "    keras.layers.Dense(64, activation = \"relu\"),\n",
    "    keras.layers.Dense(10, activation = \"softmax\")\n",
    "])"
   ]
  },
  {
   "cell_type": "code",
   "execution_count": 26,
   "id": "3487111f",
   "metadata": {
    "execution": {
     "iopub.execute_input": "2021-08-14T15:51:24.898812Z",
     "iopub.status.busy": "2021-08-14T15:51:24.898171Z",
     "iopub.status.idle": "2021-08-14T15:51:24.903471Z",
     "shell.execute_reply": "2021-08-14T15:51:24.903922Z",
     "shell.execute_reply.started": "2021-08-14T15:03:23.901317Z"
    },
    "papermill": {
     "duration": 1.081468,
     "end_time": "2021-08-14T15:51:24.904111",
     "exception": false,
     "start_time": "2021-08-14T15:51:23.822643",
     "status": "completed"
    },
    "tags": []
   },
   "outputs": [],
   "source": [
    "optimizer = tf.keras.optimizers.SGD(lr = 0.01, momentum = 0.9)"
   ]
  },
  {
   "cell_type": "code",
   "execution_count": 27,
   "id": "1d6a0e0a",
   "metadata": {
    "execution": {
     "iopub.execute_input": "2021-08-14T15:51:27.072295Z",
     "iopub.status.busy": "2021-08-14T15:51:27.071589Z",
     "iopub.status.idle": "2021-08-14T15:51:27.085034Z",
     "shell.execute_reply": "2021-08-14T15:51:27.085526Z",
     "shell.execute_reply.started": "2021-08-14T15:03:23.914853Z"
    },
    "papermill": {
     "duration": 1.089297,
     "end_time": "2021-08-14T15:51:27.085711",
     "exception": false,
     "start_time": "2021-08-14T15:51:25.996414",
     "status": "completed"
    },
    "tags": []
   },
   "outputs": [],
   "source": [
    "model.compile(optimizer = optimizer, loss = \"sparse_categorical_crossentropy\", metrics = [\"accuracy\"])"
   ]
  },
  {
   "cell_type": "code",
   "execution_count": 28,
   "id": "73bdb84f",
   "metadata": {
    "execution": {
     "iopub.execute_input": "2021-08-14T15:51:29.318304Z",
     "iopub.status.busy": "2021-08-14T15:51:29.317623Z",
     "iopub.status.idle": "2021-08-14T15:59:19.722517Z",
     "shell.execute_reply": "2021-08-14T15:59:19.713098Z",
     "shell.execute_reply.started": "2021-08-14T15:03:23.932943Z"
    },
    "papermill": {
     "duration": 471.490255,
     "end_time": "2021-08-14T15:59:19.722756",
     "exception": false,
     "start_time": "2021-08-14T15:51:28.232501",
     "status": "completed"
    },
    "tags": []
   },
   "outputs": [
    {
     "name": "stdout",
     "output_type": "stream",
     "text": [
      "Epoch 1/10\n",
      "525/525 [==============================] - 47s 88ms/step - loss: 0.7693 - accuracy: 0.7644 - val_loss: 0.1112 - val_accuracy: 0.9669\n",
      "Epoch 2/10\n",
      "525/525 [==============================] - 46s 88ms/step - loss: 0.0969 - accuracy: 0.9710 - val_loss: 0.0758 - val_accuracy: 0.9762\n",
      "Epoch 3/10\n",
      "525/525 [==============================] - 48s 91ms/step - loss: 0.0592 - accuracy: 0.9807 - val_loss: 0.0638 - val_accuracy: 0.9807\n",
      "Epoch 4/10\n",
      "525/525 [==============================] - 47s 90ms/step - loss: 0.0405 - accuracy: 0.9884 - val_loss: 0.0569 - val_accuracy: 0.9827\n",
      "Epoch 5/10\n",
      "525/525 [==============================] - 47s 90ms/step - loss: 0.0280 - accuracy: 0.9913 - val_loss: 0.0508 - val_accuracy: 0.9840\n",
      "Epoch 6/10\n",
      "525/525 [==============================] - 47s 90ms/step - loss: 0.0225 - accuracy: 0.9930 - val_loss: 0.0561 - val_accuracy: 0.9832\n",
      "Epoch 7/10\n",
      "525/525 [==============================] - 47s 89ms/step - loss: 0.0169 - accuracy: 0.9957 - val_loss: 0.0567 - val_accuracy: 0.9835\n",
      "Epoch 8/10\n",
      "525/525 [==============================] - 47s 90ms/step - loss: 0.0142 - accuracy: 0.9954 - val_loss: 0.0481 - val_accuracy: 0.9864\n",
      "Epoch 9/10\n",
      "525/525 [==============================] - 47s 89ms/step - loss: 0.0074 - accuracy: 0.9981 - val_loss: 0.0510 - val_accuracy: 0.9868\n",
      "Epoch 10/10\n",
      "525/525 [==============================] - 47s 90ms/step - loss: 0.0080 - accuracy: 0.9977 - val_loss: 0.0506 - val_accuracy: 0.9864\n"
     ]
    }
   ],
   "source": [
    "history = model.fit(x_train, y_train, batch_size = 64, epochs = 10, verbose = 1, validation_data = (x_val, y_val))"
   ]
  },
  {
   "cell_type": "code",
   "execution_count": 29,
   "id": "9c10c166",
   "metadata": {
    "execution": {
     "iopub.execute_input": "2021-08-14T15:59:25.098727Z",
     "iopub.status.busy": "2021-08-14T15:59:25.098001Z",
     "iopub.status.idle": "2021-08-14T15:59:28.123232Z",
     "shell.execute_reply": "2021-08-14T15:59:28.122507Z",
     "shell.execute_reply.started": "2021-08-14T15:09:48.139234Z"
    },
    "papermill": {
     "duration": 5.677541,
     "end_time": "2021-08-14T15:59:28.123396",
     "exception": false,
     "start_time": "2021-08-14T15:59:22.445855",
     "status": "completed"
    },
    "tags": []
   },
   "outputs": [
    {
     "name": "stdout",
     "output_type": "stream",
     "text": [
      "263/263 [==============================] - 3s 11ms/step - loss: 0.0506 - accuracy: 0.9864\n",
      "Accuracy: 98.64\n"
     ]
    }
   ],
   "source": [
    "_, accuracy = model.evaluate(x_val, y_val)\n",
    "print(\"Accuracy: %.2f\" % (accuracy*100))"
   ]
  },
  {
   "cell_type": "code",
   "execution_count": 30,
   "id": "ee289e7b",
   "metadata": {
    "execution": {
     "iopub.execute_input": "2021-08-14T15:59:33.593658Z",
     "iopub.status.busy": "2021-08-14T15:59:33.567506Z",
     "iopub.status.idle": "2021-08-14T15:59:33.845609Z",
     "shell.execute_reply": "2021-08-14T15:59:33.845091Z",
     "shell.execute_reply.started": "2021-08-14T15:09:50.965128Z"
    },
    "papermill": {
     "duration": 3.014582,
     "end_time": "2021-08-14T15:59:33.845766",
     "exception": false,
     "start_time": "2021-08-14T15:59:30.831184",
     "status": "completed"
    },
    "tags": []
   },
   "outputs": [
    {
     "data": {
      "image/png": "[encoded data removed]",
      "text/plain": [
       "<Figure size 432x288 with 1 Axes>"
      ]
     },
     "metadata": {
      "needs_background": "light"
     },
     "output_type": "display_data"
    },
    {
     "data": {
      "image/png": "[encoded data removed]",
      "text/plain": [
       "<Figure size 432x288 with 1 Axes>"
      ]
     },
     "metadata": {
      "needs_background": "light"
     },
     "output_type": "display_data"
    }
   ],
   "source": [
    "import matplotlib.pyplot as plt \n",
    "plt.plot(history.history[\"accuracy\"])\n",
    "plt.plot(history.history[\"val_accuracy\"])\n",
    "plt.title(\"Model accuracy\")\n",
    "plt.ylabel(\"Accuracy\")\n",
    "plt.xlabel(\"Epoch\")\n",
    "plt.legend([\"Train\", \"Test\"], loc = \"upper left\")\n",
    "plt.show()\n",
    "\n",
    "plt.plot(history.history[\"loss\"])\n",
    "plt.plot(history.history[\"val_loss\"])\n",
    "plt.title(\"Model loss\")\n",
    "plt.ylabel(\"Loss\")\n",
    "plt.xlabel(\"Epoch\")\n",
    "plt.legend([\"Train\", \"Test\"], loc = \"upper left\")\n",
    "plt.show()"
   ]
  },
  {
   "cell_type": "markdown",
   "id": "5378f398",
   "metadata": {
    "papermill": {
     "duration": 2.718612,
     "end_time": "2021-08-14T15:59:39.220986",
     "exception": false,
     "start_time": "2021-08-14T15:59:36.502374",
     "status": "completed"
    },
    "tags": []
   },
   "source": [
    "### Now we are trying the Dropout technique to prevent overfitting."
   ]
  },
  {
   "cell_type": "code",
   "execution_count": 31,
   "id": "875380ce",
   "metadata": {
    "execution": {
     "iopub.execute_input": "2021-08-14T15:59:44.671670Z",
     "iopub.status.busy": "2021-08-14T15:59:44.668229Z",
     "iopub.status.idle": "2021-08-14T15:59:44.719807Z",
     "shell.execute_reply": "2021-08-14T15:59:44.719146Z",
     "shell.execute_reply.started": "2021-08-14T15:09:51.285111Z"
    },
    "papermill": {
     "duration": 2.727209,
     "end_time": "2021-08-14T15:59:44.719949",
     "exception": false,
     "start_time": "2021-08-14T15:59:41.992740",
     "status": "completed"
    },
    "tags": []
   },
   "outputs": [],
   "source": [
    "model = keras.Sequential([\n",
    "    keras.layers.Conv2D(32, (3,3), activation = \"relu\", input_shape = (28, 28, 1)),\n",
    "    keras.layers.Conv2D(64, (3,3), activation = \"relu\"),\n",
    "    keras.layers.MaxPooling2D(2,2), \n",
    "    keras.layers.Dropout(0.25),\n",
    "    keras.layers.Flatten(),\n",
    "    keras.layers.Dense(64, activation = \"relu\"),\n",
    "    keras.layers.Dropout(0.25),\n",
    "    keras.layers.Dense(10, activation = \"softmax\")\n",
    "])"
   ]
  },
  {
   "cell_type": "code",
   "execution_count": 32,
   "id": "de283f47",
   "metadata": {
    "execution": {
     "iopub.execute_input": "2021-08-14T15:59:50.107572Z",
     "iopub.status.busy": "2021-08-14T15:59:50.106709Z",
     "iopub.status.idle": "2021-08-14T15:59:50.110276Z",
     "shell.execute_reply": "2021-08-14T15:59:50.109627Z",
     "shell.execute_reply.started": "2021-08-14T15:09:51.356192Z"
    },
    "papermill": {
     "duration": 2.673244,
     "end_time": "2021-08-14T15:59:50.110425",
     "exception": false,
     "start_time": "2021-08-14T15:59:47.437181",
     "status": "completed"
    },
    "tags": []
   },
   "outputs": [],
   "source": [
    "optimizer = tf.keras.optimizers.SGD(lr = 0.01, momentum = 0.9)"
   ]
  },
  {
   "cell_type": "code",
   "execution_count": 33,
   "id": "1762f247",
   "metadata": {
    "execution": {
     "iopub.execute_input": "2021-08-14T15:59:55.534720Z",
     "iopub.status.busy": "2021-08-14T15:59:55.533700Z",
     "iopub.status.idle": "2021-08-14T15:59:55.540167Z",
     "shell.execute_reply": "2021-08-14T15:59:55.539352Z",
     "shell.execute_reply.started": "2021-08-14T15:09:51.363924Z"
    },
    "papermill": {
     "duration": 2.683782,
     "end_time": "2021-08-14T15:59:55.540323",
     "exception": false,
     "start_time": "2021-08-14T15:59:52.856541",
     "status": "completed"
    },
    "tags": []
   },
   "outputs": [],
   "source": [
    "model.compile(optimizer = optimizer, loss = \"sparse_categorical_crossentropy\", metrics = [\"accuracy\"])"
   ]
  },
  {
   "cell_type": "code",
   "execution_count": 34,
   "id": "287d9a64",
   "metadata": {
    "execution": {
     "iopub.execute_input": "2021-08-14T16:00:00.931477Z",
     "iopub.status.busy": "2021-08-14T16:00:00.930839Z",
     "iopub.status.idle": "2021-08-14T16:08:11.562232Z",
     "shell.execute_reply": "2021-08-14T16:08:11.561461Z",
     "shell.execute_reply.started": "2021-08-14T15:09:51.387268Z"
    },
    "papermill": {
     "duration": 493.36542,
     "end_time": "2021-08-14T16:08:11.562407",
     "exception": false,
     "start_time": "2021-08-14T15:59:58.196987",
     "status": "completed"
    },
    "tags": []
   },
   "outputs": [
    {
     "name": "stdout",
     "output_type": "stream",
     "text": [
      "Epoch 1/10\n",
      "525/525 [==============================] - 50s 94ms/step - loss: 0.8899 - accuracy: 0.7061 - val_loss: 0.1633 - val_accuracy: 0.9493\n",
      "Epoch 2/10\n",
      "525/525 [==============================] - 49s 93ms/step - loss: 0.1823 - accuracy: 0.9434 - val_loss: 0.0898 - val_accuracy: 0.9733\n",
      "Epoch 3/10\n",
      "525/525 [==============================] - 50s 94ms/step - loss: 0.1160 - accuracy: 0.9634 - val_loss: 0.0679 - val_accuracy: 0.9786\n",
      "Epoch 4/10\n",
      "525/525 [==============================] - 49s 93ms/step - loss: 0.0877 - accuracy: 0.9729 - val_loss: 0.0639 - val_accuracy: 0.9811\n",
      "Epoch 5/10\n",
      "525/525 [==============================] - 49s 92ms/step - loss: 0.0735 - accuracy: 0.9779 - val_loss: 0.0548 - val_accuracy: 0.9833\n",
      "Epoch 6/10\n",
      "525/525 [==============================] - 50s 96ms/step - loss: 0.0651 - accuracy: 0.9799 - val_loss: 0.0509 - val_accuracy: 0.9843\n",
      "Epoch 7/10\n",
      "525/525 [==============================] - 49s 93ms/step - loss: 0.0558 - accuracy: 0.9824 - val_loss: 0.0465 - val_accuracy: 0.9867\n",
      "Epoch 8/10\n",
      "525/525 [==============================] - 49s 93ms/step - loss: 0.0484 - accuracy: 0.9842 - val_loss: 0.0486 - val_accuracy: 0.9867\n",
      "Epoch 9/10\n",
      "525/525 [==============================] - 50s 95ms/step - loss: 0.0444 - accuracy: 0.9849 - val_loss: 0.0488 - val_accuracy: 0.9863\n",
      "Epoch 10/10\n",
      "525/525 [==============================] - 47s 90ms/step - loss: 0.0370 - accuracy: 0.9883 - val_loss: 0.0432 - val_accuracy: 0.9879\n"
     ]
    }
   ],
   "source": [
    "history = model.fit(x_train, y_train, batch_size = 64, epochs = 10, verbose = 1, validation_data = (x_val, y_val))"
   ]
  },
  {
   "cell_type": "code",
   "execution_count": 35,
   "id": "62c03b9c",
   "metadata": {
    "execution": {
     "iopub.execute_input": "2021-08-14T16:08:20.184666Z",
     "iopub.status.busy": "2021-08-14T16:08:20.183959Z",
     "iopub.status.idle": "2021-08-14T16:08:23.242860Z",
     "shell.execute_reply": "2021-08-14T16:08:23.242357Z",
     "shell.execute_reply.started": "2021-08-14T15:16:28.607652Z"
    },
    "papermill": {
     "duration": 7.414924,
     "end_time": "2021-08-14T16:08:23.243014",
     "exception": false,
     "start_time": "2021-08-14T16:08:15.828090",
     "status": "completed"
    },
    "tags": []
   },
   "outputs": [
    {
     "name": "stdout",
     "output_type": "stream",
     "text": [
      "263/263 [==============================] - 3s 11ms/step - loss: 0.0432 - accuracy: 0.9879\n",
      "Accuracy: 98.79\n"
     ]
    }
   ],
   "source": [
    "_, accuracy = model.evaluate(x_val, y_val)\n",
    "print(\"Accuracy: %.2f\" % (accuracy*100))"
   ]
  },
  {
   "cell_type": "code",
   "execution_count": 36,
   "id": "853ea742",
   "metadata": {
    "execution": {
     "iopub.execute_input": "2021-08-14T16:08:31.913159Z",
     "iopub.status.busy": "2021-08-14T16:08:31.912487Z",
     "iopub.status.idle": "2021-08-14T16:08:32.223640Z",
     "shell.execute_reply": "2021-08-14T16:08:32.223088Z",
     "shell.execute_reply.started": "2021-08-14T15:16:31.366207Z"
    },
    "papermill": {
     "duration": 4.645095,
     "end_time": "2021-08-14T16:08:32.223777",
     "exception": false,
     "start_time": "2021-08-14T16:08:27.578682",
     "status": "completed"
    },
    "tags": []
   },
   "outputs": [
    {
     "data": {
      "image/png": "[encoded data removed]",
      "text/plain": [
       "<Figure size 432x288 with 1 Axes>"
      ]
     },
     "metadata": {
      "needs_background": "light"
     },
     "output_type": "display_data"
    },
    {
     "data": {
      "image/png": "[encoded data removed]",
      "text/plain": [
       "<Figure size 432x288 with 1 Axes>"
      ]
     },
     "metadata": {
      "needs_background": "light"
     },
     "output_type": "display_data"
    }
   ],
   "source": [
    "import matplotlib.pyplot as plt \n",
    "plt.plot(history.history[\"accuracy\"])\n",
    "plt.plot(history.history[\"val_accuracy\"])\n",
    "plt.title(\"Model accuracy\")\n",
    "plt.ylabel(\"Accuracy\")\n",
    "plt.xlabel(\"Epoch\")\n",
    "plt.legend([\"Train\", \"Test\"], loc = \"upper left\")\n",
    "plt.show()\n",
    "\n",
    "plt.plot(history.history[\"loss\"])\n",
    "plt.plot(history.history[\"val_loss\"])\n",
    "plt.title(\"Model loss\")\n",
    "plt.ylabel(\"Loss\")\n",
    "plt.xlabel(\"Epoch\")\n",
    "plt.legend([\"Train\", \"Test\"], loc = \"upper left\")\n",
    "plt.show()"
   ]
  },
  {
   "cell_type": "markdown",
   "id": "7786e31a",
   "metadata": {
    "papermill": {
     "duration": 4.378718,
     "end_time": "2021-08-14T16:08:40.944803",
     "exception": false,
     "start_time": "2021-08-14T16:08:36.566085",
     "status": "completed"
    },
    "tags": []
   },
   "source": [
    "### Now we are trying Batch Normalization to increase convergence speed"
   ]
  },
  {
   "cell_type": "code",
   "execution_count": 37,
   "id": "d9d7d1b7",
   "metadata": {
    "execution": {
     "iopub.execute_input": "2021-08-14T16:08:49.646578Z",
     "iopub.status.busy": "2021-08-14T16:08:49.643569Z",
     "iopub.status.idle": "2021-08-14T16:08:49.717446Z",
     "shell.execute_reply": "2021-08-14T16:08:49.716293Z",
     "shell.execute_reply.started": "2021-08-14T15:16:32.177663Z"
    },
    "papermill": {
     "duration": 4.439866,
     "end_time": "2021-08-14T16:08:49.717597",
     "exception": false,
     "start_time": "2021-08-14T16:08:45.277731",
     "status": "completed"
    },
    "tags": []
   },
   "outputs": [],
   "source": [
    "model = keras.Sequential([\n",
    "    keras.layers.Conv2D(32, (3,3), activation = \"relu\", input_shape = (28, 28, 1)),\n",
    "    keras.layers.Conv2D(64, (3,3), activation = \"relu\"),\n",
    "    keras.layers.MaxPooling2D(2,2), \n",
    "    keras.layers.Dropout(0.25),\n",
    "    keras.layers.Flatten(),\n",
    "    keras.layers.BatchNormalization(),\n",
    "    keras.layers.Dense(64, activation = \"relu\"),\n",
    "    keras.layers.Dropout(0.25),\n",
    "    keras.layers.BatchNormalization(),\n",
    "    keras.layers.Dense(10, activation = \"softmax\")\n",
    "])"
   ]
  },
  {
   "cell_type": "code",
   "execution_count": 38,
   "id": "63282d20",
   "metadata": {
    "execution": {
     "iopub.execute_input": "2021-08-14T16:08:58.368023Z",
     "iopub.status.busy": "2021-08-14T16:08:58.367079Z",
     "iopub.status.idle": "2021-08-14T16:08:58.371608Z",
     "shell.execute_reply": "2021-08-14T16:08:58.372121Z",
     "shell.execute_reply.started": "2021-08-14T15:16:32.284001Z"
    },
    "papermill": {
     "duration": 4.349723,
     "end_time": "2021-08-14T16:08:58.372293",
     "exception": false,
     "start_time": "2021-08-14T16:08:54.022570",
     "status": "completed"
    },
    "tags": []
   },
   "outputs": [],
   "source": [
    "optimizer = tf.keras.optimizers.SGD(lr = 0.01, momentum = 0.9)"
   ]
  },
  {
   "cell_type": "code",
   "execution_count": 39,
   "id": "2889af42",
   "metadata": {
    "execution": {
     "iopub.execute_input": "2021-08-14T16:09:06.997527Z",
     "iopub.status.busy": "2021-08-14T16:09:06.996582Z",
     "iopub.status.idle": "2021-08-14T16:09:07.009442Z",
     "shell.execute_reply": "2021-08-14T16:09:07.010118Z",
     "shell.execute_reply.started": "2021-08-14T15:16:32.291356Z"
    },
    "papermill": {
     "duration": 4.340081,
     "end_time": "2021-08-14T16:09:07.010299",
     "exception": false,
     "start_time": "2021-08-14T16:09:02.670218",
     "status": "completed"
    },
    "tags": []
   },
   "outputs": [],
   "source": [
    "model.compile(optimizer = optimizer, loss = \"sparse_categorical_crossentropy\", metrics = [\"accuracy\"])"
   ]
  },
  {
   "cell_type": "code",
   "execution_count": 40,
   "id": "c4048c5a",
   "metadata": {
    "execution": {
     "iopub.execute_input": "2021-08-14T16:09:15.769669Z",
     "iopub.status.busy": "2021-08-14T16:09:15.768720Z",
     "iopub.status.idle": "2021-08-14T16:17:54.575492Z",
     "shell.execute_reply": "2021-08-14T16:17:54.575995Z",
     "shell.execute_reply.started": "2021-08-14T15:16:32.311163Z"
    },
    "papermill": {
     "duration": 523.228462,
     "end_time": "2021-08-14T16:17:54.576273",
     "exception": false,
     "start_time": "2021-08-14T16:09:11.347811",
     "status": "completed"
    },
    "tags": []
   },
   "outputs": [
    {
     "name": "stdout",
     "output_type": "stream",
     "text": [
      "Epoch 1/10\n",
      "525/525 [==============================] - 52s 98ms/step - loss: 0.4326 - accuracy: 0.8735 - val_loss: 0.1046 - val_accuracy: 0.9775\n",
      "Epoch 2/10\n",
      "525/525 [==============================] - 52s 99ms/step - loss: 0.0936 - accuracy: 0.9740 - val_loss: 0.0514 - val_accuracy: 0.9846\n",
      "Epoch 3/10\n",
      "525/525 [==============================] - 52s 100ms/step - loss: 0.0659 - accuracy: 0.9807 - val_loss: 0.0436 - val_accuracy: 0.9865\n",
      "Epoch 4/10\n",
      "525/525 [==============================] - 52s 100ms/step - loss: 0.0510 - accuracy: 0.9839 - val_loss: 0.0529 - val_accuracy: 0.9825\n",
      "Epoch 5/10\n",
      "525/525 [==============================] - 50s 96ms/step - loss: 0.0460 - accuracy: 0.9861 - val_loss: 0.0491 - val_accuracy: 0.9844\n",
      "Epoch 6/10\n",
      "525/525 [==============================] - 53s 101ms/step - loss: 0.0366 - accuracy: 0.9894 - val_loss: 0.0350 - val_accuracy: 0.9886\n",
      "Epoch 7/10\n",
      "525/525 [==============================] - 52s 99ms/step - loss: 0.0332 - accuracy: 0.9902 - val_loss: 0.0356 - val_accuracy: 0.9896\n",
      "Epoch 8/10\n",
      "525/525 [==============================] - 52s 100ms/step - loss: 0.0331 - accuracy: 0.9898 - val_loss: 0.0322 - val_accuracy: 0.9899\n",
      "Epoch 9/10\n",
      "525/525 [==============================] - 50s 95ms/step - loss: 0.0280 - accuracy: 0.9918 - val_loss: 0.0322 - val_accuracy: 0.9902\n",
      "Epoch 10/10\n",
      "525/525 [==============================] - 52s 99ms/step - loss: 0.0237 - accuracy: 0.9930 - val_loss: 0.0302 - val_accuracy: 0.9902\n"
     ]
    }
   ],
   "source": [
    "history = model.fit(x_train, y_train, batch_size = 64, epochs = 10, verbose = 1, validation_data = (x_val, y_val))"
   ]
  },
  {
   "cell_type": "code",
   "execution_count": 41,
   "id": "46bac3f2",
   "metadata": {
    "execution": {
     "iopub.execute_input": "2021-08-14T16:18:06.394028Z",
     "iopub.status.busy": "2021-08-14T16:18:06.393388Z",
     "iopub.status.idle": "2021-08-14T16:18:09.599904Z",
     "shell.execute_reply": "2021-08-14T16:18:09.600462Z",
     "shell.execute_reply.started": "2021-08-14T15:23:35.677563Z"
    },
    "papermill": {
     "duration": 9.10056,
     "end_time": "2021-08-14T16:18:09.600683",
     "exception": false,
     "start_time": "2021-08-14T16:18:00.500123",
     "status": "completed"
    },
    "tags": []
   },
   "outputs": [
    {
     "name": "stdout",
     "output_type": "stream",
     "text": [
      "263/263 [==============================] - 3s 12ms/step - loss: 0.0302 - accuracy: 0.9902\n",
      "Accuracy: 99.02\n"
     ]
    }
   ],
   "source": [
    "_, accuracy = model.evaluate(x_val, y_val)\n",
    "print(\"Accuracy: %.2f\" % (accuracy*100))"
   ]
  },
  {
   "cell_type": "code",
   "execution_count": 42,
   "id": "28bc9371",
   "metadata": {
    "execution": {
     "iopub.execute_input": "2021-08-14T16:18:21.654147Z",
     "iopub.status.busy": "2021-08-14T16:18:21.653438Z",
     "iopub.status.idle": "2021-08-14T16:18:21.896688Z",
     "shell.execute_reply": "2021-08-14T16:18:21.897219Z",
     "shell.execute_reply.started": "2021-08-14T15:23:38.613175Z"
    },
    "papermill": {
     "duration": 6.232598,
     "end_time": "2021-08-14T16:18:21.897423",
     "exception": false,
     "start_time": "2021-08-14T16:18:15.664825",
     "status": "completed"
    },
    "tags": []
   },
   "outputs": [
    {
     "data": {
      "image/png": "[encoded data removed]",
      "text/plain": [
       "<Figure size 432x288 with 1 Axes>"
      ]
     },
     "metadata": {
      "needs_background": "light"
     },
     "output_type": "display_data"
    },
    {
     "data": {
      "image/png": "[encoded data removed]",
      "text/plain": [
       "<Figure size 432x288 with 1 Axes>"
      ]
     },
     "metadata": {
      "needs_background": "light"
     },
     "output_type": "display_data"
    }
   ],
   "source": [
    "import matplotlib.pyplot as plt \n",
    "plt.plot(history.history[\"accuracy\"])\n",
    "plt.plot(history.history[\"val_accuracy\"])\n",
    "plt.title(\"Model accuracy\")\n",
    "plt.ylabel(\"Accuracy\")\n",
    "plt.xlabel(\"Epoch\")\n",
    "plt.legend([\"Train\", \"Test\"], loc = \"upper left\")\n",
    "plt.show()\n",
    "\n",
    "plt.plot(history.history[\"loss\"])\n",
    "plt.plot(history.history[\"val_loss\"])\n",
    "plt.title(\"Model loss\")\n",
    "plt.ylabel(\"Loss\")\n",
    "plt.xlabel(\"Epoch\")\n",
    "plt.legend([\"Train\", \"Test\"], loc = \"upper left\")\n",
    "plt.show()"
   ]
  },
  {
   "cell_type": "markdown",
   "id": "67b5155f",
   "metadata": {
    "papermill": {
     "duration": 5.942255,
     "end_time": "2021-08-14T16:18:33.794819",
     "exception": false,
     "start_time": "2021-08-14T16:18:27.852564",
     "status": "completed"
    },
    "tags": []
   },
   "source": [
    "### We are creating confusion matrix with heatmap to see the true positive, true negative, false positive and false negative clearly"
   ]
  },
  {
   "cell_type": "code",
   "execution_count": 43,
   "id": "890c49b2",
   "metadata": {
    "execution": {
     "iopub.execute_input": "2021-08-14T16:18:45.730677Z",
     "iopub.status.busy": "2021-08-14T16:18:45.729952Z",
     "iopub.status.idle": "2021-08-14T16:18:49.999671Z",
     "shell.execute_reply": "2021-08-14T16:18:50.000231Z",
     "shell.execute_reply.started": "2021-08-14T15:23:38.912059Z"
    },
    "papermill": {
     "duration": 10.27629,
     "end_time": "2021-08-14T16:18:50.000455",
     "exception": false,
     "start_time": "2021-08-14T16:18:39.724165",
     "status": "completed"
    },
    "tags": []
   },
   "outputs": [
    {
     "name": "stderr",
     "output_type": "stream",
     "text": [
      "/opt/conda/lib/python3.7/site-packages/tensorflow/python/keras/engine/sequential.py:450: UserWarning: `model.predict_classes()` is deprecated and will be removed after 2021-01-01. Please use instead:* `np.argmax(model.predict(x), axis=-1)`,   if your model does multi-class classification   (e.g. if it uses a `softmax` last-layer activation).* `(model.predict(x) > 0.5).astype(\"int32\")`,   if your model does binary classification   (e.g. if it uses a `sigmoid` last-layer activation).\n",
      "  warnings.warn('`model.predict_classes()` is deprecated and '\n"
     ]
    },
    {
     "data": {
      "text/plain": [
       "<AxesSubplot:>"
      ]
     },
     "execution_count": 43,
     "metadata": {},
     "output_type": "execute_result"
    },
    {
     "data": {
      "image/png": "[encoded data removed]",
      "text/plain": [
       "<Figure size 432x288 with 2 Axes>"
      ]
     },
     "metadata": {
      "needs_background": "light"
     },
     "output_type": "display_data"
    }
   ],
   "source": [
    "sns.heatmap(confusion_matrix(model.predict_classes(x_val), y_val), cmap = \"viridis\", annot = True)"
   ]
  },
  {
   "cell_type": "markdown",
   "id": "4c42b50f",
   "metadata": {
    "papermill": {
     "duration": 6.021059,
     "end_time": "2021-08-14T16:19:01.977291",
     "exception": false,
     "start_time": "2021-08-14T16:18:55.956232",
     "status": "completed"
    },
    "tags": []
   },
   "source": [
    "### We are predicting x_test"
   ]
  },
  {
   "cell_type": "code",
   "execution_count": 44,
   "id": "44218f0b",
   "metadata": {
    "execution": {
     "iopub.execute_input": "2021-08-14T16:19:13.834449Z",
     "iopub.status.busy": "2021-08-14T16:19:13.833775Z",
     "iopub.status.idle": "2021-08-14T16:19:24.268441Z",
     "shell.execute_reply": "2021-08-14T16:19:24.268895Z",
     "shell.execute_reply.started": "2021-08-14T15:23:42.543637Z"
    },
    "papermill": {
     "duration": 16.377151,
     "end_time": "2021-08-14T16:19:24.269131",
     "exception": false,
     "start_time": "2021-08-14T16:19:07.891980",
     "status": "completed"
    },
    "tags": []
   },
   "outputs": [
    {
     "data": {
      "text/plain": [
       "array([2, 0, 9, ..., 3, 9, 2])"
      ]
     },
     "execution_count": 44,
     "metadata": {},
     "output_type": "execute_result"
    }
   ],
   "source": [
    "pred = model.predict_classes(x_test)\n",
    "pred"
   ]
  },
  {
   "cell_type": "markdown",
   "id": "9e939f02",
   "metadata": {
    "papermill": {
     "duration": 5.972935,
     "end_time": "2021-08-14T16:19:36.255946",
     "exception": false,
     "start_time": "2021-08-14T16:19:30.283011",
     "status": "completed"
    },
    "tags": []
   },
   "source": [
    "### We are saving predicted classes to dataframe"
   ]
  },
  {
   "cell_type": "code",
   "execution_count": 45,
   "id": "08a95bf4",
   "metadata": {
    "execution": {
     "iopub.execute_input": "2021-08-14T16:19:48.171218Z",
     "iopub.status.busy": "2021-08-14T16:19:48.170415Z",
     "iopub.status.idle": "2021-08-14T16:19:48.176230Z",
     "shell.execute_reply": "2021-08-14T16:19:48.175551Z",
     "shell.execute_reply.started": "2021-08-14T15:23:51.964894Z"
    },
    "papermill": {
     "duration": 5.964878,
     "end_time": "2021-08-14T16:19:48.176373",
     "exception": false,
     "start_time": "2021-08-14T16:19:42.211495",
     "status": "completed"
    },
    "tags": []
   },
   "outputs": [],
   "source": [
    "data = {\"ImageId\": list(range(1,28001)), \"Label\": pred}\n",
    "result = pd.DataFrame(data)"
   ]
  },
  {
   "cell_type": "markdown",
   "id": "68c9b668",
   "metadata": {
    "papermill": {
     "duration": 5.875924,
     "end_time": "2021-08-14T16:20:00.030168",
     "exception": false,
     "start_time": "2021-08-14T16:19:54.154244",
     "status": "completed"
    },
    "tags": []
   },
   "source": [
    "# Saving dataframe to csv file"
   ]
  },
  {
   "cell_type": "code",
   "execution_count": 46,
   "id": "c239eff3",
   "metadata": {
    "execution": {
     "iopub.execute_input": "2021-08-14T16:20:12.098182Z",
     "iopub.status.busy": "2021-08-14T16:20:12.097204Z",
     "iopub.status.idle": "2021-08-14T16:20:12.154799Z",
     "shell.execute_reply": "2021-08-14T16:20:12.154131Z",
     "shell.execute_reply.started": "2021-08-14T15:23:51.979910Z"
    },
    "papermill": {
     "duration": 6.021663,
     "end_time": "2021-08-14T16:20:12.154939",
     "exception": false,
     "start_time": "2021-08-14T16:20:06.133276",
     "status": "completed"
    },
    "tags": []
   },
   "outputs": [],
   "source": [
    "result.to_csv(\"result.csv\", index=False)"
   ]
  },
  {
   "cell_type": "markdown",
   "id": "117f1d9b",
   "metadata": {
    "papermill": {
     "duration": 5.96443,
     "end_time": "2021-08-14T16:20:24.108454",
     "exception": false,
     "start_time": "2021-08-14T16:20:18.144024",
     "status": "completed"
    },
    "tags": []
   },
   "source": [
    "# Saving Model"
   ]
  },
  {
   "cell_type": "markdown",
   "id": "4b61c3f2",
   "metadata": {
    "papermill": {
     "duration": 5.963065,
     "end_time": "2021-08-14T16:20:35.991406",
     "exception": false,
     "start_time": "2021-08-14T16:20:30.028341",
     "status": "completed"
    },
    "tags": []
   },
   "source": [
    "### If we want to save our model, here the code:"
   ]
  },
  {
   "cell_type": "code",
   "execution_count": 47,
   "id": "69828589",
   "metadata": {
    "execution": {
     "iopub.execute_input": "2021-08-14T16:20:47.925461Z",
     "iopub.status.busy": "2021-08-14T16:20:47.924518Z",
     "iopub.status.idle": "2021-08-14T16:20:49.767822Z",
     "shell.execute_reply": "2021-08-14T16:20:49.767091Z",
     "shell.execute_reply.started": "2021-08-14T15:23:52.026303Z"
    },
    "papermill": {
     "duration": 7.820093,
     "end_time": "2021-08-14T16:20:49.767986",
     "exception": false,
     "start_time": "2021-08-14T16:20:41.947893",
     "status": "completed"
    },
    "tags": []
   },
   "outputs": [],
   "source": [
    "model.save(\"final_model/\")"
   ]
  },
  {
   "cell_type": "markdown",
   "id": "8e0e1c5a",
   "metadata": {
    "papermill": {
     "duration": 5.962211,
     "end_time": "2021-08-14T16:21:01.672094",
     "exception": false,
     "start_time": "2021-08-14T16:20:55.709883",
     "status": "completed"
    },
    "tags": []
   },
   "source": [
    "# Loading Model"
   ]
  },
  {
   "cell_type": "markdown",
   "id": "22f085e1",
   "metadata": {
    "papermill": {
     "duration": 5.949308,
     "end_time": "2021-08-14T16:21:13.565762",
     "exception": false,
     "start_time": "2021-08-14T16:21:07.616454",
     "status": "completed"
    },
    "tags": []
   },
   "source": [
    "### If we want to load our model, here the code:"
   ]
  },
  {
   "cell_type": "code",
   "execution_count": 48,
   "id": "71665f1b",
   "metadata": {
    "execution": {
     "iopub.execute_input": "2021-08-14T16:21:25.539393Z",
     "iopub.status.busy": "2021-08-14T16:21:25.538705Z",
     "iopub.status.idle": "2021-08-14T16:21:26.180402Z",
     "shell.execute_reply": "2021-08-14T16:21:26.179828Z",
     "shell.execute_reply.started": "2021-08-14T15:23:53.863113Z"
    },
    "papermill": {
     "duration": 6.601122,
     "end_time": "2021-08-14T16:21:26.180541",
     "exception": false,
     "start_time": "2021-08-14T16:21:19.579419",
     "status": "completed"
    },
    "tags": []
   },
   "outputs": [],
   "source": [
    "final_model = keras.models.load_model(\"final_model/\")"
   ]
  },
  {
   "cell_type": "markdown",
   "id": "c0416bf5",
   "metadata": {
    "papermill": {
     "duration": 5.951069,
     "end_time": "2021-08-14T16:21:38.100665",
     "exception": false,
     "start_time": "2021-08-14T16:21:32.149596",
     "status": "completed"
    },
    "tags": []
   },
   "source": [
    "### We did not fit the data, we just evaluated the x_val, because we fitted and saved the model before."
   ]
  },
  {
   "cell_type": "code",
   "execution_count": 49,
   "id": "b11f8c83",
   "metadata": {
    "execution": {
     "iopub.execute_input": "2021-08-14T16:21:50.055343Z",
     "iopub.status.busy": "2021-08-14T16:21:50.054635Z",
     "iopub.status.idle": "2021-08-14T16:21:53.464725Z",
     "shell.execute_reply": "2021-08-14T16:21:53.464165Z",
     "shell.execute_reply.started": "2021-08-14T15:23:54.489600Z"
    },
    "papermill": {
     "duration": 9.389429,
     "end_time": "2021-08-14T16:21:53.464874",
     "exception": false,
     "start_time": "2021-08-14T16:21:44.075445",
     "status": "completed"
    },
    "tags": []
   },
   "outputs": [
    {
     "name": "stdout",
     "output_type": "stream",
     "text": [
      "263/263 [==============================] - 3s 12ms/step - loss: 0.0302 - accuracy: 0.9902\n",
      "Accuracy: 99.02\n"
     ]
    }
   ],
   "source": [
    "_, accuracy = final_model.evaluate(x_val, y_val)\n",
    "print(\"Accuracy: %.2f\" % (accuracy*100))"
   ]
  }
 ],
 "metadata": {
  "kernelspec": {
   "display_name": "Python 3",
   "language": "python",
   "name": "python3"
  },
  "language_info": {
   "codemirror_mode": {
    "name": "ipython",
    "version": 3
   },
   "file_extension": ".py",
   "mimetype": "text/x-python",
   "name": "python",
   "nbconvert_exporter": "python",
   "pygments_lexer": "ipython3",
   "version": "3.7.10"
  },
  "papermill": {
   "default_parameters": {},
   "duration": 2098.404405,
   "end_time": "2021-08-14T16:22:01.391240",
   "environment_variables": {},
   "exception": null,
   "input_path": "__notebook__.ipynb",
   "output_path": "__notebook__.ipynb",
   "parameters": {},
   "start_time": "2021-08-14T15:47:02.986835",
   "version": "2.3.3"
  }
 },
 "nbformat": 4,
 "nbformat_minor": 5
}
