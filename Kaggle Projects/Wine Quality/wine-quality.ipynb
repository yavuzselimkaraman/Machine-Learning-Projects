{
 "cells": [
  {
   "cell_type": "markdown",
   "id": "f567c38f",
   "metadata": {
    "papermill": {
     "duration": 0.037666,
     "end_time": "2021-08-19T16:09:29.206237",
     "exception": false,
     "start_time": "2021-08-19T16:09:29.168571",
     "status": "completed"
    },
    "tags": []
   },
   "source": [
    "# Wine Quality Prediction"
   ]
  },
  {
   "cell_type": "markdown",
   "id": "931e991c",
   "metadata": {
    "papermill": {
     "duration": 0.039138,
     "end_time": "2021-08-19T16:09:29.282512",
     "exception": false,
     "start_time": "2021-08-19T16:09:29.243374",
     "status": "completed"
    },
    "tags": []
   },
   "source": [
    "## 1. Importing Necessary Libraries"
   ]
  },
  {
   "cell_type": "code",
   "execution_count": 1,
   "id": "1768f537",
   "metadata": {
    "_cell_guid": "b1076dfc-b9ad-4769-8c92-a6c4dae69d19",
    "_uuid": "8f2839f25d086af736a60e9eeb907d3b93b6e0e5",
    "execution": {
     "iopub.execute_input": "2021-08-19T16:09:29.371002Z",
     "iopub.status.busy": "2021-08-19T16:09:29.370127Z",
     "iopub.status.idle": "2021-08-19T16:09:30.733952Z",
     "shell.execute_reply": "2021-08-19T16:09:30.733087Z",
     "shell.execute_reply.started": "2021-08-19T14:09:53.660036Z"
    },
    "papermill": {
     "duration": 1.415245,
     "end_time": "2021-08-19T16:09:30.734141",
     "exception": false,
     "start_time": "2021-08-19T16:09:29.318896",
     "status": "completed"
    },
    "tags": []
   },
   "outputs": [],
   "source": [
    "# utilities\n",
    "import numpy as np # linear algebra\n",
    "import pandas as pd # data processing, CSV file I/O (e.g. pd.read_csv)\n",
    "\n",
    "# visualization\n",
    "import matplotlib.pyplot as plt\n",
    "import seaborn as sns\n",
    "%matplotlib inline\n",
    "\n",
    "# sklearn\n",
    "from sklearn.naive_bayes import MultinomialNB\n",
    "from sklearn.neighbors import KNeighborsClassifier\n",
    "from sklearn.svm import SVC\n",
    "from sklearn.tree import DecisionTreeClassifier\n",
    "from sklearn.linear_model import LogisticRegression\n",
    "from sklearn.ensemble import RandomForestClassifier\n",
    "from sklearn.ensemble import GradientBoostingClassifier\n",
    "from xgboost import XGBClassifier\n",
    "\n",
    "from sklearn.metrics import accuracy_score, precision_score, recall_score, f1_score\n",
    "from sklearn.metrics import confusion_matrix, classification_report\n",
    "\n",
    "from sklearn.model_selection import train_test_split\n",
    "\n",
    "from sklearn.preprocessing import StandardScaler\n",
    "\n",
    "# ignoring warnings\n",
    "import warnings\n",
    "warnings.filterwarnings(\"ignore\")"
   ]
  },
  {
   "cell_type": "markdown",
   "id": "477e6e8d",
   "metadata": {
    "papermill": {
     "duration": 0.035164,
     "end_time": "2021-08-19T16:09:30.805306",
     "exception": false,
     "start_time": "2021-08-19T16:09:30.770142",
     "status": "completed"
    },
    "tags": []
   },
   "source": [
    "## 2. Loading the Dataset"
   ]
  },
  {
   "cell_type": "code",
   "execution_count": 2,
   "id": "35f5588f",
   "metadata": {
    "execution": {
     "iopub.execute_input": "2021-08-19T16:09:30.882520Z",
     "iopub.status.busy": "2021-08-19T16:09:30.881858Z",
     "iopub.status.idle": "2021-08-19T16:09:30.916581Z",
     "shell.execute_reply": "2021-08-19T16:09:30.917216Z",
     "shell.execute_reply.started": "2021-08-19T14:09:55.093514Z"
    },
    "papermill": {
     "duration": 0.075766,
     "end_time": "2021-08-19T16:09:30.917452",
     "exception": false,
     "start_time": "2021-08-19T16:09:30.841686",
     "status": "completed"
    },
    "tags": []
   },
   "outputs": [],
   "source": [
    "df = pd.read_csv(\"/kaggle/input/wine-quality/winequalityN.csv\")"
   ]
  },
  {
   "cell_type": "markdown",
   "id": "b001447b",
   "metadata": {
    "papermill": {
     "duration": 0.03703,
     "end_time": "2021-08-19T16:09:30.997597",
     "exception": false,
     "start_time": "2021-08-19T16:09:30.960567",
     "status": "completed"
    },
    "tags": []
   },
   "source": [
    "## 3. Exploratory Data Analysis"
   ]
  },
  {
   "cell_type": "code",
   "execution_count": 3,
   "id": "c82d8254",
   "metadata": {
    "execution": {
     "iopub.execute_input": "2021-08-19T16:09:31.082423Z",
     "iopub.status.busy": "2021-08-19T16:09:31.081785Z",
     "iopub.status.idle": "2021-08-19T16:09:31.106519Z",
     "shell.execute_reply": "2021-08-19T16:09:31.106977Z",
     "shell.execute_reply.started": "2021-08-19T14:09:55.137943Z"
    },
    "papermill": {
     "duration": 0.070231,
     "end_time": "2021-08-19T16:09:31.107156",
     "exception": false,
     "start_time": "2021-08-19T16:09:31.036925",
     "status": "completed"
    },
    "tags": []
   },
   "outputs": [
    {
     "data": {
      "text/html": [
       "<div>\n",
       "<style scoped>\n",
       "    .dataframe tbody tr th:only-of-type {\n",
       "        vertical-align: middle;\n",
       "    }\n",
       "\n",
       "    .dataframe tbody tr th {\n",
       "        vertical-align: top;\n",
       "    }\n",
       "\n",
       "    .dataframe thead th {\n",
       "        text-align: right;\n",
       "    }\n",
       "</style>\n",
       "<table border=\"1\" class=\"dataframe\">\n",
       "  <thead>\n",
       "    <tr style=\"text-align: right;\">\n",
       "      <th></th>\n",
       "      <th>type</th>\n",
       "      <th>fixed acidity</th>\n",
       "      <th>volatile acidity</th>\n",
       "      <th>citric acid</th>\n",
       "      <th>residual sugar</th>\n",
       "      <th>chlorides</th>\n",
       "      <th>free sulfur dioxide</th>\n",
       "      <th>total sulfur dioxide</th>\n",
       "      <th>density</th>\n",
       "      <th>pH</th>\n",
       "      <th>sulphates</th>\n",
       "      <th>alcohol</th>\n",
       "      <th>quality</th>\n",
       "    </tr>\n",
       "  </thead>\n",
       "  <tbody>\n",
       "    <tr>\n",
       "      <th>0</th>\n",
       "      <td>white</td>\n",
       "      <td>7.0</td>\n",
       "      <td>0.27</td>\n",
       "      <td>0.36</td>\n",
       "      <td>20.7</td>\n",
       "      <td>0.045</td>\n",
       "      <td>45.0</td>\n",
       "      <td>170.0</td>\n",
       "      <td>1.0010</td>\n",
       "      <td>3.00</td>\n",
       "      <td>0.45</td>\n",
       "      <td>8.8</td>\n",
       "      <td>6</td>\n",
       "    </tr>\n",
       "    <tr>\n",
       "      <th>1</th>\n",
       "      <td>white</td>\n",
       "      <td>6.3</td>\n",
       "      <td>0.30</td>\n",
       "      <td>0.34</td>\n",
       "      <td>1.6</td>\n",
       "      <td>0.049</td>\n",
       "      <td>14.0</td>\n",
       "      <td>132.0</td>\n",
       "      <td>0.9940</td>\n",
       "      <td>3.30</td>\n",
       "      <td>0.49</td>\n",
       "      <td>9.5</td>\n",
       "      <td>6</td>\n",
       "    </tr>\n",
       "    <tr>\n",
       "      <th>2</th>\n",
       "      <td>white</td>\n",
       "      <td>8.1</td>\n",
       "      <td>0.28</td>\n",
       "      <td>0.40</td>\n",
       "      <td>6.9</td>\n",
       "      <td>0.050</td>\n",
       "      <td>30.0</td>\n",
       "      <td>97.0</td>\n",
       "      <td>0.9951</td>\n",
       "      <td>3.26</td>\n",
       "      <td>0.44</td>\n",
       "      <td>10.1</td>\n",
       "      <td>6</td>\n",
       "    </tr>\n",
       "    <tr>\n",
       "      <th>3</th>\n",
       "      <td>white</td>\n",
       "      <td>7.2</td>\n",
       "      <td>0.23</td>\n",
       "      <td>0.32</td>\n",
       "      <td>8.5</td>\n",
       "      <td>0.058</td>\n",
       "      <td>47.0</td>\n",
       "      <td>186.0</td>\n",
       "      <td>0.9956</td>\n",
       "      <td>3.19</td>\n",
       "      <td>0.40</td>\n",
       "      <td>9.9</td>\n",
       "      <td>6</td>\n",
       "    </tr>\n",
       "    <tr>\n",
       "      <th>4</th>\n",
       "      <td>white</td>\n",
       "      <td>7.2</td>\n",
       "      <td>0.23</td>\n",
       "      <td>0.32</td>\n",
       "      <td>8.5</td>\n",
       "      <td>0.058</td>\n",
       "      <td>47.0</td>\n",
       "      <td>186.0</td>\n",
       "      <td>0.9956</td>\n",
       "      <td>3.19</td>\n",
       "      <td>0.40</td>\n",
       "      <td>9.9</td>\n",
       "      <td>6</td>\n",
       "    </tr>\n",
       "  </tbody>\n",
       "</table>\n",
       "</div>"
      ],
      "text/plain": [
       "    type  fixed acidity  volatile acidity  citric acid  residual sugar  \\\n",
       "0  white            7.0              0.27         0.36            20.7   \n",
       "1  white            6.3              0.30         0.34             1.6   \n",
       "2  white            8.1              0.28         0.40             6.9   \n",
       "3  white            7.2              0.23         0.32             8.5   \n",
       "4  white            7.2              0.23         0.32             8.5   \n",
       "\n",
       "   chlorides  free sulfur dioxide  total sulfur dioxide  density    pH  \\\n",
       "0      0.045                 45.0                 170.0   1.0010  3.00   \n",
       "1      0.049                 14.0                 132.0   0.9940  3.30   \n",
       "2      0.050                 30.0                  97.0   0.9951  3.26   \n",
       "3      0.058                 47.0                 186.0   0.9956  3.19   \n",
       "4      0.058                 47.0                 186.0   0.9956  3.19   \n",
       "\n",
       "   sulphates  alcohol  quality  \n",
       "0       0.45      8.8        6  \n",
       "1       0.49      9.5        6  \n",
       "2       0.44     10.1        6  \n",
       "3       0.40      9.9        6  \n",
       "4       0.40      9.9        6  "
      ]
     },
     "execution_count": 3,
     "metadata": {},
     "output_type": "execute_result"
    }
   ],
   "source": [
    "df.head()"
   ]
  },
  {
   "cell_type": "code",
   "execution_count": 4,
   "id": "75f58e00",
   "metadata": {
    "execution": {
     "iopub.execute_input": "2021-08-19T16:09:31.183352Z",
     "iopub.status.busy": "2021-08-19T16:09:31.182692Z",
     "iopub.status.idle": "2021-08-19T16:09:31.203042Z",
     "shell.execute_reply": "2021-08-19T16:09:31.203601Z",
     "shell.execute_reply.started": "2021-08-19T14:09:55.176195Z"
    },
    "papermill": {
     "duration": 0.060004,
     "end_time": "2021-08-19T16:09:31.203792",
     "exception": false,
     "start_time": "2021-08-19T16:09:31.143788",
     "status": "completed"
    },
    "tags": []
   },
   "outputs": [
    {
     "data": {
      "text/html": [
       "<div>\n",
       "<style scoped>\n",
       "    .dataframe tbody tr th:only-of-type {\n",
       "        vertical-align: middle;\n",
       "    }\n",
       "\n",
       "    .dataframe tbody tr th {\n",
       "        vertical-align: top;\n",
       "    }\n",
       "\n",
       "    .dataframe thead th {\n",
       "        text-align: right;\n",
       "    }\n",
       "</style>\n",
       "<table border=\"1\" class=\"dataframe\">\n",
       "  <thead>\n",
       "    <tr style=\"text-align: right;\">\n",
       "      <th></th>\n",
       "      <th>type</th>\n",
       "      <th>fixed acidity</th>\n",
       "      <th>volatile acidity</th>\n",
       "      <th>citric acid</th>\n",
       "      <th>residual sugar</th>\n",
       "      <th>chlorides</th>\n",
       "      <th>free sulfur dioxide</th>\n",
       "      <th>total sulfur dioxide</th>\n",
       "      <th>density</th>\n",
       "      <th>pH</th>\n",
       "      <th>sulphates</th>\n",
       "      <th>alcohol</th>\n",
       "      <th>quality</th>\n",
       "    </tr>\n",
       "  </thead>\n",
       "  <tbody>\n",
       "    <tr>\n",
       "      <th>2057</th>\n",
       "      <td>white</td>\n",
       "      <td>6.7</td>\n",
       "      <td>0.310</td>\n",
       "      <td>0.31</td>\n",
       "      <td>4.9</td>\n",
       "      <td>0.031</td>\n",
       "      <td>20.0</td>\n",
       "      <td>151.0</td>\n",
       "      <td>0.99260</td>\n",
       "      <td>3.36</td>\n",
       "      <td>0.82</td>\n",
       "      <td>12.0</td>\n",
       "      <td>7</td>\n",
       "    </tr>\n",
       "    <tr>\n",
       "      <th>2710</th>\n",
       "      <td>white</td>\n",
       "      <td>7.8</td>\n",
       "      <td>0.250</td>\n",
       "      <td>0.34</td>\n",
       "      <td>13.7</td>\n",
       "      <td>0.044</td>\n",
       "      <td>66.0</td>\n",
       "      <td>184.0</td>\n",
       "      <td>0.99976</td>\n",
       "      <td>3.22</td>\n",
       "      <td>0.75</td>\n",
       "      <td>8.9</td>\n",
       "      <td>5</td>\n",
       "    </tr>\n",
       "    <tr>\n",
       "      <th>5435</th>\n",
       "      <td>red</td>\n",
       "      <td>8.1</td>\n",
       "      <td>0.825</td>\n",
       "      <td>0.24</td>\n",
       "      <td>2.1</td>\n",
       "      <td>0.084</td>\n",
       "      <td>5.0</td>\n",
       "      <td>13.0</td>\n",
       "      <td>0.99720</td>\n",
       "      <td>3.37</td>\n",
       "      <td>0.77</td>\n",
       "      <td>10.7</td>\n",
       "      <td>6</td>\n",
       "    </tr>\n",
       "    <tr>\n",
       "      <th>5695</th>\n",
       "      <td>red</td>\n",
       "      <td>9.3</td>\n",
       "      <td>0.370</td>\n",
       "      <td>0.44</td>\n",
       "      <td>1.6</td>\n",
       "      <td>0.038</td>\n",
       "      <td>21.0</td>\n",
       "      <td>42.0</td>\n",
       "      <td>0.99526</td>\n",
       "      <td>3.24</td>\n",
       "      <td>0.81</td>\n",
       "      <td>10.8</td>\n",
       "      <td>7</td>\n",
       "    </tr>\n",
       "    <tr>\n",
       "      <th>5118</th>\n",
       "      <td>red</td>\n",
       "      <td>7.8</td>\n",
       "      <td>0.340</td>\n",
       "      <td>0.37</td>\n",
       "      <td>2.0</td>\n",
       "      <td>0.082</td>\n",
       "      <td>24.0</td>\n",
       "      <td>58.0</td>\n",
       "      <td>0.99640</td>\n",
       "      <td>3.34</td>\n",
       "      <td>0.59</td>\n",
       "      <td>9.4</td>\n",
       "      <td>6</td>\n",
       "    </tr>\n",
       "  </tbody>\n",
       "</table>\n",
       "</div>"
      ],
      "text/plain": [
       "       type  fixed acidity  volatile acidity  citric acid  residual sugar  \\\n",
       "2057  white            6.7             0.310         0.31             4.9   \n",
       "2710  white            7.8             0.250         0.34            13.7   \n",
       "5435    red            8.1             0.825         0.24             2.1   \n",
       "5695    red            9.3             0.370         0.44             1.6   \n",
       "5118    red            7.8             0.340         0.37             2.0   \n",
       "\n",
       "      chlorides  free sulfur dioxide  total sulfur dioxide  density    pH  \\\n",
       "2057      0.031                 20.0                 151.0  0.99260  3.36   \n",
       "2710      0.044                 66.0                 184.0  0.99976  3.22   \n",
       "5435      0.084                  5.0                  13.0  0.99720  3.37   \n",
       "5695      0.038                 21.0                  42.0  0.99526  3.24   \n",
       "5118      0.082                 24.0                  58.0  0.99640  3.34   \n",
       "\n",
       "      sulphates  alcohol  quality  \n",
       "2057       0.82     12.0        7  \n",
       "2710       0.75      8.9        5  \n",
       "5435       0.77     10.7        6  \n",
       "5695       0.81     10.8        7  \n",
       "5118       0.59      9.4        6  "
      ]
     },
     "execution_count": 4,
     "metadata": {},
     "output_type": "execute_result"
    }
   ],
   "source": [
    "df.sample(5)"
   ]
  },
  {
   "cell_type": "code",
   "execution_count": 5,
   "id": "6ab946fc",
   "metadata": {
    "execution": {
     "iopub.execute_input": "2021-08-19T16:09:31.279936Z",
     "iopub.status.busy": "2021-08-19T16:09:31.279374Z",
     "iopub.status.idle": "2021-08-19T16:09:31.286675Z",
     "shell.execute_reply": "2021-08-19T16:09:31.287187Z",
     "shell.execute_reply.started": "2021-08-19T14:09:55.200089Z"
    },
    "papermill": {
     "duration": 0.046957,
     "end_time": "2021-08-19T16:09:31.287344",
     "exception": false,
     "start_time": "2021-08-19T16:09:31.240387",
     "status": "completed"
    },
    "tags": []
   },
   "outputs": [
    {
     "data": {
      "text/plain": [
       "type                     0\n",
       "fixed acidity           10\n",
       "volatile acidity         8\n",
       "citric acid              3\n",
       "residual sugar           2\n",
       "chlorides                2\n",
       "free sulfur dioxide      0\n",
       "total sulfur dioxide     0\n",
       "density                  0\n",
       "pH                       9\n",
       "sulphates                4\n",
       "alcohol                  0\n",
       "quality                  0\n",
       "dtype: int64"
      ]
     },
     "execution_count": 5,
     "metadata": {},
     "output_type": "execute_result"
    }
   ],
   "source": [
    "df.isnull().sum()"
   ]
  },
  {
   "cell_type": "markdown",
   "id": "5a13eacc",
   "metadata": {
    "papermill": {
     "duration": 0.036857,
     "end_time": "2021-08-19T16:09:31.360819",
     "exception": false,
     "start_time": "2021-08-19T16:09:31.323962",
     "status": "completed"
    },
    "tags": []
   },
   "source": [
    "**We must fill the null values**"
   ]
  },
  {
   "cell_type": "code",
   "execution_count": 6,
   "id": "1fa202de",
   "metadata": {
    "execution": {
     "iopub.execute_input": "2021-08-19T16:09:31.448600Z",
     "iopub.status.busy": "2021-08-19T16:09:31.447959Z",
     "iopub.status.idle": "2021-08-19T16:09:31.507037Z",
     "shell.execute_reply": "2021-08-19T16:09:31.506548Z",
     "shell.execute_reply.started": "2021-08-19T14:09:55.218154Z"
    },
    "papermill": {
     "duration": 0.105782,
     "end_time": "2021-08-19T16:09:31.507195",
     "exception": false,
     "start_time": "2021-08-19T16:09:31.401413",
     "status": "completed"
    },
    "tags": []
   },
   "outputs": [
    {
     "data": {
      "text/html": [
       "<div>\n",
       "<style scoped>\n",
       "    .dataframe tbody tr th:only-of-type {\n",
       "        vertical-align: middle;\n",
       "    }\n",
       "\n",
       "    .dataframe tbody tr th {\n",
       "        vertical-align: top;\n",
       "    }\n",
       "\n",
       "    .dataframe thead th {\n",
       "        text-align: right;\n",
       "    }\n",
       "</style>\n",
       "<table border=\"1\" class=\"dataframe\">\n",
       "  <thead>\n",
       "    <tr style=\"text-align: right;\">\n",
       "      <th></th>\n",
       "      <th>fixed acidity</th>\n",
       "      <th>volatile acidity</th>\n",
       "      <th>citric acid</th>\n",
       "      <th>residual sugar</th>\n",
       "      <th>chlorides</th>\n",
       "      <th>free sulfur dioxide</th>\n",
       "      <th>total sulfur dioxide</th>\n",
       "      <th>density</th>\n",
       "      <th>pH</th>\n",
       "      <th>sulphates</th>\n",
       "      <th>alcohol</th>\n",
       "      <th>quality</th>\n",
       "    </tr>\n",
       "  </thead>\n",
       "  <tbody>\n",
       "    <tr>\n",
       "      <th>count</th>\n",
       "      <td>6487.000000</td>\n",
       "      <td>6489.000000</td>\n",
       "      <td>6494.000000</td>\n",
       "      <td>6495.000000</td>\n",
       "      <td>6495.000000</td>\n",
       "      <td>6497.000000</td>\n",
       "      <td>6497.000000</td>\n",
       "      <td>6497.000000</td>\n",
       "      <td>6488.000000</td>\n",
       "      <td>6493.000000</td>\n",
       "      <td>6497.000000</td>\n",
       "      <td>6497.000000</td>\n",
       "    </tr>\n",
       "    <tr>\n",
       "      <th>mean</th>\n",
       "      <td>7.216579</td>\n",
       "      <td>0.339691</td>\n",
       "      <td>0.318722</td>\n",
       "      <td>5.444326</td>\n",
       "      <td>0.056042</td>\n",
       "      <td>30.525319</td>\n",
       "      <td>115.744574</td>\n",
       "      <td>0.994697</td>\n",
       "      <td>3.218395</td>\n",
       "      <td>0.531215</td>\n",
       "      <td>10.491801</td>\n",
       "      <td>5.818378</td>\n",
       "    </tr>\n",
       "    <tr>\n",
       "      <th>std</th>\n",
       "      <td>1.296750</td>\n",
       "      <td>0.164649</td>\n",
       "      <td>0.145265</td>\n",
       "      <td>4.758125</td>\n",
       "      <td>0.035036</td>\n",
       "      <td>17.749400</td>\n",
       "      <td>56.521855</td>\n",
       "      <td>0.002999</td>\n",
       "      <td>0.160748</td>\n",
       "      <td>0.148814</td>\n",
       "      <td>1.192712</td>\n",
       "      <td>0.873255</td>\n",
       "    </tr>\n",
       "    <tr>\n",
       "      <th>min</th>\n",
       "      <td>3.800000</td>\n",
       "      <td>0.080000</td>\n",
       "      <td>0.000000</td>\n",
       "      <td>0.600000</td>\n",
       "      <td>0.009000</td>\n",
       "      <td>1.000000</td>\n",
       "      <td>6.000000</td>\n",
       "      <td>0.987110</td>\n",
       "      <td>2.720000</td>\n",
       "      <td>0.220000</td>\n",
       "      <td>8.000000</td>\n",
       "      <td>3.000000</td>\n",
       "    </tr>\n",
       "    <tr>\n",
       "      <th>25%</th>\n",
       "      <td>6.400000</td>\n",
       "      <td>0.230000</td>\n",
       "      <td>0.250000</td>\n",
       "      <td>1.800000</td>\n",
       "      <td>0.038000</td>\n",
       "      <td>17.000000</td>\n",
       "      <td>77.000000</td>\n",
       "      <td>0.992340</td>\n",
       "      <td>3.110000</td>\n",
       "      <td>0.430000</td>\n",
       "      <td>9.500000</td>\n",
       "      <td>5.000000</td>\n",
       "    </tr>\n",
       "    <tr>\n",
       "      <th>50%</th>\n",
       "      <td>7.000000</td>\n",
       "      <td>0.290000</td>\n",
       "      <td>0.310000</td>\n",
       "      <td>3.000000</td>\n",
       "      <td>0.047000</td>\n",
       "      <td>29.000000</td>\n",
       "      <td>118.000000</td>\n",
       "      <td>0.994890</td>\n",
       "      <td>3.210000</td>\n",
       "      <td>0.510000</td>\n",
       "      <td>10.300000</td>\n",
       "      <td>6.000000</td>\n",
       "    </tr>\n",
       "    <tr>\n",
       "      <th>75%</th>\n",
       "      <td>7.700000</td>\n",
       "      <td>0.400000</td>\n",
       "      <td>0.390000</td>\n",
       "      <td>8.100000</td>\n",
       "      <td>0.065000</td>\n",
       "      <td>41.000000</td>\n",
       "      <td>156.000000</td>\n",
       "      <td>0.996990</td>\n",
       "      <td>3.320000</td>\n",
       "      <td>0.600000</td>\n",
       "      <td>11.300000</td>\n",
       "      <td>6.000000</td>\n",
       "    </tr>\n",
       "    <tr>\n",
       "      <th>max</th>\n",
       "      <td>15.900000</td>\n",
       "      <td>1.580000</td>\n",
       "      <td>1.660000</td>\n",
       "      <td>65.800000</td>\n",
       "      <td>0.611000</td>\n",
       "      <td>289.000000</td>\n",
       "      <td>440.000000</td>\n",
       "      <td>1.038980</td>\n",
       "      <td>4.010000</td>\n",
       "      <td>2.000000</td>\n",
       "      <td>14.900000</td>\n",
       "      <td>9.000000</td>\n",
       "    </tr>\n",
       "  </tbody>\n",
       "</table>\n",
       "</div>"
      ],
      "text/plain": [
       "       fixed acidity  volatile acidity  citric acid  residual sugar  \\\n",
       "count    6487.000000       6489.000000  6494.000000     6495.000000   \n",
       "mean        7.216579          0.339691     0.318722        5.444326   \n",
       "std         1.296750          0.164649     0.145265        4.758125   \n",
       "min         3.800000          0.080000     0.000000        0.600000   \n",
       "25%         6.400000          0.230000     0.250000        1.800000   \n",
       "50%         7.000000          0.290000     0.310000        3.000000   \n",
       "75%         7.700000          0.400000     0.390000        8.100000   \n",
       "max        15.900000          1.580000     1.660000       65.800000   \n",
       "\n",
       "         chlorides  free sulfur dioxide  total sulfur dioxide      density  \\\n",
       "count  6495.000000          6497.000000           6497.000000  6497.000000   \n",
       "mean      0.056042            30.525319            115.744574     0.994697   \n",
       "std       0.035036            17.749400             56.521855     0.002999   \n",
       "min       0.009000             1.000000              6.000000     0.987110   \n",
       "25%       0.038000            17.000000             77.000000     0.992340   \n",
       "50%       0.047000            29.000000            118.000000     0.994890   \n",
       "75%       0.065000            41.000000            156.000000     0.996990   \n",
       "max       0.611000           289.000000            440.000000     1.038980   \n",
       "\n",
       "                pH    sulphates      alcohol      quality  \n",
       "count  6488.000000  6493.000000  6497.000000  6497.000000  \n",
       "mean      3.218395     0.531215    10.491801     5.818378  \n",
       "std       0.160748     0.148814     1.192712     0.873255  \n",
       "min       2.720000     0.220000     8.000000     3.000000  \n",
       "25%       3.110000     0.430000     9.500000     5.000000  \n",
       "50%       3.210000     0.510000    10.300000     6.000000  \n",
       "75%       3.320000     0.600000    11.300000     6.000000  \n",
       "max       4.010000     2.000000    14.900000     9.000000  "
      ]
     },
     "execution_count": 6,
     "metadata": {},
     "output_type": "execute_result"
    }
   ],
   "source": [
    "df.describe()"
   ]
  },
  {
   "cell_type": "code",
   "execution_count": 7,
   "id": "23ebe6c7",
   "metadata": {
    "execution": {
     "iopub.execute_input": "2021-08-19T16:09:31.585947Z",
     "iopub.status.busy": "2021-08-19T16:09:31.585400Z",
     "iopub.status.idle": "2021-08-19T16:09:31.596197Z",
     "shell.execute_reply": "2021-08-19T16:09:31.595690Z",
     "shell.execute_reply.started": "2021-08-19T14:09:55.271645Z"
    },
    "papermill": {
     "duration": 0.051819,
     "end_time": "2021-08-19T16:09:31.596326",
     "exception": false,
     "start_time": "2021-08-19T16:09:31.544507",
     "status": "completed"
    },
    "tags": []
   },
   "outputs": [
    {
     "data": {
      "text/plain": [
       "quality                 1.000000\n",
       "alcohol                 0.444319\n",
       "density                 0.305858\n",
       "volatile acidity        0.265953\n",
       "chlorides               0.200886\n",
       "citric acid             0.085706\n",
       "fixed acidity           0.077031\n",
       "free sulfur dioxide     0.055463\n",
       "total sulfur dioxide    0.041385\n",
       "sulphates               0.038729\n",
       "residual sugar          0.036825\n",
       "pH                      0.019366\n",
       "Name: quality, dtype: float64"
      ]
     },
     "execution_count": 7,
     "metadata": {},
     "output_type": "execute_result"
    }
   ],
   "source": [
    "abs(df.corr()[\"quality\"]).sort_values(ascending = False)"
   ]
  },
  {
   "cell_type": "code",
   "execution_count": 8,
   "id": "5752af5c",
   "metadata": {
    "execution": {
     "iopub.execute_input": "2021-08-19T16:09:31.678759Z",
     "iopub.status.busy": "2021-08-19T16:09:31.678133Z",
     "iopub.status.idle": "2021-08-19T16:09:31.680921Z",
     "shell.execute_reply": "2021-08-19T16:09:31.681403Z",
     "shell.execute_reply.started": "2021-08-19T14:09:55.287985Z"
    },
    "papermill": {
     "duration": 0.048019,
     "end_time": "2021-08-19T16:09:31.681578",
     "exception": false,
     "start_time": "2021-08-19T16:09:31.633559",
     "status": "completed"
    },
    "tags": []
   },
   "outputs": [
    {
     "data": {
      "text/plain": [
       "6    2836\n",
       "5    2138\n",
       "7    1079\n",
       "4     216\n",
       "8     193\n",
       "3      30\n",
       "9       5\n",
       "Name: quality, dtype: int64"
      ]
     },
     "execution_count": 8,
     "metadata": {},
     "output_type": "execute_result"
    }
   ],
   "source": [
    "df.quality.value_counts()"
   ]
  },
  {
   "cell_type": "markdown",
   "id": "840a2272",
   "metadata": {
    "papermill": {
     "duration": 0.037519,
     "end_time": "2021-08-19T16:09:31.756795",
     "exception": false,
     "start_time": "2021-08-19T16:09:31.719276",
     "status": "completed"
    },
    "tags": []
   },
   "source": [
    "## 4. Data Visualization"
   ]
  },
  {
   "cell_type": "code",
   "execution_count": 9,
   "id": "72485fc3",
   "metadata": {
    "execution": {
     "iopub.execute_input": "2021-08-19T16:09:31.835107Z",
     "iopub.status.busy": "2021-08-19T16:09:31.834540Z",
     "iopub.status.idle": "2021-08-19T16:09:32.087666Z",
     "shell.execute_reply": "2021-08-19T16:09:32.086990Z",
     "shell.execute_reply.started": "2021-08-19T14:09:55.299845Z"
    },
    "papermill": {
     "duration": 0.293294,
     "end_time": "2021-08-19T16:09:32.087817",
     "exception": false,
     "start_time": "2021-08-19T16:09:31.794523",
     "status": "completed"
    },
    "tags": []
   },
   "outputs": [
    {
     "data": {
      "text/plain": [
       "<AxesSubplot:xlabel='type', ylabel='quality'>"
      ]
     },
     "execution_count": 9,
     "metadata": {},
     "output_type": "execute_result"
    },
    {
     "data": {
      "image/png": "[encoded data removed]",
      "text/plain": [
       "<Figure size 432x288 with 1 Axes>"
      ]
     },
     "metadata": {
      "needs_background": "light"
     },
     "output_type": "display_data"
    }
   ],
   "source": [
    "sns.barplot(x = \"type\", y = \"quality\", data = df)"
   ]
  },
  {
   "cell_type": "markdown",
   "id": "5ca5a3e9",
   "metadata": {
    "papermill": {
     "duration": 0.037946,
     "end_time": "2021-08-19T16:09:32.163951",
     "exception": false,
     "start_time": "2021-08-19T16:09:32.126005",
     "status": "completed"
    },
    "tags": []
   },
   "source": [
    "**The means of white and red wine are quite similar**"
   ]
  },
  {
   "cell_type": "markdown",
   "id": "41cd5e97",
   "metadata": {
    "papermill": {
     "duration": 0.038636,
     "end_time": "2021-08-19T16:09:32.240787",
     "exception": false,
     "start_time": "2021-08-19T16:09:32.202151",
     "status": "completed"
    },
    "tags": []
   },
   "source": [
    "### We are looking the histogram of every feature"
   ]
  },
  {
   "cell_type": "code",
   "execution_count": 10,
   "id": "2e466ca6",
   "metadata": {
    "execution": {
     "iopub.execute_input": "2021-08-19T16:09:32.339015Z",
     "iopub.status.busy": "2021-08-19T16:09:32.338071Z",
     "iopub.status.idle": "2021-08-19T16:09:32.859807Z",
     "shell.execute_reply": "2021-08-19T16:09:32.859182Z",
     "shell.execute_reply.started": "2021-08-19T14:09:55.567535Z"
    },
    "papermill": {
     "duration": 0.580472,
     "end_time": "2021-08-19T16:09:32.859948",
     "exception": false,
     "start_time": "2021-08-19T16:09:32.279476",
     "status": "completed"
    },
    "tags": []
   },
   "outputs": [
    {
     "data": {
      "text/plain": [
       "<AxesSubplot:xlabel='fixed acidity', ylabel='Density'>"
      ]
     },
     "execution_count": 10,
     "metadata": {},
     "output_type": "execute_result"
    },
    {
     "data": {
      "image/png": "[encoded data removed]",
      "text/plain": [
       "<Figure size 432x288 with 1 Axes>"
      ]
     },
     "metadata": {
      "needs_background": "light"
     },
     "output_type": "display_data"
    }
   ],
   "source": [
    "sns.distplot(df[\"fixed acidity\"])"
   ]
  },
  {
   "cell_type": "code",
   "execution_count": 11,
   "id": "2c93d52c",
   "metadata": {
    "execution": {
     "iopub.execute_input": "2021-08-19T16:09:32.960066Z",
     "iopub.status.busy": "2021-08-19T16:09:32.959091Z",
     "iopub.status.idle": "2021-08-19T16:09:33.227297Z",
     "shell.execute_reply": "2021-08-19T16:09:33.227702Z",
     "shell.execute_reply.started": "2021-08-19T14:09:56.112491Z"
    },
    "papermill": {
     "duration": 0.328729,
     "end_time": "2021-08-19T16:09:33.227883",
     "exception": false,
     "start_time": "2021-08-19T16:09:32.899154",
     "status": "completed"
    },
    "tags": []
   },
   "outputs": [
    {
     "data": {
      "text/plain": [
       "<AxesSubplot:xlabel='volatile acidity', ylabel='Density'>"
      ]
     },
     "execution_count": 11,
     "metadata": {},
     "output_type": "execute_result"
    },
    {
     "data": {
      "image/png": "[encoded data removed]",
      "text/plain": [
       "<Figure size 432x288 with 1 Axes>"
      ]
     },
     "metadata": {
      "needs_background": "light"
     },
     "output_type": "display_data"
    }
   ],
   "source": [
    "sns.distplot(df[\"volatile acidity\"])"
   ]
  },
  {
   "cell_type": "code",
   "execution_count": null,
   "id": "15678a37",
   "metadata": {
    "papermill": {
     "duration": 0.039788,
     "end_time": "2021-08-19T16:09:33.308309",
     "exception": false,
     "start_time": "2021-08-19T16:09:33.268521",
     "status": "completed"
    },
    "tags": []
   },
   "outputs": [],
   "source": []
  },
  {
   "cell_type": "code",
   "execution_count": 12,
   "id": "6a004f2c",
   "metadata": {
    "execution": {
     "iopub.execute_input": "2021-08-19T16:09:33.402407Z",
     "iopub.status.busy": "2021-08-19T16:09:33.401020Z",
     "iopub.status.idle": "2021-08-19T16:09:33.661129Z",
     "shell.execute_reply": "2021-08-19T16:09:33.660651Z",
     "shell.execute_reply.started": "2021-08-19T14:09:56.406837Z"
    },
    "papermill": {
     "duration": 0.312798,
     "end_time": "2021-08-19T16:09:33.661271",
     "exception": false,
     "start_time": "2021-08-19T16:09:33.348473",
     "status": "completed"
    },
    "tags": []
   },
   "outputs": [
    {
     "data": {
      "text/plain": [
       "<AxesSubplot:xlabel='residual sugar', ylabel='Density'>"
      ]
     },
     "execution_count": 12,
     "metadata": {},
     "output_type": "execute_result"
    },
    {
     "data": {
      "image/png": "[encoded data removed]",
      "text/plain": [
       "<Figure size 432x288 with 1 Axes>"
      ]
     },
     "metadata": {
      "needs_background": "light"
     },
     "output_type": "display_data"
    }
   ],
   "source": [
    "sns.distplot(df[\"residual sugar\"])"
   ]
  },
  {
   "cell_type": "code",
   "execution_count": 13,
   "id": "c6066b89",
   "metadata": {
    "execution": {
     "iopub.execute_input": "2021-08-19T16:09:33.767285Z",
     "iopub.status.busy": "2021-08-19T16:09:33.766639Z",
     "iopub.status.idle": "2021-08-19T16:09:34.009613Z",
     "shell.execute_reply": "2021-08-19T16:09:34.010230Z",
     "shell.execute_reply.started": "2021-08-19T14:09:56.681646Z"
    },
    "papermill": {
     "duration": 0.307826,
     "end_time": "2021-08-19T16:09:34.010403",
     "exception": false,
     "start_time": "2021-08-19T16:09:33.702577",
     "status": "completed"
    },
    "tags": []
   },
   "outputs": [
    {
     "data": {
      "text/plain": [
       "<AxesSubplot:xlabel='chlorides', ylabel='Density'>"
      ]
     },
     "execution_count": 13,
     "metadata": {},
     "output_type": "execute_result"
    },
    {
     "data": {
      "image/png": "[encoded data removed]",
      "text/plain": [
       "<Figure size 432x288 with 1 Axes>"
      ]
     },
     "metadata": {
      "needs_background": "light"
     },
     "output_type": "display_data"
    }
   ],
   "source": [
    "sns.distplot(df[\"chlorides\"])"
   ]
  },
  {
   "cell_type": "code",
   "execution_count": 14,
   "id": "40be5ffd",
   "metadata": {
    "execution": {
     "iopub.execute_input": "2021-08-19T16:09:34.096961Z",
     "iopub.status.busy": "2021-08-19T16:09:34.096407Z",
     "iopub.status.idle": "2021-08-19T16:09:34.358596Z",
     "shell.execute_reply": "2021-08-19T16:09:34.359082Z",
     "shell.execute_reply.started": "2021-08-19T14:09:56.951830Z"
    },
    "papermill": {
     "duration": 0.306902,
     "end_time": "2021-08-19T16:09:34.359297",
     "exception": false,
     "start_time": "2021-08-19T16:09:34.052395",
     "status": "completed"
    },
    "tags": []
   },
   "outputs": [
    {
     "data": {
      "text/plain": [
       "<AxesSubplot:xlabel='free sulfur dioxide', ylabel='Density'>"
      ]
     },
     "execution_count": 14,
     "metadata": {},
     "output_type": "execute_result"
    },
    {
     "data": {
      "image/png": "[encoded data removed]",
      "text/plain": [
       "<Figure size 432x288 with 1 Axes>"
      ]
     },
     "metadata": {
      "needs_background": "light"
     },
     "output_type": "display_data"
    }
   ],
   "source": [
    "sns.distplot(df[\"free sulfur dioxide\"])"
   ]
  },
  {
   "cell_type": "code",
   "execution_count": 15,
   "id": "f79acf38",
   "metadata": {
    "execution": {
     "iopub.execute_input": "2021-08-19T16:09:34.450389Z",
     "iopub.status.busy": "2021-08-19T16:09:34.449513Z",
     "iopub.status.idle": "2021-08-19T16:09:34.727077Z",
     "shell.execute_reply": "2021-08-19T16:09:34.726462Z",
     "shell.execute_reply.started": "2021-08-19T14:09:57.224746Z"
    },
    "papermill": {
     "duration": 0.324201,
     "end_time": "2021-08-19T16:09:34.727235",
     "exception": false,
     "start_time": "2021-08-19T16:09:34.403034",
     "status": "completed"
    },
    "tags": []
   },
   "outputs": [
    {
     "data": {
      "text/plain": [
       "<AxesSubplot:xlabel='total sulfur dioxide', ylabel='Density'>"
      ]
     },
     "execution_count": 15,
     "metadata": {},
     "output_type": "execute_result"
    },
    {
     "data": {
      "image/png": "[encoded data removed]",
      "text/plain": [
       "<Figure size 432x288 with 1 Axes>"
      ]
     },
     "metadata": {
      "needs_background": "light"
     },
     "output_type": "display_data"
    }
   ],
   "source": [
    "sns.distplot(df[\"total sulfur dioxide\"])"
   ]
  },
  {
   "cell_type": "code",
   "execution_count": 16,
   "id": "9d554ae5",
   "metadata": {
    "execution": {
     "iopub.execute_input": "2021-08-19T16:09:34.843725Z",
     "iopub.status.busy": "2021-08-19T16:09:34.843111Z",
     "iopub.status.idle": "2021-08-19T16:09:35.094639Z",
     "shell.execute_reply": "2021-08-19T16:09:35.094043Z",
     "shell.execute_reply.started": "2021-08-19T14:09:57.509280Z"
    },
    "papermill": {
     "duration": 0.321292,
     "end_time": "2021-08-19T16:09:35.094792",
     "exception": false,
     "start_time": "2021-08-19T16:09:34.773500",
     "status": "completed"
    },
    "tags": []
   },
   "outputs": [
    {
     "data": {
      "text/plain": [
       "<AxesSubplot:xlabel='density', ylabel='Density'>"
      ]
     },
     "execution_count": 16,
     "metadata": {},
     "output_type": "execute_result"
    },
    {
     "data": {
      "image/png": "[encoded data removed]",
      "text/plain": [
       "<Figure size 432x288 with 1 Axes>"
      ]
     },
     "metadata": {
      "needs_background": "light"
     },
     "output_type": "display_data"
    }
   ],
   "source": [
    "sns.distplot(df[\"density\"])"
   ]
  },
  {
   "cell_type": "code",
   "execution_count": 17,
   "id": "8c02911e",
   "metadata": {
    "execution": {
     "iopub.execute_input": "2021-08-19T16:09:35.210202Z",
     "iopub.status.busy": "2021-08-19T16:09:35.209527Z",
     "iopub.status.idle": "2021-08-19T16:09:35.464864Z",
     "shell.execute_reply": "2021-08-19T16:09:35.465407Z",
     "shell.execute_reply.started": "2021-08-19T14:09:57.784167Z"
    },
    "papermill": {
     "duration": 0.325557,
     "end_time": "2021-08-19T16:09:35.465568",
     "exception": false,
     "start_time": "2021-08-19T16:09:35.140011",
     "status": "completed"
    },
    "tags": []
   },
   "outputs": [
    {
     "data": {
      "text/plain": [
       "<AxesSubplot:xlabel='pH', ylabel='Density'>"
      ]
     },
     "execution_count": 17,
     "metadata": {},
     "output_type": "execute_result"
    },
    {
     "data": {
      "image/png": "[encoded data removed]",
      "text/plain": [
       "<Figure size 432x288 with 1 Axes>"
      ]
     },
     "metadata": {
      "needs_background": "light"
     },
     "output_type": "display_data"
    }
   ],
   "source": [
    "sns.distplot(df[\"pH\"])"
   ]
  },
  {
   "cell_type": "code",
   "execution_count": 18,
   "id": "f9837784",
   "metadata": {
    "execution": {
     "iopub.execute_input": "2021-08-19T16:09:35.560766Z",
     "iopub.status.busy": "2021-08-19T16:09:35.560078Z",
     "iopub.status.idle": "2021-08-19T16:09:35.844147Z",
     "shell.execute_reply": "2021-08-19T16:09:35.844634Z",
     "shell.execute_reply.started": "2021-08-19T14:09:58.072140Z"
    },
    "papermill": {
     "duration": 0.333465,
     "end_time": "2021-08-19T16:09:35.844820",
     "exception": false,
     "start_time": "2021-08-19T16:09:35.511355",
     "status": "completed"
    },
    "tags": []
   },
   "outputs": [
    {
     "data": {
      "text/plain": [
       "<AxesSubplot:xlabel='sulphates', ylabel='Density'>"
      ]
     },
     "execution_count": 18,
     "metadata": {},
     "output_type": "execute_result"
    },
    {
     "data": {
      "image/png": "[encoded data removed]",
      "text/plain": [
       "<Figure size 432x288 with 1 Axes>"
      ]
     },
     "metadata": {
      "needs_background": "light"
     },
     "output_type": "display_data"
    }
   ],
   "source": [
    "sns.distplot(df[\"sulphates\"])"
   ]
  },
  {
   "cell_type": "code",
   "execution_count": 19,
   "id": "594eee8e",
   "metadata": {
    "execution": {
     "iopub.execute_input": "2021-08-19T16:09:35.943276Z",
     "iopub.status.busy": "2021-08-19T16:09:35.942616Z",
     "iopub.status.idle": "2021-08-19T16:09:36.197147Z",
     "shell.execute_reply": "2021-08-19T16:09:36.196638Z",
     "shell.execute_reply.started": "2021-08-19T14:09:58.362134Z"
    },
    "papermill": {
     "duration": 0.305513,
     "end_time": "2021-08-19T16:09:36.197284",
     "exception": false,
     "start_time": "2021-08-19T16:09:35.891771",
     "status": "completed"
    },
    "tags": []
   },
   "outputs": [
    {
     "data": {
      "text/plain": [
       "<AxesSubplot:xlabel='alcohol', ylabel='Density'>"
      ]
     },
     "execution_count": 19,
     "metadata": {},
     "output_type": "execute_result"
    },
    {
     "data": {
      "image/png": "[encoded data removed]",
      "text/plain": [
       "<Figure size 432x288 with 1 Axes>"
      ]
     },
     "metadata": {
      "needs_background": "light"
     },
     "output_type": "display_data"
    }
   ],
   "source": [
    "sns.distplot(df[\"alcohol\"])"
   ]
  },
  {
   "cell_type": "code",
   "execution_count": 20,
   "id": "d5117035",
   "metadata": {
    "execution": {
     "iopub.execute_input": "2021-08-19T16:09:36.298609Z",
     "iopub.status.busy": "2021-08-19T16:09:36.297975Z",
     "iopub.status.idle": "2021-08-19T16:09:36.304865Z",
     "shell.execute_reply": "2021-08-19T16:09:36.304291Z",
     "shell.execute_reply.started": "2021-08-19T14:09:58.612643Z"
    },
    "papermill": {
     "duration": 0.05974,
     "end_time": "2021-08-19T16:09:36.304994",
     "exception": false,
     "start_time": "2021-08-19T16:09:36.245254",
     "status": "completed"
    },
    "tags": []
   },
   "outputs": [
    {
     "data": {
      "text/plain": [
       "type                     0\n",
       "fixed acidity           10\n",
       "volatile acidity         8\n",
       "citric acid              3\n",
       "residual sugar           2\n",
       "chlorides                2\n",
       "free sulfur dioxide      0\n",
       "total sulfur dioxide     0\n",
       "density                  0\n",
       "pH                       9\n",
       "sulphates                4\n",
       "alcohol                  0\n",
       "quality                  0\n",
       "dtype: int64"
      ]
     },
     "execution_count": 20,
     "metadata": {},
     "output_type": "execute_result"
    }
   ],
   "source": [
    "df.isnull().sum()"
   ]
  },
  {
   "cell_type": "markdown",
   "id": "7ef81025",
   "metadata": {
    "papermill": {
     "duration": 0.047515,
     "end_time": "2021-08-19T16:09:36.400472",
     "exception": false,
     "start_time": "2021-08-19T16:09:36.352957",
     "status": "completed"
    },
    "tags": []
   },
   "source": [
    "## 5. Feature Engineering"
   ]
  },
  {
   "cell_type": "markdown",
   "id": "018798b4",
   "metadata": {
    "papermill": {
     "duration": 0.047742,
     "end_time": "2021-08-19T16:09:36.496426",
     "exception": false,
     "start_time": "2021-08-19T16:09:36.448684",
     "status": "completed"
    },
    "tags": []
   },
   "source": [
    "**We first fill the null values then we replace the quality with low, medium and high**"
   ]
  },
  {
   "cell_type": "code",
   "execution_count": 21,
   "id": "839bb83a",
   "metadata": {
    "execution": {
     "iopub.execute_input": "2021-08-19T16:09:36.601283Z",
     "iopub.status.busy": "2021-08-19T16:09:36.600346Z",
     "iopub.status.idle": "2021-08-19T16:09:36.636370Z",
     "shell.execute_reply": "2021-08-19T16:09:36.635824Z",
     "shell.execute_reply.started": "2021-08-19T14:09:58.621284Z"
    },
    "papermill": {
     "duration": 0.092638,
     "end_time": "2021-08-19T16:09:36.636516",
     "exception": false,
     "start_time": "2021-08-19T16:09:36.543878",
     "status": "completed"
    },
    "tags": []
   },
   "outputs": [],
   "source": [
    "df[\"fixed acidity\"] = df.groupby(\"type\")[\"fixed acidity\"].transform(lambda x: x.fillna(x.median()))\n",
    "\n",
    "df[\"volatile acidity\"] = df.groupby(\"type\")[\"volatile acidity\"].transform(lambda x: x.fillna(x.median()))\n",
    "\n",
    "df[\"citric acid\"] = df.groupby(\"type\")[\"citric acid\"].transform(lambda x: x.fillna(x.median()))\n",
    "\n",
    "df[\"residual sugar\"] = df.groupby(\"type\")[\"residual sugar\"].transform(lambda x: x.fillna(x.median()))\n",
    "\n",
    "df[\"chlorides\"] = df.groupby(\"type\")[\"chlorides\"].transform(lambda x: x.fillna(x.median()))\n",
    "\n",
    "df[\"pH\"] = df.groupby(\"type\")[\"pH\"].transform(lambda x: x.fillna(x.median()))\n",
    "\n",
    "df[\"sulphates\"] = df.groupby(\"type\")[\"sulphates\"].transform(lambda x: x.fillna(x.median()))\n",
    "\n",
    "\n",
    "\n",
    "df[\"quality\"] = df[\"quality\"].replace({3:\"low\", 4:\"low\", 5:\"medium\", 6:\"medium\", 7:\"medium\", 8:\"high\", 9:\"high\"})\n",
    "\n",
    "df[\"quality\"] = df[\"quality\"].replace({\"low\": 0, \"medium\": 1, \"high\": 2})"
   ]
  },
  {
   "cell_type": "code",
   "execution_count": 22,
   "id": "2f9688c5",
   "metadata": {
    "execution": {
     "iopub.execute_input": "2021-08-19T16:09:36.761073Z",
     "iopub.status.busy": "2021-08-19T16:09:36.760487Z",
     "iopub.status.idle": "2021-08-19T16:09:36.764678Z",
     "shell.execute_reply": "2021-08-19T16:09:36.764229Z",
     "shell.execute_reply.started": "2021-08-19T14:09:58.662865Z"
    },
    "papermill": {
     "duration": 0.078901,
     "end_time": "2021-08-19T16:09:36.764811",
     "exception": false,
     "start_time": "2021-08-19T16:09:36.685910",
     "status": "completed"
    },
    "tags": []
   },
   "outputs": [
    {
     "data": {
      "text/html": [
       "<div>\n",
       "<style scoped>\n",
       "    .dataframe tbody tr th:only-of-type {\n",
       "        vertical-align: middle;\n",
       "    }\n",
       "\n",
       "    .dataframe tbody tr th {\n",
       "        vertical-align: top;\n",
       "    }\n",
       "\n",
       "    .dataframe thead th {\n",
       "        text-align: right;\n",
       "    }\n",
       "</style>\n",
       "<table border=\"1\" class=\"dataframe\">\n",
       "  <thead>\n",
       "    <tr style=\"text-align: right;\">\n",
       "      <th></th>\n",
       "      <th>type</th>\n",
       "      <th>fixed acidity</th>\n",
       "      <th>volatile acidity</th>\n",
       "      <th>citric acid</th>\n",
       "      <th>residual sugar</th>\n",
       "      <th>chlorides</th>\n",
       "      <th>free sulfur dioxide</th>\n",
       "      <th>total sulfur dioxide</th>\n",
       "      <th>density</th>\n",
       "      <th>pH</th>\n",
       "      <th>sulphates</th>\n",
       "      <th>alcohol</th>\n",
       "      <th>quality</th>\n",
       "    </tr>\n",
       "  </thead>\n",
       "  <tbody>\n",
       "    <tr>\n",
       "      <th>0</th>\n",
       "      <td>white</td>\n",
       "      <td>7.0</td>\n",
       "      <td>0.270</td>\n",
       "      <td>0.36</td>\n",
       "      <td>20.7</td>\n",
       "      <td>0.045</td>\n",
       "      <td>45.0</td>\n",
       "      <td>170.0</td>\n",
       "      <td>1.00100</td>\n",
       "      <td>3.00</td>\n",
       "      <td>0.45</td>\n",
       "      <td>8.8</td>\n",
       "      <td>1</td>\n",
       "    </tr>\n",
       "    <tr>\n",
       "      <th>1</th>\n",
       "      <td>white</td>\n",
       "      <td>6.3</td>\n",
       "      <td>0.300</td>\n",
       "      <td>0.34</td>\n",
       "      <td>1.6</td>\n",
       "      <td>0.049</td>\n",
       "      <td>14.0</td>\n",
       "      <td>132.0</td>\n",
       "      <td>0.99400</td>\n",
       "      <td>3.30</td>\n",
       "      <td>0.49</td>\n",
       "      <td>9.5</td>\n",
       "      <td>1</td>\n",
       "    </tr>\n",
       "    <tr>\n",
       "      <th>2</th>\n",
       "      <td>white</td>\n",
       "      <td>8.1</td>\n",
       "      <td>0.280</td>\n",
       "      <td>0.40</td>\n",
       "      <td>6.9</td>\n",
       "      <td>0.050</td>\n",
       "      <td>30.0</td>\n",
       "      <td>97.0</td>\n",
       "      <td>0.99510</td>\n",
       "      <td>3.26</td>\n",
       "      <td>0.44</td>\n",
       "      <td>10.1</td>\n",
       "      <td>1</td>\n",
       "    </tr>\n",
       "    <tr>\n",
       "      <th>3</th>\n",
       "      <td>white</td>\n",
       "      <td>7.2</td>\n",
       "      <td>0.230</td>\n",
       "      <td>0.32</td>\n",
       "      <td>8.5</td>\n",
       "      <td>0.058</td>\n",
       "      <td>47.0</td>\n",
       "      <td>186.0</td>\n",
       "      <td>0.99560</td>\n",
       "      <td>3.19</td>\n",
       "      <td>0.40</td>\n",
       "      <td>9.9</td>\n",
       "      <td>1</td>\n",
       "    </tr>\n",
       "    <tr>\n",
       "      <th>4</th>\n",
       "      <td>white</td>\n",
       "      <td>7.2</td>\n",
       "      <td>0.230</td>\n",
       "      <td>0.32</td>\n",
       "      <td>8.5</td>\n",
       "      <td>0.058</td>\n",
       "      <td>47.0</td>\n",
       "      <td>186.0</td>\n",
       "      <td>0.99560</td>\n",
       "      <td>3.19</td>\n",
       "      <td>0.40</td>\n",
       "      <td>9.9</td>\n",
       "      <td>1</td>\n",
       "    </tr>\n",
       "    <tr>\n",
       "      <th>...</th>\n",
       "      <td>...</td>\n",
       "      <td>...</td>\n",
       "      <td>...</td>\n",
       "      <td>...</td>\n",
       "      <td>...</td>\n",
       "      <td>...</td>\n",
       "      <td>...</td>\n",
       "      <td>...</td>\n",
       "      <td>...</td>\n",
       "      <td>...</td>\n",
       "      <td>...</td>\n",
       "      <td>...</td>\n",
       "      <td>...</td>\n",
       "    </tr>\n",
       "    <tr>\n",
       "      <th>6492</th>\n",
       "      <td>red</td>\n",
       "      <td>6.2</td>\n",
       "      <td>0.600</td>\n",
       "      <td>0.08</td>\n",
       "      <td>2.0</td>\n",
       "      <td>0.090</td>\n",
       "      <td>32.0</td>\n",
       "      <td>44.0</td>\n",
       "      <td>0.99490</td>\n",
       "      <td>3.45</td>\n",
       "      <td>0.58</td>\n",
       "      <td>10.5</td>\n",
       "      <td>1</td>\n",
       "    </tr>\n",
       "    <tr>\n",
       "      <th>6493</th>\n",
       "      <td>red</td>\n",
       "      <td>5.9</td>\n",
       "      <td>0.550</td>\n",
       "      <td>0.10</td>\n",
       "      <td>2.2</td>\n",
       "      <td>0.062</td>\n",
       "      <td>39.0</td>\n",
       "      <td>51.0</td>\n",
       "      <td>0.99512</td>\n",
       "      <td>3.52</td>\n",
       "      <td>0.62</td>\n",
       "      <td>11.2</td>\n",
       "      <td>1</td>\n",
       "    </tr>\n",
       "    <tr>\n",
       "      <th>6494</th>\n",
       "      <td>red</td>\n",
       "      <td>6.3</td>\n",
       "      <td>0.510</td>\n",
       "      <td>0.13</td>\n",
       "      <td>2.3</td>\n",
       "      <td>0.076</td>\n",
       "      <td>29.0</td>\n",
       "      <td>40.0</td>\n",
       "      <td>0.99574</td>\n",
       "      <td>3.42</td>\n",
       "      <td>0.75</td>\n",
       "      <td>11.0</td>\n",
       "      <td>1</td>\n",
       "    </tr>\n",
       "    <tr>\n",
       "      <th>6495</th>\n",
       "      <td>red</td>\n",
       "      <td>5.9</td>\n",
       "      <td>0.645</td>\n",
       "      <td>0.12</td>\n",
       "      <td>2.0</td>\n",
       "      <td>0.075</td>\n",
       "      <td>32.0</td>\n",
       "      <td>44.0</td>\n",
       "      <td>0.99547</td>\n",
       "      <td>3.57</td>\n",
       "      <td>0.71</td>\n",
       "      <td>10.2</td>\n",
       "      <td>1</td>\n",
       "    </tr>\n",
       "    <tr>\n",
       "      <th>6496</th>\n",
       "      <td>red</td>\n",
       "      <td>6.0</td>\n",
       "      <td>0.310</td>\n",
       "      <td>0.47</td>\n",
       "      <td>3.6</td>\n",
       "      <td>0.067</td>\n",
       "      <td>18.0</td>\n",
       "      <td>42.0</td>\n",
       "      <td>0.99549</td>\n",
       "      <td>3.39</td>\n",
       "      <td>0.66</td>\n",
       "      <td>11.0</td>\n",
       "      <td>1</td>\n",
       "    </tr>\n",
       "  </tbody>\n",
       "</table>\n",
       "<p>6497 rows × 13 columns</p>\n",
       "</div>"
      ],
      "text/plain": [
       "       type  fixed acidity  volatile acidity  citric acid  residual sugar  \\\n",
       "0     white            7.0             0.270         0.36            20.7   \n",
       "1     white            6.3             0.300         0.34             1.6   \n",
       "2     white            8.1             0.280         0.40             6.9   \n",
       "3     white            7.2             0.230         0.32             8.5   \n",
       "4     white            7.2             0.230         0.32             8.5   \n",
       "...     ...            ...               ...          ...             ...   \n",
       "6492    red            6.2             0.600         0.08             2.0   \n",
       "6493    red            5.9             0.550         0.10             2.2   \n",
       "6494    red            6.3             0.510         0.13             2.3   \n",
       "6495    red            5.9             0.645         0.12             2.0   \n",
       "6496    red            6.0             0.310         0.47             3.6   \n",
       "\n",
       "      chlorides  free sulfur dioxide  total sulfur dioxide  density    pH  \\\n",
       "0         0.045                 45.0                 170.0  1.00100  3.00   \n",
       "1         0.049                 14.0                 132.0  0.99400  3.30   \n",
       "2         0.050                 30.0                  97.0  0.99510  3.26   \n",
       "3         0.058                 47.0                 186.0  0.99560  3.19   \n",
       "4         0.058                 47.0                 186.0  0.99560  3.19   \n",
       "...         ...                  ...                   ...      ...   ...   \n",
       "6492      0.090                 32.0                  44.0  0.99490  3.45   \n",
       "6493      0.062                 39.0                  51.0  0.99512  3.52   \n",
       "6494      0.076                 29.0                  40.0  0.99574  3.42   \n",
       "6495      0.075                 32.0                  44.0  0.99547  3.57   \n",
       "6496      0.067                 18.0                  42.0  0.99549  3.39   \n",
       "\n",
       "      sulphates  alcohol  quality  \n",
       "0          0.45      8.8        1  \n",
       "1          0.49      9.5        1  \n",
       "2          0.44     10.1        1  \n",
       "3          0.40      9.9        1  \n",
       "4          0.40      9.9        1  \n",
       "...         ...      ...      ...  \n",
       "6492       0.58     10.5        1  \n",
       "6493       0.62     11.2        1  \n",
       "6494       0.75     11.0        1  \n",
       "6495       0.71     10.2        1  \n",
       "6496       0.66     11.0        1  \n",
       "\n",
       "[6497 rows x 13 columns]"
      ]
     },
     "execution_count": 22,
     "metadata": {},
     "output_type": "execute_result"
    }
   ],
   "source": [
    "df"
   ]
  },
  {
   "cell_type": "markdown",
   "id": "5b9fc502",
   "metadata": {
    "papermill": {
     "duration": 0.050004,
     "end_time": "2021-08-19T16:09:36.863966",
     "exception": false,
     "start_time": "2021-08-19T16:09:36.813962",
     "status": "completed"
    },
    "tags": []
   },
   "source": [
    "**We apply dummy variable to convert string to number**"
   ]
  },
  {
   "cell_type": "code",
   "execution_count": 23,
   "id": "08c6843a",
   "metadata": {
    "execution": {
     "iopub.execute_input": "2021-08-19T16:09:36.969697Z",
     "iopub.status.busy": "2021-08-19T16:09:36.969119Z",
     "iopub.status.idle": "2021-08-19T16:09:36.975412Z",
     "shell.execute_reply": "2021-08-19T16:09:36.974887Z",
     "shell.execute_reply.started": "2021-08-19T14:09:58.694753Z"
    },
    "papermill": {
     "duration": 0.063584,
     "end_time": "2021-08-19T16:09:36.975548",
     "exception": false,
     "start_time": "2021-08-19T16:09:36.911964",
     "status": "completed"
    },
    "tags": []
   },
   "outputs": [],
   "source": [
    "df = pd.get_dummies(df, drop_first = True)"
   ]
  },
  {
   "cell_type": "code",
   "execution_count": 24,
   "id": "bea280e9",
   "metadata": {
    "execution": {
     "iopub.execute_input": "2021-08-19T16:09:37.079169Z",
     "iopub.status.busy": "2021-08-19T16:09:37.078548Z",
     "iopub.status.idle": "2021-08-19T16:09:37.086267Z",
     "shell.execute_reply": "2021-08-19T16:09:37.085624Z",
     "shell.execute_reply.started": "2021-08-19T14:09:58.707531Z"
    },
    "papermill": {
     "duration": 0.060788,
     "end_time": "2021-08-19T16:09:37.086447",
     "exception": false,
     "start_time": "2021-08-19T16:09:37.025659",
     "status": "completed"
    },
    "tags": []
   },
   "outputs": [
    {
     "data": {
      "text/plain": [
       "fixed acidity           0\n",
       "volatile acidity        0\n",
       "citric acid             0\n",
       "residual sugar          0\n",
       "chlorides               0\n",
       "free sulfur dioxide     0\n",
       "total sulfur dioxide    0\n",
       "density                 0\n",
       "pH                      0\n",
       "sulphates               0\n",
       "alcohol                 0\n",
       "quality                 0\n",
       "type_white              0\n",
       "dtype: int64"
      ]
     },
     "execution_count": 24,
     "metadata": {},
     "output_type": "execute_result"
    }
   ],
   "source": [
    "df.isnull().sum()"
   ]
  },
  {
   "cell_type": "markdown",
   "id": "97e91499",
   "metadata": {
    "papermill": {
     "duration": 0.049699,
     "end_time": "2021-08-19T16:09:37.186471",
     "exception": false,
     "start_time": "2021-08-19T16:09:37.136772",
     "status": "completed"
    },
    "tags": []
   },
   "source": [
    "**We determine x and y columns**"
   ]
  },
  {
   "cell_type": "code",
   "execution_count": 25,
   "id": "9294be01",
   "metadata": {
    "execution": {
     "iopub.execute_input": "2021-08-19T16:09:37.290269Z",
     "iopub.status.busy": "2021-08-19T16:09:37.289625Z",
     "iopub.status.idle": "2021-08-19T16:09:37.292686Z",
     "shell.execute_reply": "2021-08-19T16:09:37.292201Z",
     "shell.execute_reply.started": "2021-08-19T14:09:58.720425Z"
    },
    "papermill": {
     "duration": 0.05729,
     "end_time": "2021-08-19T16:09:37.292825",
     "exception": false,
     "start_time": "2021-08-19T16:09:37.235535",
     "status": "completed"
    },
    "tags": []
   },
   "outputs": [],
   "source": [
    "y = df[\"quality\"]\n",
    "x = df.drop(\"quality\", axis = 1)"
   ]
  },
  {
   "cell_type": "markdown",
   "id": "fed0427e",
   "metadata": {
    "papermill": {
     "duration": 0.048733,
     "end_time": "2021-08-19T16:09:37.390819",
     "exception": false,
     "start_time": "2021-08-19T16:09:37.342086",
     "status": "completed"
    },
    "tags": []
   },
   "source": [
    "**We are scaling the data**"
   ]
  },
  {
   "cell_type": "code",
   "execution_count": 26,
   "id": "19df91e2",
   "metadata": {
    "execution": {
     "iopub.execute_input": "2021-08-19T16:09:37.499740Z",
     "iopub.status.busy": "2021-08-19T16:09:37.497834Z",
     "iopub.status.idle": "2021-08-19T16:09:37.503258Z",
     "shell.execute_reply": "2021-08-19T16:09:37.502649Z",
     "shell.execute_reply.started": "2021-08-19T14:09:58.728489Z"
    },
    "papermill": {
     "duration": 0.063787,
     "end_time": "2021-08-19T16:09:37.503392",
     "exception": false,
     "start_time": "2021-08-19T16:09:37.439605",
     "status": "completed"
    },
    "tags": []
   },
   "outputs": [
    {
     "data": {
      "text/plain": [
       "array([[-0.16690731, -0.4231179 ,  0.2843011 , ..., -0.54597199,\n",
       "        -1.41855821,  0.57136659],\n",
       "       [-0.70711849, -0.24082568,  0.14658083, ..., -0.27709855,\n",
       "        -0.83161516,  0.57136659],\n",
       "       [ 0.68199598, -0.36235383,  0.55974164, ..., -0.61319035,\n",
       "        -0.32852111,  0.57136659],\n",
       "       ...,\n",
       "       [-0.70711849,  1.03521982, -1.299482  , ...,  1.47057878,\n",
       "         0.42611996, -1.75018984],\n",
       "       [-1.0158106 ,  1.85553478, -1.36834214, ...,  1.20170534,\n",
       "        -0.2446721 , -1.75018984],\n",
       "       [-0.93863757, -0.18006161,  1.04176259, ...,  0.86561355,\n",
       "         0.42611996, -1.75018984]])"
      ]
     },
     "execution_count": 26,
     "metadata": {},
     "output_type": "execute_result"
    }
   ],
   "source": [
    "std = StandardScaler()\n",
    "std.fit_transform(x)"
   ]
  },
  {
   "cell_type": "markdown",
   "id": "814f7584",
   "metadata": {
    "papermill": {
     "duration": 0.049106,
     "end_time": "2021-08-19T16:09:37.602122",
     "exception": false,
     "start_time": "2021-08-19T16:09:37.553016",
     "status": "completed"
    },
    "tags": []
   },
   "source": [
    "## 6. Modeling and Predicting"
   ]
  },
  {
   "cell_type": "code",
   "execution_count": 27,
   "id": "2ed86f38",
   "metadata": {
    "execution": {
     "iopub.execute_input": "2021-08-19T16:09:37.707076Z",
     "iopub.status.busy": "2021-08-19T16:09:37.706498Z",
     "iopub.status.idle": "2021-08-19T16:09:37.709917Z",
     "shell.execute_reply": "2021-08-19T16:09:37.709356Z",
     "shell.execute_reply.started": "2021-08-19T14:09:58.748550Z"
    },
    "papermill": {
     "duration": 0.058486,
     "end_time": "2021-08-19T16:09:37.710047",
     "exception": false,
     "start_time": "2021-08-19T16:09:37.651561",
     "status": "completed"
    },
    "tags": []
   },
   "outputs": [],
   "source": [
    "x_train, x_test, y_train, y_test = train_test_split(x,y,test_size = 0.1, random_state = 13) # train_size = 0.8"
   ]
  },
  {
   "cell_type": "markdown",
   "id": "8bbbd3cf",
   "metadata": {
    "papermill": {
     "duration": 0.05039,
     "end_time": "2021-08-19T16:09:37.810343",
     "exception": false,
     "start_time": "2021-08-19T16:09:37.759953",
     "status": "completed"
    },
    "tags": []
   },
   "source": [
    "**Here we are trying MultinomialNB, KNeighborsClassifier, SVC, DecisionTreeClassifier, RandomForestClassifier, GradientBoostingClassifier, XGBClassifier.**"
   ]
  },
  {
   "cell_type": "markdown",
   "id": "6fe150c4",
   "metadata": {
    "papermill": {
     "duration": 0.049114,
     "end_time": "2021-08-19T16:09:37.910740",
     "exception": false,
     "start_time": "2021-08-19T16:09:37.861626",
     "status": "completed"
    },
    "tags": []
   },
   "source": [
    "### Multinomial Naive Bayes Classifier"
   ]
  },
  {
   "cell_type": "code",
   "execution_count": 28,
   "id": "3a72e40f",
   "metadata": {
    "execution": {
     "iopub.execute_input": "2021-08-19T16:09:38.012367Z",
     "iopub.status.busy": "2021-08-19T16:09:38.011792Z",
     "iopub.status.idle": "2021-08-19T16:09:38.021789Z",
     "shell.execute_reply": "2021-08-19T16:09:38.022300Z",
     "shell.execute_reply.started": "2021-08-19T14:09:58.758907Z"
    },
    "papermill": {
     "duration": 0.062597,
     "end_time": "2021-08-19T16:09:38.022469",
     "exception": false,
     "start_time": "2021-08-19T16:09:37.959872",
     "status": "completed"
    },
    "tags": []
   },
   "outputs": [],
   "source": [
    "MNB = MultinomialNB()\n",
    "MNB.fit(x_train, y_train)\n",
    "pred_MNB = MNB.predict(x_test)"
   ]
  },
  {
   "cell_type": "code",
   "execution_count": 29,
   "id": "d036cfac",
   "metadata": {
    "execution": {
     "iopub.execute_input": "2021-08-19T16:09:38.124277Z",
     "iopub.status.busy": "2021-08-19T16:09:38.123414Z",
     "iopub.status.idle": "2021-08-19T16:09:38.132452Z",
     "shell.execute_reply": "2021-08-19T16:09:38.132854Z",
     "shell.execute_reply.started": "2021-08-19T14:09:58.773690Z"
    },
    "papermill": {
     "duration": 0.061442,
     "end_time": "2021-08-19T16:09:38.133023",
     "exception": false,
     "start_time": "2021-08-19T16:09:38.071581",
     "status": "completed"
    },
    "tags": []
   },
   "outputs": [
    {
     "name": "stdout",
     "output_type": "stream",
     "text": [
      "              precision    recall  f1-score   support\n",
      "\n",
      "           0       0.14      0.31      0.20        13\n",
      "           1       0.98      0.94      0.96       635\n",
      "           2       0.07      0.50      0.12         2\n",
      "\n",
      "    accuracy                           0.93       650\n",
      "   macro avg       0.40      0.58      0.42       650\n",
      "weighted avg       0.96      0.93      0.94       650\n",
      "\n"
     ]
    }
   ],
   "source": [
    "print(classification_report(pred_MNB, y_test))"
   ]
  },
  {
   "cell_type": "code",
   "execution_count": 30,
   "id": "1632829f",
   "metadata": {
    "execution": {
     "iopub.execute_input": "2021-08-19T16:09:38.236984Z",
     "iopub.status.busy": "2021-08-19T16:09:38.236038Z",
     "iopub.status.idle": "2021-08-19T16:09:38.243815Z",
     "shell.execute_reply": "2021-08-19T16:09:38.243234Z",
     "shell.execute_reply.started": "2021-08-19T14:09:58.785259Z"
    },
    "papermill": {
     "duration": 0.060941,
     "end_time": "2021-08-19T16:09:38.243947",
     "exception": false,
     "start_time": "2021-08-19T16:09:38.183006",
     "status": "completed"
    },
    "tags": []
   },
   "outputs": [
    {
     "data": {
      "text/plain": [
       "array([[  4,   9,   0],\n",
       "       [ 24, 597,  14],\n",
       "       [  0,   1,   1]])"
      ]
     },
     "execution_count": 30,
     "metadata": {},
     "output_type": "execute_result"
    }
   ],
   "source": [
    "confusion_matrix(pred_MNB, y_test)"
   ]
  },
  {
   "cell_type": "markdown",
   "id": "0a5d30ce",
   "metadata": {
    "papermill": {
     "duration": 0.049445,
     "end_time": "2021-08-19T16:09:38.343303",
     "exception": false,
     "start_time": "2021-08-19T16:09:38.293858",
     "status": "completed"
    },
    "tags": []
   },
   "source": [
    "### K Neighbors Classifier"
   ]
  },
  {
   "cell_type": "code",
   "execution_count": 31,
   "id": "65ab8686",
   "metadata": {
    "execution": {
     "iopub.execute_input": "2021-08-19T16:09:38.449361Z",
     "iopub.status.busy": "2021-08-19T16:09:38.448725Z",
     "iopub.status.idle": "2021-08-19T16:09:38.487406Z",
     "shell.execute_reply": "2021-08-19T16:09:38.486254Z",
     "shell.execute_reply.started": "2021-08-19T14:09:58.798866Z"
    },
    "papermill": {
     "duration": 0.094346,
     "end_time": "2021-08-19T16:09:38.487556",
     "exception": false,
     "start_time": "2021-08-19T16:09:38.393210",
     "status": "completed"
    },
    "tags": []
   },
   "outputs": [],
   "source": [
    "KNC = KNeighborsClassifier()\n",
    "KNC.fit(x_train, y_train)\n",
    "pred_KNC = KNC.predict(x_test)"
   ]
  },
  {
   "cell_type": "code",
   "execution_count": 32,
   "id": "71235de0",
   "metadata": {
    "execution": {
     "iopub.execute_input": "2021-08-19T16:09:38.595115Z",
     "iopub.status.busy": "2021-08-19T16:09:38.594488Z",
     "iopub.status.idle": "2021-08-19T16:09:38.603632Z",
     "shell.execute_reply": "2021-08-19T16:09:38.602767Z",
     "shell.execute_reply.started": "2021-08-19T14:09:58.842706Z"
    },
    "papermill": {
     "duration": 0.064994,
     "end_time": "2021-08-19T16:09:38.603828",
     "exception": false,
     "start_time": "2021-08-19T16:09:38.538834",
     "status": "completed"
    },
    "tags": []
   },
   "outputs": [
    {
     "name": "stdout",
     "output_type": "stream",
     "text": [
      "              precision    recall  f1-score   support\n",
      "\n",
      "           0       0.11      1.00      0.19         3\n",
      "           1       1.00      0.94      0.97       644\n",
      "           2       0.13      0.67      0.22         3\n",
      "\n",
      "    accuracy                           0.94       650\n",
      "   macro avg       0.41      0.87      0.46       650\n",
      "weighted avg       0.99      0.94      0.96       650\n",
      "\n"
     ]
    }
   ],
   "source": [
    "print(classification_report(pred_KNC, y_test))"
   ]
  },
  {
   "cell_type": "code",
   "execution_count": 33,
   "id": "17b435e1",
   "metadata": {
    "execution": {
     "iopub.execute_input": "2021-08-19T16:09:38.709012Z",
     "iopub.status.busy": "2021-08-19T16:09:38.708143Z",
     "iopub.status.idle": "2021-08-19T16:09:38.713939Z",
     "shell.execute_reply": "2021-08-19T16:09:38.714354Z",
     "shell.execute_reply.started": "2021-08-19T14:09:58.853048Z"
    },
    "papermill": {
     "duration": 0.060354,
     "end_time": "2021-08-19T16:09:38.714513",
     "exception": false,
     "start_time": "2021-08-19T16:09:38.654159",
     "status": "completed"
    },
    "tags": []
   },
   "outputs": [
    {
     "data": {
      "text/plain": [
       "array([[  3,   0,   0],\n",
       "       [ 25, 606,  13],\n",
       "       [  0,   1,   2]])"
      ]
     },
     "execution_count": 33,
     "metadata": {},
     "output_type": "execute_result"
    }
   ],
   "source": [
    "confusion_matrix(pred_KNC, y_test)"
   ]
  },
  {
   "cell_type": "markdown",
   "id": "53c5411e",
   "metadata": {
    "papermill": {
     "duration": 0.049894,
     "end_time": "2021-08-19T16:09:38.814335",
     "exception": false,
     "start_time": "2021-08-19T16:09:38.764441",
     "status": "completed"
    },
    "tags": []
   },
   "source": [
    "### Support Vector Machine Classifier"
   ]
  },
  {
   "cell_type": "code",
   "execution_count": 34,
   "id": "bb3b0a65",
   "metadata": {
    "execution": {
     "iopub.execute_input": "2021-08-19T16:09:38.922496Z",
     "iopub.status.busy": "2021-08-19T16:09:38.921508Z",
     "iopub.status.idle": "2021-08-19T16:09:39.469409Z",
     "shell.execute_reply": "2021-08-19T16:09:39.468919Z",
     "shell.execute_reply.started": "2021-08-19T14:09:58.863836Z"
    },
    "papermill": {
     "duration": 0.60438,
     "end_time": "2021-08-19T16:09:39.469551",
     "exception": false,
     "start_time": "2021-08-19T16:09:38.865171",
     "status": "completed"
    },
    "tags": []
   },
   "outputs": [],
   "source": [
    "SVC = SVC()\n",
    "SVC.fit(x_train, y_train)\n",
    "pred_SVC = SVC.predict(x_test)"
   ]
  },
  {
   "cell_type": "code",
   "execution_count": 35,
   "id": "5ad92ed6",
   "metadata": {
    "execution": {
     "iopub.execute_input": "2021-08-19T16:09:39.580314Z",
     "iopub.status.busy": "2021-08-19T16:09:39.579705Z",
     "iopub.status.idle": "2021-08-19T16:09:39.586987Z",
     "shell.execute_reply": "2021-08-19T16:09:39.586509Z",
     "shell.execute_reply.started": "2021-08-19T14:09:59.417289Z"
    },
    "papermill": {
     "duration": 0.065676,
     "end_time": "2021-08-19T16:09:39.587143",
     "exception": false,
     "start_time": "2021-08-19T16:09:39.521467",
     "status": "completed"
    },
    "tags": []
   },
   "outputs": [
    {
     "name": "stdout",
     "output_type": "stream",
     "text": [
      "              precision    recall  f1-score   support\n",
      "\n",
      "           0       0.00      0.00      0.00         0\n",
      "           1       1.00      0.93      0.97       650\n",
      "           2       0.00      0.00      0.00         0\n",
      "\n",
      "    accuracy                           0.93       650\n",
      "   macro avg       0.33      0.31      0.32       650\n",
      "weighted avg       1.00      0.93      0.97       650\n",
      "\n"
     ]
    }
   ],
   "source": [
    "print(classification_report(pred_SVC, y_test))"
   ]
  },
  {
   "cell_type": "code",
   "execution_count": 36,
   "id": "c689c842",
   "metadata": {
    "execution": {
     "iopub.execute_input": "2021-08-19T16:09:39.691818Z",
     "iopub.status.busy": "2021-08-19T16:09:39.691026Z",
     "iopub.status.idle": "2021-08-19T16:09:39.697062Z",
     "shell.execute_reply": "2021-08-19T16:09:39.696599Z",
     "shell.execute_reply.started": "2021-08-19T14:09:59.427626Z"
    },
    "papermill": {
     "duration": 0.06001,
     "end_time": "2021-08-19T16:09:39.697216",
     "exception": false,
     "start_time": "2021-08-19T16:09:39.637206",
     "status": "completed"
    },
    "tags": []
   },
   "outputs": [
    {
     "data": {
      "text/plain": [
       "array([[  0,   0,   0],\n",
       "       [ 28, 607,  15],\n",
       "       [  0,   0,   0]])"
      ]
     },
     "execution_count": 36,
     "metadata": {},
     "output_type": "execute_result"
    }
   ],
   "source": [
    "confusion_matrix(pred_SVC, y_test)"
   ]
  },
  {
   "cell_type": "markdown",
   "id": "113afe18",
   "metadata": {
    "papermill": {
     "duration": 0.050839,
     "end_time": "2021-08-19T16:09:39.799033",
     "exception": false,
     "start_time": "2021-08-19T16:09:39.748194",
     "status": "completed"
    },
    "tags": []
   },
   "source": [
    "### Decision Tree Classifier"
   ]
  },
  {
   "cell_type": "code",
   "execution_count": 37,
   "id": "0253bad2",
   "metadata": {
    "execution": {
     "iopub.execute_input": "2021-08-19T16:09:39.909945Z",
     "iopub.status.busy": "2021-08-19T16:09:39.909346Z",
     "iopub.status.idle": "2021-08-19T16:09:39.977820Z",
     "shell.execute_reply": "2021-08-19T16:09:39.977264Z",
     "shell.execute_reply.started": "2021-08-19T14:19:01.345355Z"
    },
    "papermill": {
     "duration": 0.127823,
     "end_time": "2021-08-19T16:09:39.977958",
     "exception": false,
     "start_time": "2021-08-19T16:09:39.850135",
     "status": "completed"
    },
    "tags": []
   },
   "outputs": [],
   "source": [
    "DTC = DecisionTreeClassifier()\n",
    "DTC.fit(x_train, y_train)\n",
    "pred_DTC = DTC.predict(x_test)"
   ]
  },
  {
   "cell_type": "code",
   "execution_count": 38,
   "id": "4f8a06eb",
   "metadata": {
    "execution": {
     "iopub.execute_input": "2021-08-19T16:09:40.085262Z",
     "iopub.status.busy": "2021-08-19T16:09:40.083724Z",
     "iopub.status.idle": "2021-08-19T16:09:40.091744Z",
     "shell.execute_reply": "2021-08-19T16:09:40.091135Z",
     "shell.execute_reply.started": "2021-08-19T14:19:02.671375Z"
    },
    "papermill": {
     "duration": 0.06302,
     "end_time": "2021-08-19T16:09:40.091881",
     "exception": false,
     "start_time": "2021-08-19T16:09:40.028861",
     "status": "completed"
    },
    "tags": []
   },
   "outputs": [
    {
     "name": "stdout",
     "output_type": "stream",
     "text": [
      "              precision    recall  f1-score   support\n",
      "\n",
      "           0       0.18      0.19      0.19        26\n",
      "           1       0.94      0.95      0.94       601\n",
      "           2       0.47      0.30      0.37        23\n",
      "\n",
      "    accuracy                           0.90       650\n",
      "   macro avg       0.53      0.48      0.50       650\n",
      "weighted avg       0.89      0.90      0.89       650\n",
      "\n"
     ]
    }
   ],
   "source": [
    "print(classification_report(pred_DTC, y_test))"
   ]
  },
  {
   "cell_type": "code",
   "execution_count": 39,
   "id": "67e5b458",
   "metadata": {
    "execution": {
     "iopub.execute_input": "2021-08-19T16:09:40.198725Z",
     "iopub.status.busy": "2021-08-19T16:09:40.198160Z",
     "iopub.status.idle": "2021-08-19T16:09:40.202063Z",
     "shell.execute_reply": "2021-08-19T16:09:40.202603Z",
     "shell.execute_reply.started": "2021-08-19T14:19:03.016566Z"
    },
    "papermill": {
     "duration": 0.059314,
     "end_time": "2021-08-19T16:09:40.202769",
     "exception": false,
     "start_time": "2021-08-19T16:09:40.143455",
     "status": "completed"
    },
    "tags": []
   },
   "outputs": [
    {
     "data": {
      "text/plain": [
       "array([[  5,  21,   0],\n",
       "       [ 23, 570,   8],\n",
       "       [  0,  16,   7]])"
      ]
     },
     "execution_count": 39,
     "metadata": {},
     "output_type": "execute_result"
    }
   ],
   "source": [
    "confusion_matrix(pred_DTC, y_test)"
   ]
  },
  {
   "cell_type": "markdown",
   "id": "eb41030c",
   "metadata": {
    "papermill": {
     "duration": 0.051028,
     "end_time": "2021-08-19T16:09:40.304832",
     "exception": false,
     "start_time": "2021-08-19T16:09:40.253804",
     "status": "completed"
    },
    "tags": []
   },
   "source": [
    "### Random Forest Classifier"
   ]
  },
  {
   "cell_type": "code",
   "execution_count": 40,
   "id": "aa836d2a",
   "metadata": {
    "execution": {
     "iopub.execute_input": "2021-08-19T16:09:40.412507Z",
     "iopub.status.busy": "2021-08-19T16:09:40.411872Z",
     "iopub.status.idle": "2021-08-19T16:09:41.608438Z",
     "shell.execute_reply": "2021-08-19T16:09:41.608865Z",
     "shell.execute_reply.started": "2021-08-19T14:19:07.260362Z"
    },
    "papermill": {
     "duration": 1.252963,
     "end_time": "2021-08-19T16:09:41.609044",
     "exception": false,
     "start_time": "2021-08-19T16:09:40.356081",
     "status": "completed"
    },
    "tags": []
   },
   "outputs": [],
   "source": [
    "RFC = RandomForestClassifier()\n",
    "RFC.fit(x_train, y_train)\n",
    "pred_RFC = RFC.predict(x_test)"
   ]
  },
  {
   "cell_type": "code",
   "execution_count": 41,
   "id": "2f4301d3",
   "metadata": {
    "execution": {
     "iopub.execute_input": "2021-08-19T16:09:41.717325Z",
     "iopub.status.busy": "2021-08-19T16:09:41.716627Z",
     "iopub.status.idle": "2021-08-19T16:09:41.727488Z",
     "shell.execute_reply": "2021-08-19T16:09:41.726708Z",
     "shell.execute_reply.started": "2021-08-19T14:19:08.487979Z"
    },
    "papermill": {
     "duration": 0.066722,
     "end_time": "2021-08-19T16:09:41.727712",
     "exception": false,
     "start_time": "2021-08-19T16:09:41.660990",
     "status": "completed"
    },
    "tags": []
   },
   "outputs": [
    {
     "name": "stdout",
     "output_type": "stream",
     "text": [
      "              precision    recall  f1-score   support\n",
      "\n",
      "           0       0.07      0.67      0.13         3\n",
      "           1       1.00      0.94      0.97       641\n",
      "           2       0.33      0.83      0.48         6\n",
      "\n",
      "    accuracy                           0.94       650\n",
      "   macro avg       0.47      0.81      0.52       650\n",
      "weighted avg       0.99      0.94      0.96       650\n",
      "\n"
     ]
    }
   ],
   "source": [
    "print(classification_report(pred_RFC, y_test))"
   ]
  },
  {
   "cell_type": "code",
   "execution_count": 42,
   "id": "fb0c3c26",
   "metadata": {
    "execution": {
     "iopub.execute_input": "2021-08-19T16:09:41.837931Z",
     "iopub.status.busy": "2021-08-19T16:09:41.837019Z",
     "iopub.status.idle": "2021-08-19T16:09:41.843608Z",
     "shell.execute_reply": "2021-08-19T16:09:41.843130Z",
     "shell.execute_reply.started": "2021-08-19T14:19:08.501876Z"
    },
    "papermill": {
     "duration": 0.062096,
     "end_time": "2021-08-19T16:09:41.843735",
     "exception": false,
     "start_time": "2021-08-19T16:09:41.781639",
     "status": "completed"
    },
    "tags": []
   },
   "outputs": [
    {
     "data": {
      "text/plain": [
       "array([[  2,   1,   0],\n",
       "       [ 26, 605,  10],\n",
       "       [  0,   1,   5]])"
      ]
     },
     "execution_count": 42,
     "metadata": {},
     "output_type": "execute_result"
    }
   ],
   "source": [
    "confusion_matrix(pred_RFC, y_test)"
   ]
  },
  {
   "cell_type": "markdown",
   "id": "f9211c80",
   "metadata": {
    "papermill": {
     "duration": 0.051894,
     "end_time": "2021-08-19T16:09:41.948576",
     "exception": false,
     "start_time": "2021-08-19T16:09:41.896682",
     "status": "completed"
    },
    "tags": []
   },
   "source": [
    "### Gradient Boosting Classifier"
   ]
  },
  {
   "cell_type": "code",
   "execution_count": 43,
   "id": "54065378",
   "metadata": {
    "execution": {
     "iopub.execute_input": "2021-08-19T16:09:42.059876Z",
     "iopub.status.busy": "2021-08-19T16:09:42.058853Z",
     "iopub.status.idle": "2021-08-19T16:09:45.964461Z",
     "shell.execute_reply": "2021-08-19T16:09:45.963942Z",
     "shell.execute_reply.started": "2021-08-19T14:19:51.463672Z"
    },
    "papermill": {
     "duration": 3.963949,
     "end_time": "2021-08-19T16:09:45.964611",
     "exception": false,
     "start_time": "2021-08-19T16:09:42.000662",
     "status": "completed"
    },
    "tags": []
   },
   "outputs": [],
   "source": [
    "GBC = GradientBoostingClassifier()\n",
    "GBC.fit(x_train, y_train)\n",
    "pred_GBC = GBC.predict(x_test)"
   ]
  },
  {
   "cell_type": "code",
   "execution_count": 44,
   "id": "689caa0d",
   "metadata": {
    "execution": {
     "iopub.execute_input": "2021-08-19T16:09:46.075123Z",
     "iopub.status.busy": "2021-08-19T16:09:46.074437Z",
     "iopub.status.idle": "2021-08-19T16:09:46.081708Z",
     "shell.execute_reply": "2021-08-19T16:09:46.082295Z",
     "shell.execute_reply.started": "2021-08-19T14:19:55.426619Z"
    },
    "papermill": {
     "duration": 0.066174,
     "end_time": "2021-08-19T16:09:46.082473",
     "exception": false,
     "start_time": "2021-08-19T16:09:46.016299",
     "status": "completed"
    },
    "tags": []
   },
   "outputs": [
    {
     "name": "stdout",
     "output_type": "stream",
     "text": [
      "              precision    recall  f1-score   support\n",
      "\n",
      "           0       0.11      0.60      0.18         5\n",
      "           1       0.99      0.94      0.97       642\n",
      "           2       0.07      0.33      0.11         3\n",
      "\n",
      "    accuracy                           0.93       650\n",
      "   macro avg       0.39      0.62      0.42       650\n",
      "weighted avg       0.98      0.93      0.96       650\n",
      "\n"
     ]
    }
   ],
   "source": [
    "print(classification_report(pred_GBC, y_test))"
   ]
  },
  {
   "cell_type": "code",
   "execution_count": 45,
   "id": "cc72f4e1",
   "metadata": {
    "execution": {
     "iopub.execute_input": "2021-08-19T16:09:46.192016Z",
     "iopub.status.busy": "2021-08-19T16:09:46.191419Z",
     "iopub.status.idle": "2021-08-19T16:09:46.197294Z",
     "shell.execute_reply": "2021-08-19T16:09:46.197756Z",
     "shell.execute_reply.started": "2021-08-19T14:19:55.438416Z"
    },
    "papermill": {
     "duration": 0.061778,
     "end_time": "2021-08-19T16:09:46.197920",
     "exception": false,
     "start_time": "2021-08-19T16:09:46.136142",
     "status": "completed"
    },
    "tags": []
   },
   "outputs": [
    {
     "data": {
      "text/plain": [
       "array([[  3,   2,   0],\n",
       "       [ 25, 603,  14],\n",
       "       [  0,   2,   1]])"
      ]
     },
     "execution_count": 45,
     "metadata": {},
     "output_type": "execute_result"
    }
   ],
   "source": [
    "confusion_matrix(pred_GBC, y_test)"
   ]
  },
  {
   "cell_type": "markdown",
   "id": "abd152d7",
   "metadata": {
    "papermill": {
     "duration": 0.05148,
     "end_time": "2021-08-19T16:09:46.301638",
     "exception": false,
     "start_time": "2021-08-19T16:09:46.250158",
     "status": "completed"
    },
    "tags": []
   },
   "source": [
    "### Extreme Gradient Boosting Classifier"
   ]
  },
  {
   "cell_type": "code",
   "execution_count": 46,
   "id": "cf90a7b3",
   "metadata": {
    "execution": {
     "iopub.execute_input": "2021-08-19T16:09:46.408086Z",
     "iopub.status.busy": "2021-08-19T16:09:46.407531Z",
     "iopub.status.idle": "2021-08-19T16:09:47.383776Z",
     "shell.execute_reply": "2021-08-19T16:09:47.384343Z",
     "shell.execute_reply.started": "2021-08-19T14:20:39.833423Z"
    },
    "papermill": {
     "duration": 1.030989,
     "end_time": "2021-08-19T16:09:47.384540",
     "exception": false,
     "start_time": "2021-08-19T16:09:46.353551",
     "status": "completed"
    },
    "tags": []
   },
   "outputs": [
    {
     "name": "stdout",
     "output_type": "stream",
     "text": [
      "[16:09:46] WARNING: ../src/learner.cc:1095: Starting in XGBoost 1.3.0, the default evaluation metric used with the objective 'multi:softprob' was changed from 'merror' to 'mlogloss'. Explicitly set eval_metric if you'd like to restore the old behavior.\n"
     ]
    }
   ],
   "source": [
    "XGBC = XGBClassifier()\n",
    "XGBC.fit(x_train, y_train)\n",
    "pred_XGBC = XGBC.predict(x_test)"
   ]
  },
  {
   "cell_type": "code",
   "execution_count": 47,
   "id": "311001ff",
   "metadata": {
    "execution": {
     "iopub.execute_input": "2021-08-19T16:09:47.491707Z",
     "iopub.status.busy": "2021-08-19T16:09:47.491160Z",
     "iopub.status.idle": "2021-08-19T16:09:47.499942Z",
     "shell.execute_reply": "2021-08-19T16:09:47.500408Z",
     "shell.execute_reply.started": "2021-08-19T14:20:40.831152Z"
    },
    "papermill": {
     "duration": 0.063521,
     "end_time": "2021-08-19T16:09:47.500578",
     "exception": false,
     "start_time": "2021-08-19T16:09:47.437057",
     "status": "completed"
    },
    "tags": []
   },
   "outputs": [
    {
     "name": "stdout",
     "output_type": "stream",
     "text": [
      "              precision    recall  f1-score   support\n",
      "\n",
      "           0       0.14      0.57      0.23         7\n",
      "           1       0.99      0.95      0.97       632\n",
      "           2       0.47      0.64      0.54        11\n",
      "\n",
      "    accuracy                           0.94       650\n",
      "   macro avg       0.53      0.72      0.58       650\n",
      "weighted avg       0.97      0.94      0.95       650\n",
      "\n"
     ]
    }
   ],
   "source": [
    "print(classification_report(pred_XGBC, y_test))"
   ]
  },
  {
   "cell_type": "code",
   "execution_count": 48,
   "id": "dc579f21",
   "metadata": {
    "execution": {
     "iopub.execute_input": "2021-08-19T16:09:47.611367Z",
     "iopub.status.busy": "2021-08-19T16:09:47.610793Z",
     "iopub.status.idle": "2021-08-19T16:09:47.615972Z",
     "shell.execute_reply": "2021-08-19T16:09:47.616420Z",
     "shell.execute_reply.started": "2021-08-19T14:20:40.845574Z"
    },
    "papermill": {
     "duration": 0.062123,
     "end_time": "2021-08-19T16:09:47.616578",
     "exception": false,
     "start_time": "2021-08-19T16:09:47.554455",
     "status": "completed"
    },
    "tags": []
   },
   "outputs": [
    {
     "data": {
      "text/plain": [
       "array([[  4,   3,   0],\n",
       "       [ 24, 600,   8],\n",
       "       [  0,   4,   7]])"
      ]
     },
     "execution_count": 48,
     "metadata": {},
     "output_type": "execute_result"
    }
   ],
   "source": [
    "confusion_matrix(pred_XGBC, y_test)"
   ]
  }
 ],
 "metadata": {
  "kernelspec": {
   "display_name": "Python 3",
   "language": "python",
   "name": "python3"
  },
  "language_info": {
   "codemirror_mode": {
    "name": "ipython",
    "version": 3
   },
   "file_extension": ".py",
   "mimetype": "text/x-python",
   "name": "python",
   "nbconvert_exporter": "python",
   "pygments_lexer": "ipython3",
   "version": "3.7.10"
  },
  "papermill": {
   "default_parameters": {},
   "duration": 26.372996,
   "end_time": "2021-08-19T16:09:48.479234",
   "environment_variables": {},
   "exception": null,
   "input_path": "__notebook__.ipynb",
   "output_path": "__notebook__.ipynb",
   "parameters": {},
   "start_time": "2021-08-19T16:09:22.106238",
   "version": "2.3.3"
  }
 },
 "nbformat": 4,
 "nbformat_minor": 5
}
